{
 "cells": [
  {
   "cell_type": "code",
   "execution_count": 2,
   "metadata": {},
   "outputs": [],
   "source": [
    "import pandas as pd\n",
    "import os\n",
    "import plotly.express as px"
   ]
  },
  {
   "cell_type": "markdown",
   "metadata": {},
   "source": [
    "## Building the Risk Factors Barplot \n",
    "Sex: \"a=All (females and males); f=Females; m=Males\"\n",
    "\n",
    "\n",
    "#### Notes:\n",
    "1. We want to display 'all' when a toggle for a specific sex or age_group is not clicked\n"
   ]
  },
  {
   "cell_type": "code",
   "execution_count": 3,
   "metadata": {},
   "outputs": [],
   "source": [
    "os.chdir('..')"
   ]
  },
  {
   "cell_type": "code",
   "execution_count": 4,
   "metadata": {},
   "outputs": [],
   "source": [
    "riskfacs = pd.read_csv(\"data/raw/TB_burden_age_sex_2024-03-26.csv\")"
   ]
  },
  {
   "cell_type": "code",
   "execution_count": 5,
   "metadata": {},
   "outputs": [
    {
     "data": {
      "text/html": [
       "<div>\n",
       "<style scoped>\n",
       "    .dataframe tbody tr th:only-of-type {\n",
       "        vertical-align: middle;\n",
       "    }\n",
       "\n",
       "    .dataframe tbody tr th {\n",
       "        vertical-align: top;\n",
       "    }\n",
       "\n",
       "    .dataframe thead th {\n",
       "        text-align: right;\n",
       "    }\n",
       "</style>\n",
       "<table border=\"1\" class=\"dataframe\">\n",
       "  <thead>\n",
       "    <tr style=\"text-align: right;\">\n",
       "      <th></th>\n",
       "      <th>age_group</th>\n",
       "      <th>sex</th>\n",
       "      <th>best</th>\n",
       "    </tr>\n",
       "  </thead>\n",
       "  <tbody>\n",
       "    <tr>\n",
       "      <th>1</th>\n",
       "      <td>0-14</td>\n",
       "      <td>f</td>\n",
       "      <td>40000</td>\n",
       "    </tr>\n",
       "    <tr>\n",
       "      <th>2</th>\n",
       "      <td>0-14</td>\n",
       "      <td>m</td>\n",
       "      <td>42000</td>\n",
       "    </tr>\n",
       "    <tr>\n",
       "      <th>3</th>\n",
       "      <td>0-4</td>\n",
       "      <td>f</td>\n",
       "      <td>17000</td>\n",
       "    </tr>\n",
       "    <tr>\n",
       "      <th>4</th>\n",
       "      <td>0-4</td>\n",
       "      <td>m</td>\n",
       "      <td>20000</td>\n",
       "    </tr>\n",
       "    <tr>\n",
       "      <th>5</th>\n",
       "      <td>15-24</td>\n",
       "      <td>f</td>\n",
       "      <td>43000</td>\n",
       "    </tr>\n",
       "    <tr>\n",
       "      <th>6</th>\n",
       "      <td>15-24</td>\n",
       "      <td>m</td>\n",
       "      <td>60000</td>\n",
       "    </tr>\n",
       "    <tr>\n",
       "      <th>8</th>\n",
       "      <td>15plus</td>\n",
       "      <td>f</td>\n",
       "      <td>230730</td>\n",
       "    </tr>\n",
       "    <tr>\n",
       "      <th>9</th>\n",
       "      <td>15plus</td>\n",
       "      <td>m</td>\n",
       "      <td>341100</td>\n",
       "    </tr>\n",
       "    <tr>\n",
       "      <th>11</th>\n",
       "      <td>18plus</td>\n",
       "      <td>f</td>\n",
       "      <td>13000</td>\n",
       "    </tr>\n",
       "    <tr>\n",
       "      <th>12</th>\n",
       "      <td>18plus</td>\n",
       "      <td>m</td>\n",
       "      <td>18000</td>\n",
       "    </tr>\n",
       "    <tr>\n",
       "      <th>13</th>\n",
       "      <td>25-34</td>\n",
       "      <td>f</td>\n",
       "      <td>38000</td>\n",
       "    </tr>\n",
       "    <tr>\n",
       "      <th>14</th>\n",
       "      <td>25-34</td>\n",
       "      <td>m</td>\n",
       "      <td>45000</td>\n",
       "    </tr>\n",
       "    <tr>\n",
       "      <th>15</th>\n",
       "      <td>35-44</td>\n",
       "      <td>f</td>\n",
       "      <td>36000</td>\n",
       "    </tr>\n",
       "    <tr>\n",
       "      <th>16</th>\n",
       "      <td>35-44</td>\n",
       "      <td>m</td>\n",
       "      <td>49000</td>\n",
       "    </tr>\n",
       "    <tr>\n",
       "      <th>17</th>\n",
       "      <td>45-54</td>\n",
       "      <td>f</td>\n",
       "      <td>33000</td>\n",
       "    </tr>\n",
       "    <tr>\n",
       "      <th>18</th>\n",
       "      <td>45-54</td>\n",
       "      <td>m</td>\n",
       "      <td>46000</td>\n",
       "    </tr>\n",
       "    <tr>\n",
       "      <th>19</th>\n",
       "      <td>5-14</td>\n",
       "      <td>f</td>\n",
       "      <td>23000</td>\n",
       "    </tr>\n",
       "    <tr>\n",
       "      <th>20</th>\n",
       "      <td>5-14</td>\n",
       "      <td>m</td>\n",
       "      <td>22000</td>\n",
       "    </tr>\n",
       "    <tr>\n",
       "      <th>21</th>\n",
       "      <td>55-64</td>\n",
       "      <td>f</td>\n",
       "      <td>29000</td>\n",
       "    </tr>\n",
       "    <tr>\n",
       "      <th>22</th>\n",
       "      <td>55-64</td>\n",
       "      <td>m</td>\n",
       "      <td>39000</td>\n",
       "    </tr>\n",
       "    <tr>\n",
       "      <th>23</th>\n",
       "      <td>65plus</td>\n",
       "      <td>f</td>\n",
       "      <td>47000</td>\n",
       "    </tr>\n",
       "    <tr>\n",
       "      <th>24</th>\n",
       "      <td>65plus</td>\n",
       "      <td>m</td>\n",
       "      <td>61000</td>\n",
       "    </tr>\n",
       "  </tbody>\n",
       "</table>\n",
       "</div>"
      ],
      "text/plain": [
       "   age_group sex    best\n",
       "1       0-14   f   40000\n",
       "2       0-14   m   42000\n",
       "3        0-4   f   17000\n",
       "4        0-4   m   20000\n",
       "5      15-24   f   43000\n",
       "6      15-24   m   60000\n",
       "8     15plus   f  230730\n",
       "9     15plus   m  341100\n",
       "11    18plus   f   13000\n",
       "12    18plus   m   18000\n",
       "13     25-34   f   38000\n",
       "14     25-34   m   45000\n",
       "15     35-44   f   36000\n",
       "16     35-44   m   49000\n",
       "17     45-54   f   33000\n",
       "18     45-54   m   46000\n",
       "19      5-14   f   23000\n",
       "20      5-14   m   22000\n",
       "21     55-64   f   29000\n",
       "22     55-64   m   39000\n",
       "23    65plus   f   47000\n",
       "24    65plus   m   61000"
      ]
     },
     "execution_count": 5,
     "metadata": {},
     "output_type": "execute_result"
    }
   ],
   "source": [
    "# select country\n",
    "riskfacs_pakistan = riskfacs.loc[riskfacs[\"country\"] == 'Pakistan']\n",
    "# default: show both sexes and all age groups (both without 'all') \n",
    "# we only show \"all\" if selected\n",
    "rfs_pak_age_sex = riskfacs_pakistan.groupby(['age_group', 'sex'], as_index=False)['best'].sum()\n",
    "rfs_pak_age_sex_w_all = rfs_pak_age_sex.loc[(rfs_pak_age_sex[\"sex\"] != 'a') & (rfs_pak_age_sex[\"age_group\"] != 'all')]\n",
    "rfs_pak_age_sex_w_all"
   ]
  },
  {
   "cell_type": "code",
   "execution_count": 6,
   "metadata": {},
   "outputs": [
    {
     "data": {
      "text/html": [
       "<div>\n",
       "<style scoped>\n",
       "    .dataframe tbody tr th:only-of-type {\n",
       "        vertical-align: middle;\n",
       "    }\n",
       "\n",
       "    .dataframe tbody tr th {\n",
       "        vertical-align: top;\n",
       "    }\n",
       "\n",
       "    .dataframe thead th {\n",
       "        text-align: right;\n",
       "    }\n",
       "</style>\n",
       "<table border=\"1\" class=\"dataframe\">\n",
       "  <thead>\n",
       "    <tr style=\"text-align: right;\">\n",
       "      <th></th>\n",
       "      <th>age_group</th>\n",
       "      <th>sex</th>\n",
       "      <th>best</th>\n",
       "    </tr>\n",
       "  </thead>\n",
       "  <tbody>\n",
       "    <tr>\n",
       "      <th>3</th>\n",
       "      <td>0-4</td>\n",
       "      <td>f</td>\n",
       "      <td>17000</td>\n",
       "    </tr>\n",
       "    <tr>\n",
       "      <th>4</th>\n",
       "      <td>0-4</td>\n",
       "      <td>m</td>\n",
       "      <td>20000</td>\n",
       "    </tr>\n",
       "    <tr>\n",
       "      <th>19</th>\n",
       "      <td>5-14</td>\n",
       "      <td>f</td>\n",
       "      <td>23000</td>\n",
       "    </tr>\n",
       "    <tr>\n",
       "      <th>20</th>\n",
       "      <td>5-14</td>\n",
       "      <td>m</td>\n",
       "      <td>22000</td>\n",
       "    </tr>\n",
       "    <tr>\n",
       "      <th>5</th>\n",
       "      <td>15-24</td>\n",
       "      <td>f</td>\n",
       "      <td>43000</td>\n",
       "    </tr>\n",
       "    <tr>\n",
       "      <th>6</th>\n",
       "      <td>15-24</td>\n",
       "      <td>m</td>\n",
       "      <td>60000</td>\n",
       "    </tr>\n",
       "    <tr>\n",
       "      <th>13</th>\n",
       "      <td>25-34</td>\n",
       "      <td>f</td>\n",
       "      <td>38000</td>\n",
       "    </tr>\n",
       "    <tr>\n",
       "      <th>14</th>\n",
       "      <td>25-34</td>\n",
       "      <td>m</td>\n",
       "      <td>45000</td>\n",
       "    </tr>\n",
       "    <tr>\n",
       "      <th>15</th>\n",
       "      <td>35-44</td>\n",
       "      <td>f</td>\n",
       "      <td>36000</td>\n",
       "    </tr>\n",
       "    <tr>\n",
       "      <th>16</th>\n",
       "      <td>35-44</td>\n",
       "      <td>m</td>\n",
       "      <td>49000</td>\n",
       "    </tr>\n",
       "    <tr>\n",
       "      <th>17</th>\n",
       "      <td>45-54</td>\n",
       "      <td>f</td>\n",
       "      <td>33000</td>\n",
       "    </tr>\n",
       "    <tr>\n",
       "      <th>18</th>\n",
       "      <td>45-54</td>\n",
       "      <td>m</td>\n",
       "      <td>46000</td>\n",
       "    </tr>\n",
       "    <tr>\n",
       "      <th>21</th>\n",
       "      <td>55-64</td>\n",
       "      <td>f</td>\n",
       "      <td>29000</td>\n",
       "    </tr>\n",
       "    <tr>\n",
       "      <th>22</th>\n",
       "      <td>55-64</td>\n",
       "      <td>m</td>\n",
       "      <td>39000</td>\n",
       "    </tr>\n",
       "    <tr>\n",
       "      <th>23</th>\n",
       "      <td>65plus</td>\n",
       "      <td>f</td>\n",
       "      <td>47000</td>\n",
       "    </tr>\n",
       "    <tr>\n",
       "      <th>24</th>\n",
       "      <td>65plus</td>\n",
       "      <td>m</td>\n",
       "      <td>61000</td>\n",
       "    </tr>\n",
       "  </tbody>\n",
       "</table>\n",
       "</div>"
      ],
      "text/plain": [
       "   age_group sex   best\n",
       "3        0-4   f  17000\n",
       "4        0-4   m  20000\n",
       "19      5-14   f  23000\n",
       "20      5-14   m  22000\n",
       "5      15-24   f  43000\n",
       "6      15-24   m  60000\n",
       "13     25-34   f  38000\n",
       "14     25-34   m  45000\n",
       "15     35-44   f  36000\n",
       "16     35-44   m  49000\n",
       "17     45-54   f  33000\n",
       "18     45-54   m  46000\n",
       "21     55-64   f  29000\n",
       "22     55-64   m  39000\n",
       "23    65plus   f  47000\n",
       "24    65plus   m  61000"
      ]
     },
     "execution_count": 6,
     "metadata": {},
     "output_type": "execute_result"
    }
   ],
   "source": [
    "# order age_group and omitting the following redundant groups: '0-14', '15plus' '18plus'\n",
    "\n",
    "rfs_pak_age_sex_w_all = rfs_pak_age_sex_w_all[~rfs_pak_age_sex_w_all['age_group'].isin(['0-14', '15plus', '18plus'])].copy()\n",
    "\n",
    "order_age = ['0-4', '5-14', '15-24', '25-34', '35-44', '45-54', '55-64', '65plus']\n",
    "\n",
    "# Set the 'age_group' column to a categorical type with the defined order\n",
    "rfs_pak_age_sex_w_all['age_group'] = pd.Categorical(rfs_pak_age_sex_w_all['age_group'], categories=order_age, ordered=True)\n",
    "\n",
    "# Sort the DataFrame by 'age_group'\n",
    "rfs_pak_age_sex_w_all = rfs_pak_age_sex_w_all.sort_values('age_group')\n",
    "\n",
    "rfs_pak_age_sex_w_all\n"
   ]
  },
  {
   "cell_type": "code",
   "execution_count": 7,
   "metadata": {},
   "outputs": [
    {
     "data": {
      "application/vnd.plotly.v1+json": {
       "config": {
        "plotlyServerURL": "https://plot.ly"
       },
       "data": [
        {
         "alignmentgroup": "True",
         "hovertemplate": "sex=f<br>age_group=%{x}<br>best=%{y}<extra></extra>",
         "legendgroup": "f",
         "marker": {
          "color": "#636efa",
          "pattern": {
           "shape": ""
          }
         },
         "name": "f",
         "offsetgroup": "f",
         "orientation": "v",
         "showlegend": true,
         "textposition": "auto",
         "type": "bar",
         "x": [
          "0-4",
          "5-14",
          "15-24",
          "25-34",
          "35-44",
          "45-54",
          "55-64",
          "65plus"
         ],
         "xaxis": "x",
         "y": [
          17000,
          23000,
          43000,
          38000,
          36000,
          33000,
          29000,
          47000
         ],
         "yaxis": "y"
        },
        {
         "alignmentgroup": "True",
         "hovertemplate": "sex=m<br>age_group=%{x}<br>best=%{y}<extra></extra>",
         "legendgroup": "m",
         "marker": {
          "color": "#EF553B",
          "pattern": {
           "shape": ""
          }
         },
         "name": "m",
         "offsetgroup": "m",
         "orientation": "v",
         "showlegend": true,
         "textposition": "auto",
         "type": "bar",
         "x": [
          "0-4",
          "5-14",
          "15-24",
          "25-34",
          "35-44",
          "45-54",
          "55-64",
          "65plus"
         ],
         "xaxis": "x",
         "y": [
          20000,
          22000,
          60000,
          45000,
          49000,
          46000,
          39000,
          61000
         ],
         "yaxis": "y"
        }
       ],
       "layout": {
        "barmode": "relative",
        "legend": {
         "title": {
          "text": "sex"
         },
         "tracegroupgap": 0
        },
        "margin": {
         "t": 60
        },
        "template": {
         "data": {
          "bar": [
           {
            "error_x": {
             "color": "#2a3f5f"
            },
            "error_y": {
             "color": "#2a3f5f"
            },
            "marker": {
             "line": {
              "color": "#E5ECF6",
              "width": 0.5
             },
             "pattern": {
              "fillmode": "overlay",
              "size": 10,
              "solidity": 0.2
             }
            },
            "type": "bar"
           }
          ],
          "barpolar": [
           {
            "marker": {
             "line": {
              "color": "#E5ECF6",
              "width": 0.5
             },
             "pattern": {
              "fillmode": "overlay",
              "size": 10,
              "solidity": 0.2
             }
            },
            "type": "barpolar"
           }
          ],
          "carpet": [
           {
            "aaxis": {
             "endlinecolor": "#2a3f5f",
             "gridcolor": "white",
             "linecolor": "white",
             "minorgridcolor": "white",
             "startlinecolor": "#2a3f5f"
            },
            "baxis": {
             "endlinecolor": "#2a3f5f",
             "gridcolor": "white",
             "linecolor": "white",
             "minorgridcolor": "white",
             "startlinecolor": "#2a3f5f"
            },
            "type": "carpet"
           }
          ],
          "choropleth": [
           {
            "colorbar": {
             "outlinewidth": 0,
             "ticks": ""
            },
            "type": "choropleth"
           }
          ],
          "contour": [
           {
            "colorbar": {
             "outlinewidth": 0,
             "ticks": ""
            },
            "colorscale": [
             [
              0,
              "#0d0887"
             ],
             [
              0.1111111111111111,
              "#46039f"
             ],
             [
              0.2222222222222222,
              "#7201a8"
             ],
             [
              0.3333333333333333,
              "#9c179e"
             ],
             [
              0.4444444444444444,
              "#bd3786"
             ],
             [
              0.5555555555555556,
              "#d8576b"
             ],
             [
              0.6666666666666666,
              "#ed7953"
             ],
             [
              0.7777777777777778,
              "#fb9f3a"
             ],
             [
              0.8888888888888888,
              "#fdca26"
             ],
             [
              1,
              "#f0f921"
             ]
            ],
            "type": "contour"
           }
          ],
          "contourcarpet": [
           {
            "colorbar": {
             "outlinewidth": 0,
             "ticks": ""
            },
            "type": "contourcarpet"
           }
          ],
          "heatmap": [
           {
            "colorbar": {
             "outlinewidth": 0,
             "ticks": ""
            },
            "colorscale": [
             [
              0,
              "#0d0887"
             ],
             [
              0.1111111111111111,
              "#46039f"
             ],
             [
              0.2222222222222222,
              "#7201a8"
             ],
             [
              0.3333333333333333,
              "#9c179e"
             ],
             [
              0.4444444444444444,
              "#bd3786"
             ],
             [
              0.5555555555555556,
              "#d8576b"
             ],
             [
              0.6666666666666666,
              "#ed7953"
             ],
             [
              0.7777777777777778,
              "#fb9f3a"
             ],
             [
              0.8888888888888888,
              "#fdca26"
             ],
             [
              1,
              "#f0f921"
             ]
            ],
            "type": "heatmap"
           }
          ],
          "heatmapgl": [
           {
            "colorbar": {
             "outlinewidth": 0,
             "ticks": ""
            },
            "colorscale": [
             [
              0,
              "#0d0887"
             ],
             [
              0.1111111111111111,
              "#46039f"
             ],
             [
              0.2222222222222222,
              "#7201a8"
             ],
             [
              0.3333333333333333,
              "#9c179e"
             ],
             [
              0.4444444444444444,
              "#bd3786"
             ],
             [
              0.5555555555555556,
              "#d8576b"
             ],
             [
              0.6666666666666666,
              "#ed7953"
             ],
             [
              0.7777777777777778,
              "#fb9f3a"
             ],
             [
              0.8888888888888888,
              "#fdca26"
             ],
             [
              1,
              "#f0f921"
             ]
            ],
            "type": "heatmapgl"
           }
          ],
          "histogram": [
           {
            "marker": {
             "pattern": {
              "fillmode": "overlay",
              "size": 10,
              "solidity": 0.2
             }
            },
            "type": "histogram"
           }
          ],
          "histogram2d": [
           {
            "colorbar": {
             "outlinewidth": 0,
             "ticks": ""
            },
            "colorscale": [
             [
              0,
              "#0d0887"
             ],
             [
              0.1111111111111111,
              "#46039f"
             ],
             [
              0.2222222222222222,
              "#7201a8"
             ],
             [
              0.3333333333333333,
              "#9c179e"
             ],
             [
              0.4444444444444444,
              "#bd3786"
             ],
             [
              0.5555555555555556,
              "#d8576b"
             ],
             [
              0.6666666666666666,
              "#ed7953"
             ],
             [
              0.7777777777777778,
              "#fb9f3a"
             ],
             [
              0.8888888888888888,
              "#fdca26"
             ],
             [
              1,
              "#f0f921"
             ]
            ],
            "type": "histogram2d"
           }
          ],
          "histogram2dcontour": [
           {
            "colorbar": {
             "outlinewidth": 0,
             "ticks": ""
            },
            "colorscale": [
             [
              0,
              "#0d0887"
             ],
             [
              0.1111111111111111,
              "#46039f"
             ],
             [
              0.2222222222222222,
              "#7201a8"
             ],
             [
              0.3333333333333333,
              "#9c179e"
             ],
             [
              0.4444444444444444,
              "#bd3786"
             ],
             [
              0.5555555555555556,
              "#d8576b"
             ],
             [
              0.6666666666666666,
              "#ed7953"
             ],
             [
              0.7777777777777778,
              "#fb9f3a"
             ],
             [
              0.8888888888888888,
              "#fdca26"
             ],
             [
              1,
              "#f0f921"
             ]
            ],
            "type": "histogram2dcontour"
           }
          ],
          "mesh3d": [
           {
            "colorbar": {
             "outlinewidth": 0,
             "ticks": ""
            },
            "type": "mesh3d"
           }
          ],
          "parcoords": [
           {
            "line": {
             "colorbar": {
              "outlinewidth": 0,
              "ticks": ""
             }
            },
            "type": "parcoords"
           }
          ],
          "pie": [
           {
            "automargin": true,
            "type": "pie"
           }
          ],
          "scatter": [
           {
            "fillpattern": {
             "fillmode": "overlay",
             "size": 10,
             "solidity": 0.2
            },
            "type": "scatter"
           }
          ],
          "scatter3d": [
           {
            "line": {
             "colorbar": {
              "outlinewidth": 0,
              "ticks": ""
             }
            },
            "marker": {
             "colorbar": {
              "outlinewidth": 0,
              "ticks": ""
             }
            },
            "type": "scatter3d"
           }
          ],
          "scattercarpet": [
           {
            "marker": {
             "colorbar": {
              "outlinewidth": 0,
              "ticks": ""
             }
            },
            "type": "scattercarpet"
           }
          ],
          "scattergeo": [
           {
            "marker": {
             "colorbar": {
              "outlinewidth": 0,
              "ticks": ""
             }
            },
            "type": "scattergeo"
           }
          ],
          "scattergl": [
           {
            "marker": {
             "colorbar": {
              "outlinewidth": 0,
              "ticks": ""
             }
            },
            "type": "scattergl"
           }
          ],
          "scattermapbox": [
           {
            "marker": {
             "colorbar": {
              "outlinewidth": 0,
              "ticks": ""
             }
            },
            "type": "scattermapbox"
           }
          ],
          "scatterpolar": [
           {
            "marker": {
             "colorbar": {
              "outlinewidth": 0,
              "ticks": ""
             }
            },
            "type": "scatterpolar"
           }
          ],
          "scatterpolargl": [
           {
            "marker": {
             "colorbar": {
              "outlinewidth": 0,
              "ticks": ""
             }
            },
            "type": "scatterpolargl"
           }
          ],
          "scatterternary": [
           {
            "marker": {
             "colorbar": {
              "outlinewidth": 0,
              "ticks": ""
             }
            },
            "type": "scatterternary"
           }
          ],
          "surface": [
           {
            "colorbar": {
             "outlinewidth": 0,
             "ticks": ""
            },
            "colorscale": [
             [
              0,
              "#0d0887"
             ],
             [
              0.1111111111111111,
              "#46039f"
             ],
             [
              0.2222222222222222,
              "#7201a8"
             ],
             [
              0.3333333333333333,
              "#9c179e"
             ],
             [
              0.4444444444444444,
              "#bd3786"
             ],
             [
              0.5555555555555556,
              "#d8576b"
             ],
             [
              0.6666666666666666,
              "#ed7953"
             ],
             [
              0.7777777777777778,
              "#fb9f3a"
             ],
             [
              0.8888888888888888,
              "#fdca26"
             ],
             [
              1,
              "#f0f921"
             ]
            ],
            "type": "surface"
           }
          ],
          "table": [
           {
            "cells": {
             "fill": {
              "color": "#EBF0F8"
             },
             "line": {
              "color": "white"
             }
            },
            "header": {
             "fill": {
              "color": "#C8D4E3"
             },
             "line": {
              "color": "white"
             }
            },
            "type": "table"
           }
          ]
         },
         "layout": {
          "annotationdefaults": {
           "arrowcolor": "#2a3f5f",
           "arrowhead": 0,
           "arrowwidth": 1
          },
          "autotypenumbers": "strict",
          "coloraxis": {
           "colorbar": {
            "outlinewidth": 0,
            "ticks": ""
           }
          },
          "colorscale": {
           "diverging": [
            [
             0,
             "#8e0152"
            ],
            [
             0.1,
             "#c51b7d"
            ],
            [
             0.2,
             "#de77ae"
            ],
            [
             0.3,
             "#f1b6da"
            ],
            [
             0.4,
             "#fde0ef"
            ],
            [
             0.5,
             "#f7f7f7"
            ],
            [
             0.6,
             "#e6f5d0"
            ],
            [
             0.7,
             "#b8e186"
            ],
            [
             0.8,
             "#7fbc41"
            ],
            [
             0.9,
             "#4d9221"
            ],
            [
             1,
             "#276419"
            ]
           ],
           "sequential": [
            [
             0,
             "#0d0887"
            ],
            [
             0.1111111111111111,
             "#46039f"
            ],
            [
             0.2222222222222222,
             "#7201a8"
            ],
            [
             0.3333333333333333,
             "#9c179e"
            ],
            [
             0.4444444444444444,
             "#bd3786"
            ],
            [
             0.5555555555555556,
             "#d8576b"
            ],
            [
             0.6666666666666666,
             "#ed7953"
            ],
            [
             0.7777777777777778,
             "#fb9f3a"
            ],
            [
             0.8888888888888888,
             "#fdca26"
            ],
            [
             1,
             "#f0f921"
            ]
           ],
           "sequentialminus": [
            [
             0,
             "#0d0887"
            ],
            [
             0.1111111111111111,
             "#46039f"
            ],
            [
             0.2222222222222222,
             "#7201a8"
            ],
            [
             0.3333333333333333,
             "#9c179e"
            ],
            [
             0.4444444444444444,
             "#bd3786"
            ],
            [
             0.5555555555555556,
             "#d8576b"
            ],
            [
             0.6666666666666666,
             "#ed7953"
            ],
            [
             0.7777777777777778,
             "#fb9f3a"
            ],
            [
             0.8888888888888888,
             "#fdca26"
            ],
            [
             1,
             "#f0f921"
            ]
           ]
          },
          "colorway": [
           "#636efa",
           "#EF553B",
           "#00cc96",
           "#ab63fa",
           "#FFA15A",
           "#19d3f3",
           "#FF6692",
           "#B6E880",
           "#FF97FF",
           "#FECB52"
          ],
          "font": {
           "color": "#2a3f5f"
          },
          "geo": {
           "bgcolor": "white",
           "lakecolor": "white",
           "landcolor": "#E5ECF6",
           "showlakes": true,
           "showland": true,
           "subunitcolor": "white"
          },
          "hoverlabel": {
           "align": "left"
          },
          "hovermode": "closest",
          "mapbox": {
           "style": "light"
          },
          "paper_bgcolor": "white",
          "plot_bgcolor": "#E5ECF6",
          "polar": {
           "angularaxis": {
            "gridcolor": "white",
            "linecolor": "white",
            "ticks": ""
           },
           "bgcolor": "#E5ECF6",
           "radialaxis": {
            "gridcolor": "white",
            "linecolor": "white",
            "ticks": ""
           }
          },
          "scene": {
           "xaxis": {
            "backgroundcolor": "#E5ECF6",
            "gridcolor": "white",
            "gridwidth": 2,
            "linecolor": "white",
            "showbackground": true,
            "ticks": "",
            "zerolinecolor": "white"
           },
           "yaxis": {
            "backgroundcolor": "#E5ECF6",
            "gridcolor": "white",
            "gridwidth": 2,
            "linecolor": "white",
            "showbackground": true,
            "ticks": "",
            "zerolinecolor": "white"
           },
           "zaxis": {
            "backgroundcolor": "#E5ECF6",
            "gridcolor": "white",
            "gridwidth": 2,
            "linecolor": "white",
            "showbackground": true,
            "ticks": "",
            "zerolinecolor": "white"
           }
          },
          "shapedefaults": {
           "line": {
            "color": "#2a3f5f"
           }
          },
          "ternary": {
           "aaxis": {
            "gridcolor": "white",
            "linecolor": "white",
            "ticks": ""
           },
           "baxis": {
            "gridcolor": "white",
            "linecolor": "white",
            "ticks": ""
           },
           "bgcolor": "#E5ECF6",
           "caxis": {
            "gridcolor": "white",
            "linecolor": "white",
            "ticks": ""
           }
          },
          "title": {
           "x": 0.05
          },
          "xaxis": {
           "automargin": true,
           "gridcolor": "white",
           "linecolor": "white",
           "ticks": "",
           "title": {
            "standoff": 15
           },
           "zerolinecolor": "white",
           "zerolinewidth": 2
          },
          "yaxis": {
           "automargin": true,
           "gridcolor": "white",
           "linecolor": "white",
           "ticks": "",
           "title": {
            "standoff": 15
           },
           "zerolinecolor": "white",
           "zerolinewidth": 2
          }
         }
        },
        "xaxis": {
         "anchor": "y",
         "domain": [
          0,
          1
         ],
         "title": {
          "text": "age_group"
         }
        },
        "yaxis": {
         "anchor": "x",
         "domain": [
          0,
          1
         ],
         "title": {
          "text": "best"
         }
        }
       }
      }
     },
     "metadata": {},
     "output_type": "display_data"
    }
   ],
   "source": [
    "px.bar(rfs_pak_age_sex_w_all, x = 'age_group', y = 'best', color='sex')"
   ]
  },
  {
   "cell_type": "code",
   "execution_count": null,
   "metadata": {},
   "outputs": [],
   "source": []
  },
  {
   "cell_type": "code",
   "execution_count": 8,
   "metadata": {},
   "outputs": [
    {
     "ename": "FileNotFoundError",
     "evalue": "[Errno 2] No such file or directory: 'TB_burden_countries_2024-03-25.csv'",
     "output_type": "error",
     "traceback": [
      "\u001b[0;31m---------------------------------------------------------------------------\u001b[0m",
      "\u001b[0;31mFileNotFoundError\u001b[0m                         Traceback (most recent call last)",
      "Cell \u001b[0;32mIn[8], line 1\u001b[0m\n\u001b[0;32m----> 1\u001b[0m tb \u001b[38;5;241m=\u001b[39m \u001b[43mpd\u001b[49m\u001b[38;5;241;43m.\u001b[39;49m\u001b[43mread_csv\u001b[49m\u001b[43m(\u001b[49m\u001b[38;5;124;43m\"\u001b[39;49m\u001b[38;5;124;43mTB_burden_countries_2024-03-25.csv\u001b[39;49m\u001b[38;5;124;43m\"\u001b[39;49m\u001b[43m)\u001b[49m\n",
      "File \u001b[0;32m~/miniconda3/envs/TBtracker/lib/python3.12/site-packages/pandas/io/parsers/readers.py:1026\u001b[0m, in \u001b[0;36mread_csv\u001b[0;34m(filepath_or_buffer, sep, delimiter, header, names, index_col, usecols, dtype, engine, converters, true_values, false_values, skipinitialspace, skiprows, skipfooter, nrows, na_values, keep_default_na, na_filter, verbose, skip_blank_lines, parse_dates, infer_datetime_format, keep_date_col, date_parser, date_format, dayfirst, cache_dates, iterator, chunksize, compression, thousands, decimal, lineterminator, quotechar, quoting, doublequote, escapechar, comment, encoding, encoding_errors, dialect, on_bad_lines, delim_whitespace, low_memory, memory_map, float_precision, storage_options, dtype_backend)\u001b[0m\n\u001b[1;32m   1013\u001b[0m kwds_defaults \u001b[38;5;241m=\u001b[39m _refine_defaults_read(\n\u001b[1;32m   1014\u001b[0m     dialect,\n\u001b[1;32m   1015\u001b[0m     delimiter,\n\u001b[0;32m   (...)\u001b[0m\n\u001b[1;32m   1022\u001b[0m     dtype_backend\u001b[38;5;241m=\u001b[39mdtype_backend,\n\u001b[1;32m   1023\u001b[0m )\n\u001b[1;32m   1024\u001b[0m kwds\u001b[38;5;241m.\u001b[39mupdate(kwds_defaults)\n\u001b[0;32m-> 1026\u001b[0m \u001b[38;5;28;01mreturn\u001b[39;00m \u001b[43m_read\u001b[49m\u001b[43m(\u001b[49m\u001b[43mfilepath_or_buffer\u001b[49m\u001b[43m,\u001b[49m\u001b[43m \u001b[49m\u001b[43mkwds\u001b[49m\u001b[43m)\u001b[49m\n",
      "File \u001b[0;32m~/miniconda3/envs/TBtracker/lib/python3.12/site-packages/pandas/io/parsers/readers.py:620\u001b[0m, in \u001b[0;36m_read\u001b[0;34m(filepath_or_buffer, kwds)\u001b[0m\n\u001b[1;32m    617\u001b[0m _validate_names(kwds\u001b[38;5;241m.\u001b[39mget(\u001b[38;5;124m\"\u001b[39m\u001b[38;5;124mnames\u001b[39m\u001b[38;5;124m\"\u001b[39m, \u001b[38;5;28;01mNone\u001b[39;00m))\n\u001b[1;32m    619\u001b[0m \u001b[38;5;66;03m# Create the parser.\u001b[39;00m\n\u001b[0;32m--> 620\u001b[0m parser \u001b[38;5;241m=\u001b[39m \u001b[43mTextFileReader\u001b[49m\u001b[43m(\u001b[49m\u001b[43mfilepath_or_buffer\u001b[49m\u001b[43m,\u001b[49m\u001b[43m \u001b[49m\u001b[38;5;241;43m*\u001b[39;49m\u001b[38;5;241;43m*\u001b[39;49m\u001b[43mkwds\u001b[49m\u001b[43m)\u001b[49m\n\u001b[1;32m    622\u001b[0m \u001b[38;5;28;01mif\u001b[39;00m chunksize \u001b[38;5;129;01mor\u001b[39;00m iterator:\n\u001b[1;32m    623\u001b[0m     \u001b[38;5;28;01mreturn\u001b[39;00m parser\n",
      "File \u001b[0;32m~/miniconda3/envs/TBtracker/lib/python3.12/site-packages/pandas/io/parsers/readers.py:1620\u001b[0m, in \u001b[0;36mTextFileReader.__init__\u001b[0;34m(self, f, engine, **kwds)\u001b[0m\n\u001b[1;32m   1617\u001b[0m     \u001b[38;5;28mself\u001b[39m\u001b[38;5;241m.\u001b[39moptions[\u001b[38;5;124m\"\u001b[39m\u001b[38;5;124mhas_index_names\u001b[39m\u001b[38;5;124m\"\u001b[39m] \u001b[38;5;241m=\u001b[39m kwds[\u001b[38;5;124m\"\u001b[39m\u001b[38;5;124mhas_index_names\u001b[39m\u001b[38;5;124m\"\u001b[39m]\n\u001b[1;32m   1619\u001b[0m \u001b[38;5;28mself\u001b[39m\u001b[38;5;241m.\u001b[39mhandles: IOHandles \u001b[38;5;241m|\u001b[39m \u001b[38;5;28;01mNone\u001b[39;00m \u001b[38;5;241m=\u001b[39m \u001b[38;5;28;01mNone\u001b[39;00m\n\u001b[0;32m-> 1620\u001b[0m \u001b[38;5;28mself\u001b[39m\u001b[38;5;241m.\u001b[39m_engine \u001b[38;5;241m=\u001b[39m \u001b[38;5;28;43mself\u001b[39;49m\u001b[38;5;241;43m.\u001b[39;49m\u001b[43m_make_engine\u001b[49m\u001b[43m(\u001b[49m\u001b[43mf\u001b[49m\u001b[43m,\u001b[49m\u001b[43m \u001b[49m\u001b[38;5;28;43mself\u001b[39;49m\u001b[38;5;241;43m.\u001b[39;49m\u001b[43mengine\u001b[49m\u001b[43m)\u001b[49m\n",
      "File \u001b[0;32m~/miniconda3/envs/TBtracker/lib/python3.12/site-packages/pandas/io/parsers/readers.py:1880\u001b[0m, in \u001b[0;36mTextFileReader._make_engine\u001b[0;34m(self, f, engine)\u001b[0m\n\u001b[1;32m   1878\u001b[0m     \u001b[38;5;28;01mif\u001b[39;00m \u001b[38;5;124m\"\u001b[39m\u001b[38;5;124mb\u001b[39m\u001b[38;5;124m\"\u001b[39m \u001b[38;5;129;01mnot\u001b[39;00m \u001b[38;5;129;01min\u001b[39;00m mode:\n\u001b[1;32m   1879\u001b[0m         mode \u001b[38;5;241m+\u001b[39m\u001b[38;5;241m=\u001b[39m \u001b[38;5;124m\"\u001b[39m\u001b[38;5;124mb\u001b[39m\u001b[38;5;124m\"\u001b[39m\n\u001b[0;32m-> 1880\u001b[0m \u001b[38;5;28mself\u001b[39m\u001b[38;5;241m.\u001b[39mhandles \u001b[38;5;241m=\u001b[39m \u001b[43mget_handle\u001b[49m\u001b[43m(\u001b[49m\n\u001b[1;32m   1881\u001b[0m \u001b[43m    \u001b[49m\u001b[43mf\u001b[49m\u001b[43m,\u001b[49m\n\u001b[1;32m   1882\u001b[0m \u001b[43m    \u001b[49m\u001b[43mmode\u001b[49m\u001b[43m,\u001b[49m\n\u001b[1;32m   1883\u001b[0m \u001b[43m    \u001b[49m\u001b[43mencoding\u001b[49m\u001b[38;5;241;43m=\u001b[39;49m\u001b[38;5;28;43mself\u001b[39;49m\u001b[38;5;241;43m.\u001b[39;49m\u001b[43moptions\u001b[49m\u001b[38;5;241;43m.\u001b[39;49m\u001b[43mget\u001b[49m\u001b[43m(\u001b[49m\u001b[38;5;124;43m\"\u001b[39;49m\u001b[38;5;124;43mencoding\u001b[39;49m\u001b[38;5;124;43m\"\u001b[39;49m\u001b[43m,\u001b[49m\u001b[43m \u001b[49m\u001b[38;5;28;43;01mNone\u001b[39;49;00m\u001b[43m)\u001b[49m\u001b[43m,\u001b[49m\n\u001b[1;32m   1884\u001b[0m \u001b[43m    \u001b[49m\u001b[43mcompression\u001b[49m\u001b[38;5;241;43m=\u001b[39;49m\u001b[38;5;28;43mself\u001b[39;49m\u001b[38;5;241;43m.\u001b[39;49m\u001b[43moptions\u001b[49m\u001b[38;5;241;43m.\u001b[39;49m\u001b[43mget\u001b[49m\u001b[43m(\u001b[49m\u001b[38;5;124;43m\"\u001b[39;49m\u001b[38;5;124;43mcompression\u001b[39;49m\u001b[38;5;124;43m\"\u001b[39;49m\u001b[43m,\u001b[49m\u001b[43m \u001b[49m\u001b[38;5;28;43;01mNone\u001b[39;49;00m\u001b[43m)\u001b[49m\u001b[43m,\u001b[49m\n\u001b[1;32m   1885\u001b[0m \u001b[43m    \u001b[49m\u001b[43mmemory_map\u001b[49m\u001b[38;5;241;43m=\u001b[39;49m\u001b[38;5;28;43mself\u001b[39;49m\u001b[38;5;241;43m.\u001b[39;49m\u001b[43moptions\u001b[49m\u001b[38;5;241;43m.\u001b[39;49m\u001b[43mget\u001b[49m\u001b[43m(\u001b[49m\u001b[38;5;124;43m\"\u001b[39;49m\u001b[38;5;124;43mmemory_map\u001b[39;49m\u001b[38;5;124;43m\"\u001b[39;49m\u001b[43m,\u001b[49m\u001b[43m \u001b[49m\u001b[38;5;28;43;01mFalse\u001b[39;49;00m\u001b[43m)\u001b[49m\u001b[43m,\u001b[49m\n\u001b[1;32m   1886\u001b[0m \u001b[43m    \u001b[49m\u001b[43mis_text\u001b[49m\u001b[38;5;241;43m=\u001b[39;49m\u001b[43mis_text\u001b[49m\u001b[43m,\u001b[49m\n\u001b[1;32m   1887\u001b[0m \u001b[43m    \u001b[49m\u001b[43merrors\u001b[49m\u001b[38;5;241;43m=\u001b[39;49m\u001b[38;5;28;43mself\u001b[39;49m\u001b[38;5;241;43m.\u001b[39;49m\u001b[43moptions\u001b[49m\u001b[38;5;241;43m.\u001b[39;49m\u001b[43mget\u001b[49m\u001b[43m(\u001b[49m\u001b[38;5;124;43m\"\u001b[39;49m\u001b[38;5;124;43mencoding_errors\u001b[39;49m\u001b[38;5;124;43m\"\u001b[39;49m\u001b[43m,\u001b[49m\u001b[43m \u001b[49m\u001b[38;5;124;43m\"\u001b[39;49m\u001b[38;5;124;43mstrict\u001b[39;49m\u001b[38;5;124;43m\"\u001b[39;49m\u001b[43m)\u001b[49m\u001b[43m,\u001b[49m\n\u001b[1;32m   1888\u001b[0m \u001b[43m    \u001b[49m\u001b[43mstorage_options\u001b[49m\u001b[38;5;241;43m=\u001b[39;49m\u001b[38;5;28;43mself\u001b[39;49m\u001b[38;5;241;43m.\u001b[39;49m\u001b[43moptions\u001b[49m\u001b[38;5;241;43m.\u001b[39;49m\u001b[43mget\u001b[49m\u001b[43m(\u001b[49m\u001b[38;5;124;43m\"\u001b[39;49m\u001b[38;5;124;43mstorage_options\u001b[39;49m\u001b[38;5;124;43m\"\u001b[39;49m\u001b[43m,\u001b[49m\u001b[43m \u001b[49m\u001b[38;5;28;43;01mNone\u001b[39;49;00m\u001b[43m)\u001b[49m\u001b[43m,\u001b[49m\n\u001b[1;32m   1889\u001b[0m \u001b[43m\u001b[49m\u001b[43m)\u001b[49m\n\u001b[1;32m   1890\u001b[0m \u001b[38;5;28;01massert\u001b[39;00m \u001b[38;5;28mself\u001b[39m\u001b[38;5;241m.\u001b[39mhandles \u001b[38;5;129;01mis\u001b[39;00m \u001b[38;5;129;01mnot\u001b[39;00m \u001b[38;5;28;01mNone\u001b[39;00m\n\u001b[1;32m   1891\u001b[0m f \u001b[38;5;241m=\u001b[39m \u001b[38;5;28mself\u001b[39m\u001b[38;5;241m.\u001b[39mhandles\u001b[38;5;241m.\u001b[39mhandle\n",
      "File \u001b[0;32m~/miniconda3/envs/TBtracker/lib/python3.12/site-packages/pandas/io/common.py:873\u001b[0m, in \u001b[0;36mget_handle\u001b[0;34m(path_or_buf, mode, encoding, compression, memory_map, is_text, errors, storage_options)\u001b[0m\n\u001b[1;32m    868\u001b[0m \u001b[38;5;28;01melif\u001b[39;00m \u001b[38;5;28misinstance\u001b[39m(handle, \u001b[38;5;28mstr\u001b[39m):\n\u001b[1;32m    869\u001b[0m     \u001b[38;5;66;03m# Check whether the filename is to be opened in binary mode.\u001b[39;00m\n\u001b[1;32m    870\u001b[0m     \u001b[38;5;66;03m# Binary mode does not support 'encoding' and 'newline'.\u001b[39;00m\n\u001b[1;32m    871\u001b[0m     \u001b[38;5;28;01mif\u001b[39;00m ioargs\u001b[38;5;241m.\u001b[39mencoding \u001b[38;5;129;01mand\u001b[39;00m \u001b[38;5;124m\"\u001b[39m\u001b[38;5;124mb\u001b[39m\u001b[38;5;124m\"\u001b[39m \u001b[38;5;129;01mnot\u001b[39;00m \u001b[38;5;129;01min\u001b[39;00m ioargs\u001b[38;5;241m.\u001b[39mmode:\n\u001b[1;32m    872\u001b[0m         \u001b[38;5;66;03m# Encoding\u001b[39;00m\n\u001b[0;32m--> 873\u001b[0m         handle \u001b[38;5;241m=\u001b[39m \u001b[38;5;28;43mopen\u001b[39;49m\u001b[43m(\u001b[49m\n\u001b[1;32m    874\u001b[0m \u001b[43m            \u001b[49m\u001b[43mhandle\u001b[49m\u001b[43m,\u001b[49m\n\u001b[1;32m    875\u001b[0m \u001b[43m            \u001b[49m\u001b[43mioargs\u001b[49m\u001b[38;5;241;43m.\u001b[39;49m\u001b[43mmode\u001b[49m\u001b[43m,\u001b[49m\n\u001b[1;32m    876\u001b[0m \u001b[43m            \u001b[49m\u001b[43mencoding\u001b[49m\u001b[38;5;241;43m=\u001b[39;49m\u001b[43mioargs\u001b[49m\u001b[38;5;241;43m.\u001b[39;49m\u001b[43mencoding\u001b[49m\u001b[43m,\u001b[49m\n\u001b[1;32m    877\u001b[0m \u001b[43m            \u001b[49m\u001b[43merrors\u001b[49m\u001b[38;5;241;43m=\u001b[39;49m\u001b[43merrors\u001b[49m\u001b[43m,\u001b[49m\n\u001b[1;32m    878\u001b[0m \u001b[43m            \u001b[49m\u001b[43mnewline\u001b[49m\u001b[38;5;241;43m=\u001b[39;49m\u001b[38;5;124;43m\"\u001b[39;49m\u001b[38;5;124;43m\"\u001b[39;49m\u001b[43m,\u001b[49m\n\u001b[1;32m    879\u001b[0m \u001b[43m        \u001b[49m\u001b[43m)\u001b[49m\n\u001b[1;32m    880\u001b[0m     \u001b[38;5;28;01melse\u001b[39;00m:\n\u001b[1;32m    881\u001b[0m         \u001b[38;5;66;03m# Binary mode\u001b[39;00m\n\u001b[1;32m    882\u001b[0m         handle \u001b[38;5;241m=\u001b[39m \u001b[38;5;28mopen\u001b[39m(handle, ioargs\u001b[38;5;241m.\u001b[39mmode)\n",
      "\u001b[0;31mFileNotFoundError\u001b[0m: [Errno 2] No such file or directory: 'TB_burden_countries_2024-03-25.csv'"
     ]
    }
   ],
   "source": [
    "tb = pd.read_csv(\"TB_burden_countries_2024-03-25.csv\")"
   ]
  },
  {
   "cell_type": "code",
   "execution_count": null,
   "metadata": {},
   "outputs": [
    {
     "data": {
      "text/plain": [
       "72"
      ]
     },
     "execution_count": 41,
     "metadata": {},
     "output_type": "execute_result"
    }
   ],
   "source": [
    "len(tb.loc[tb.isna().any(axis=1)][\"country\"].unique())"
   ]
  },
  {
   "cell_type": "code",
   "execution_count": null,
   "metadata": {},
   "outputs": [
    {
     "data": {
      "text/html": [
       "<div>\n",
       "<style scoped>\n",
       "    .dataframe tbody tr th:only-of-type {\n",
       "        vertical-align: middle;\n",
       "    }\n",
       "\n",
       "    .dataframe tbody tr th {\n",
       "        vertical-align: top;\n",
       "    }\n",
       "\n",
       "    .dataframe thead th {\n",
       "        text-align: right;\n",
       "    }\n",
       "</style>\n",
       "<table border=\"1\" class=\"dataframe\">\n",
       "  <thead>\n",
       "    <tr style=\"text-align: right;\">\n",
       "      <th></th>\n",
       "      <th>country</th>\n",
       "      <th>iso2</th>\n",
       "      <th>iso3</th>\n",
       "      <th>iso_numeric</th>\n",
       "      <th>g_whoregion</th>\n",
       "      <th>year</th>\n",
       "      <th>e_pop_num</th>\n",
       "      <th>e_inc_100k</th>\n",
       "      <th>e_inc_100k_lo</th>\n",
       "      <th>e_inc_100k_hi</th>\n",
       "      <th>...</th>\n",
       "      <th>cfr</th>\n",
       "      <th>cfr_lo</th>\n",
       "      <th>cfr_hi</th>\n",
       "      <th>cfr_pct</th>\n",
       "      <th>cfr_pct_lo</th>\n",
       "      <th>cfr_pct_hi</th>\n",
       "      <th>c_newinc_100k</th>\n",
       "      <th>c_cdr</th>\n",
       "      <th>c_cdr_lo</th>\n",
       "      <th>c_cdr_hi</th>\n",
       "    </tr>\n",
       "  </thead>\n",
       "  <tbody>\n",
       "    <tr>\n",
       "      <th>69</th>\n",
       "      <td>American Samoa</td>\n",
       "      <td>AS</td>\n",
       "      <td>ASM</td>\n",
       "      <td>16</td>\n",
       "      <td>WPR</td>\n",
       "      <td>2000</td>\n",
       "      <td>58230</td>\n",
       "      <td>5.9</td>\n",
       "      <td>5.1</td>\n",
       "      <td>6.8</td>\n",
       "      <td>...</td>\n",
       "      <td>0.08</td>\n",
       "      <td>0.05</td>\n",
       "      <td>0.13</td>\n",
       "      <td>8.0</td>\n",
       "      <td>5.0</td>\n",
       "      <td>13.0</td>\n",
       "      <td>5.2</td>\n",
       "      <td>87.0</td>\n",
       "      <td>75.0</td>\n",
       "      <td>100.0</td>\n",
       "    </tr>\n",
       "    <tr>\n",
       "      <th>70</th>\n",
       "      <td>American Samoa</td>\n",
       "      <td>AS</td>\n",
       "      <td>ASM</td>\n",
       "      <td>16</td>\n",
       "      <td>WPR</td>\n",
       "      <td>2001</td>\n",
       "      <td>58324</td>\n",
       "      <td>5.9</td>\n",
       "      <td>5.1</td>\n",
       "      <td>6.8</td>\n",
       "      <td>...</td>\n",
       "      <td>0.08</td>\n",
       "      <td>0.05</td>\n",
       "      <td>0.12</td>\n",
       "      <td>8.0</td>\n",
       "      <td>5.0</td>\n",
       "      <td>12.0</td>\n",
       "      <td>5.1</td>\n",
       "      <td>87.0</td>\n",
       "      <td>75.0</td>\n",
       "      <td>100.0</td>\n",
       "    </tr>\n",
       "    <tr>\n",
       "      <th>71</th>\n",
       "      <td>American Samoa</td>\n",
       "      <td>AS</td>\n",
       "      <td>ASM</td>\n",
       "      <td>16</td>\n",
       "      <td>WPR</td>\n",
       "      <td>2002</td>\n",
       "      <td>58177</td>\n",
       "      <td>4.0</td>\n",
       "      <td>3.4</td>\n",
       "      <td>4.6</td>\n",
       "      <td>...</td>\n",
       "      <td>0.08</td>\n",
       "      <td>0.05</td>\n",
       "      <td>0.12</td>\n",
       "      <td>8.0</td>\n",
       "      <td>5.0</td>\n",
       "      <td>12.0</td>\n",
       "      <td>3.4</td>\n",
       "      <td>87.0</td>\n",
       "      <td>75.0</td>\n",
       "      <td>100.0</td>\n",
       "    </tr>\n",
       "    <tr>\n",
       "      <th>72</th>\n",
       "      <td>American Samoa</td>\n",
       "      <td>AS</td>\n",
       "      <td>ASM</td>\n",
       "      <td>16</td>\n",
       "      <td>WPR</td>\n",
       "      <td>2003</td>\n",
       "      <td>57941</td>\n",
       "      <td>6.0</td>\n",
       "      <td>5.1</td>\n",
       "      <td>6.9</td>\n",
       "      <td>...</td>\n",
       "      <td>0.08</td>\n",
       "      <td>0.05</td>\n",
       "      <td>0.12</td>\n",
       "      <td>8.0</td>\n",
       "      <td>5.0</td>\n",
       "      <td>12.0</td>\n",
       "      <td>5.2</td>\n",
       "      <td>87.0</td>\n",
       "      <td>75.0</td>\n",
       "      <td>100.0</td>\n",
       "    </tr>\n",
       "    <tr>\n",
       "      <th>73</th>\n",
       "      <td>American Samoa</td>\n",
       "      <td>AS</td>\n",
       "      <td>ASM</td>\n",
       "      <td>16</td>\n",
       "      <td>WPR</td>\n",
       "      <td>2004</td>\n",
       "      <td>57626</td>\n",
       "      <td>10.0</td>\n",
       "      <td>8.5</td>\n",
       "      <td>12.0</td>\n",
       "      <td>...</td>\n",
       "      <td>0.08</td>\n",
       "      <td>0.05</td>\n",
       "      <td>0.12</td>\n",
       "      <td>8.0</td>\n",
       "      <td>5.0</td>\n",
       "      <td>12.0</td>\n",
       "      <td>8.7</td>\n",
       "      <td>87.0</td>\n",
       "      <td>75.0</td>\n",
       "      <td>100.0</td>\n",
       "    </tr>\n",
       "    <tr>\n",
       "      <th>...</th>\n",
       "      <td>...</td>\n",
       "      <td>...</td>\n",
       "      <td>...</td>\n",
       "      <td>...</td>\n",
       "      <td>...</td>\n",
       "      <td>...</td>\n",
       "      <td>...</td>\n",
       "      <td>...</td>\n",
       "      <td>...</td>\n",
       "      <td>...</td>\n",
       "      <td>...</td>\n",
       "      <td>...</td>\n",
       "      <td>...</td>\n",
       "      <td>...</td>\n",
       "      <td>...</td>\n",
       "      <td>...</td>\n",
       "      <td>...</td>\n",
       "      <td>...</td>\n",
       "      <td>...</td>\n",
       "      <td>...</td>\n",
       "      <td>...</td>\n",
       "    </tr>\n",
       "    <tr>\n",
       "      <th>4843</th>\n",
       "      <td>Wallis and Futuna</td>\n",
       "      <td>WF</td>\n",
       "      <td>WLF</td>\n",
       "      <td>876</td>\n",
       "      <td>WPR</td>\n",
       "      <td>2018</td>\n",
       "      <td>11816</td>\n",
       "      <td>0.0</td>\n",
       "      <td>0.0</td>\n",
       "      <td>0.0</td>\n",
       "      <td>...</td>\n",
       "      <td>NaN</td>\n",
       "      <td>NaN</td>\n",
       "      <td>NaN</td>\n",
       "      <td>NaN</td>\n",
       "      <td>NaN</td>\n",
       "      <td>NaN</td>\n",
       "      <td>0.0</td>\n",
       "      <td>NaN</td>\n",
       "      <td>NaN</td>\n",
       "      <td>NaN</td>\n",
       "    </tr>\n",
       "    <tr>\n",
       "      <th>4844</th>\n",
       "      <td>Wallis and Futuna</td>\n",
       "      <td>WF</td>\n",
       "      <td>WLF</td>\n",
       "      <td>876</td>\n",
       "      <td>WPR</td>\n",
       "      <td>2019</td>\n",
       "      <td>11714</td>\n",
       "      <td>9.8</td>\n",
       "      <td>8.4</td>\n",
       "      <td>11.0</td>\n",
       "      <td>...</td>\n",
       "      <td>0.09</td>\n",
       "      <td>0.05</td>\n",
       "      <td>0.13</td>\n",
       "      <td>9.0</td>\n",
       "      <td>5.0</td>\n",
       "      <td>13.0</td>\n",
       "      <td>8.5</td>\n",
       "      <td>87.0</td>\n",
       "      <td>75.0</td>\n",
       "      <td>100.0</td>\n",
       "    </tr>\n",
       "    <tr>\n",
       "      <th>4845</th>\n",
       "      <td>Wallis and Futuna</td>\n",
       "      <td>WF</td>\n",
       "      <td>WLF</td>\n",
       "      <td>876</td>\n",
       "      <td>WPR</td>\n",
       "      <td>2020</td>\n",
       "      <td>11655</td>\n",
       "      <td>0.0</td>\n",
       "      <td>0.0</td>\n",
       "      <td>0.0</td>\n",
       "      <td>...</td>\n",
       "      <td>NaN</td>\n",
       "      <td>NaN</td>\n",
       "      <td>NaN</td>\n",
       "      <td>NaN</td>\n",
       "      <td>NaN</td>\n",
       "      <td>NaN</td>\n",
       "      <td>0.0</td>\n",
       "      <td>NaN</td>\n",
       "      <td>NaN</td>\n",
       "      <td>NaN</td>\n",
       "    </tr>\n",
       "    <tr>\n",
       "      <th>4846</th>\n",
       "      <td>Wallis and Futuna</td>\n",
       "      <td>WF</td>\n",
       "      <td>WLF</td>\n",
       "      <td>876</td>\n",
       "      <td>WPR</td>\n",
       "      <td>2021</td>\n",
       "      <td>11627</td>\n",
       "      <td>1.9</td>\n",
       "      <td>1.6</td>\n",
       "      <td>2.1</td>\n",
       "      <td>...</td>\n",
       "      <td>0.08</td>\n",
       "      <td>0.05</td>\n",
       "      <td>0.12</td>\n",
       "      <td>8.0</td>\n",
       "      <td>5.0</td>\n",
       "      <td>12.0</td>\n",
       "      <td>NaN</td>\n",
       "      <td>NaN</td>\n",
       "      <td>NaN</td>\n",
       "      <td>NaN</td>\n",
       "    </tr>\n",
       "    <tr>\n",
       "      <th>4847</th>\n",
       "      <td>Wallis and Futuna</td>\n",
       "      <td>WF</td>\n",
       "      <td>WLF</td>\n",
       "      <td>876</td>\n",
       "      <td>WPR</td>\n",
       "      <td>2022</td>\n",
       "      <td>11572</td>\n",
       "      <td>1.9</td>\n",
       "      <td>1.6</td>\n",
       "      <td>2.2</td>\n",
       "      <td>...</td>\n",
       "      <td>0.08</td>\n",
       "      <td>0.05</td>\n",
       "      <td>0.12</td>\n",
       "      <td>8.0</td>\n",
       "      <td>5.0</td>\n",
       "      <td>12.0</td>\n",
       "      <td>NaN</td>\n",
       "      <td>NaN</td>\n",
       "      <td>NaN</td>\n",
       "      <td>NaN</td>\n",
       "    </tr>\n",
       "  </tbody>\n",
       "</table>\n",
       "<p>765 rows × 50 columns</p>\n",
       "</div>"
      ],
      "text/plain": [
       "                country iso2 iso3  iso_numeric g_whoregion  year  e_pop_num  \\\n",
       "69       American Samoa   AS  ASM           16         WPR  2000      58230   \n",
       "70       American Samoa   AS  ASM           16         WPR  2001      58324   \n",
       "71       American Samoa   AS  ASM           16         WPR  2002      58177   \n",
       "72       American Samoa   AS  ASM           16         WPR  2003      57941   \n",
       "73       American Samoa   AS  ASM           16         WPR  2004      57626   \n",
       "...                 ...  ...  ...          ...         ...   ...        ...   \n",
       "4843  Wallis and Futuna   WF  WLF          876         WPR  2018      11816   \n",
       "4844  Wallis and Futuna   WF  WLF          876         WPR  2019      11714   \n",
       "4845  Wallis and Futuna   WF  WLF          876         WPR  2020      11655   \n",
       "4846  Wallis and Futuna   WF  WLF          876         WPR  2021      11627   \n",
       "4847  Wallis and Futuna   WF  WLF          876         WPR  2022      11572   \n",
       "\n",
       "      e_inc_100k  e_inc_100k_lo  e_inc_100k_hi  ...   cfr  cfr_lo  cfr_hi  \\\n",
       "69           5.9            5.1            6.8  ...  0.08    0.05    0.13   \n",
       "70           5.9            5.1            6.8  ...  0.08    0.05    0.12   \n",
       "71           4.0            3.4            4.6  ...  0.08    0.05    0.12   \n",
       "72           6.0            5.1            6.9  ...  0.08    0.05    0.12   \n",
       "73          10.0            8.5           12.0  ...  0.08    0.05    0.12   \n",
       "...          ...            ...            ...  ...   ...     ...     ...   \n",
       "4843         0.0            0.0            0.0  ...   NaN     NaN     NaN   \n",
       "4844         9.8            8.4           11.0  ...  0.09    0.05    0.13   \n",
       "4845         0.0            0.0            0.0  ...   NaN     NaN     NaN   \n",
       "4846         1.9            1.6            2.1  ...  0.08    0.05    0.12   \n",
       "4847         1.9            1.6            2.2  ...  0.08    0.05    0.12   \n",
       "\n",
       "      cfr_pct  cfr_pct_lo  cfr_pct_hi  c_newinc_100k  c_cdr  c_cdr_lo  \\\n",
       "69        8.0         5.0        13.0            5.2   87.0      75.0   \n",
       "70        8.0         5.0        12.0            5.1   87.0      75.0   \n",
       "71        8.0         5.0        12.0            3.4   87.0      75.0   \n",
       "72        8.0         5.0        12.0            5.2   87.0      75.0   \n",
       "73        8.0         5.0        12.0            8.7   87.0      75.0   \n",
       "...       ...         ...         ...            ...    ...       ...   \n",
       "4843      NaN         NaN         NaN            0.0    NaN       NaN   \n",
       "4844      9.0         5.0        13.0            8.5   87.0      75.0   \n",
       "4845      NaN         NaN         NaN            0.0    NaN       NaN   \n",
       "4846      8.0         5.0        12.0            NaN    NaN       NaN   \n",
       "4847      8.0         5.0        12.0            NaN    NaN       NaN   \n",
       "\n",
       "      c_cdr_hi  \n",
       "69       100.0  \n",
       "70       100.0  \n",
       "71       100.0  \n",
       "72       100.0  \n",
       "73       100.0  \n",
       "...        ...  \n",
       "4843       NaN  \n",
       "4844     100.0  \n",
       "4845       NaN  \n",
       "4846       NaN  \n",
       "4847       NaN  \n",
       "\n",
       "[765 rows x 50 columns]"
      ]
     },
     "execution_count": 46,
     "metadata": {},
     "output_type": "execute_result"
    }
   ],
   "source": [
    "tb[tb.isna().any(axis=1)]"
   ]
  },
  {
   "cell_type": "code",
   "execution_count": null,
   "metadata": {},
   "outputs": [
    {
     "data": {
      "text/plain": [
       "23"
      ]
     },
     "execution_count": 20,
     "metadata": {},
     "output_type": "execute_result"
    }
   ],
   "source": [
    "len(tb[\"year\"].unique())"
   ]
  },
  {
   "cell_type": "code",
   "execution_count": null,
   "metadata": {},
   "outputs": [
    {
     "data": {
      "text/html": [
       "<div>\n",
       "<style scoped>\n",
       "    .dataframe tbody tr th:only-of-type {\n",
       "        vertical-align: middle;\n",
       "    }\n",
       "\n",
       "    .dataframe tbody tr th {\n",
       "        vertical-align: top;\n",
       "    }\n",
       "\n",
       "    .dataframe thead th {\n",
       "        text-align: right;\n",
       "    }\n",
       "</style>\n",
       "<table border=\"1\" class=\"dataframe\">\n",
       "  <thead>\n",
       "    <tr style=\"text-align: right;\">\n",
       "      <th></th>\n",
       "      <th>country</th>\n",
       "      <th>iso2</th>\n",
       "      <th>iso3</th>\n",
       "      <th>iso_numeric</th>\n",
       "      <th>g_whoregion</th>\n",
       "      <th>year</th>\n",
       "      <th>e_pop_num</th>\n",
       "      <th>e_inc_100k</th>\n",
       "      <th>e_inc_100k_lo</th>\n",
       "      <th>e_inc_100k_hi</th>\n",
       "      <th>...</th>\n",
       "      <th>cfr</th>\n",
       "      <th>cfr_lo</th>\n",
       "      <th>cfr_hi</th>\n",
       "      <th>cfr_pct</th>\n",
       "      <th>cfr_pct_lo</th>\n",
       "      <th>cfr_pct_hi</th>\n",
       "      <th>c_newinc_100k</th>\n",
       "      <th>c_cdr</th>\n",
       "      <th>c_cdr_lo</th>\n",
       "      <th>c_cdr_hi</th>\n",
       "    </tr>\n",
       "  </thead>\n",
       "  <tbody>\n",
       "    <tr>\n",
       "      <th>0</th>\n",
       "      <td>Afghanistan</td>\n",
       "      <td>AF</td>\n",
       "      <td>AFG</td>\n",
       "      <td>4</td>\n",
       "      <td>EMR</td>\n",
       "      <td>2000</td>\n",
       "      <td>19542982</td>\n",
       "      <td>190.0</td>\n",
       "      <td>122.0</td>\n",
       "      <td>271.0</td>\n",
       "      <td>...</td>\n",
       "      <td>0.37</td>\n",
       "      <td>0.17</td>\n",
       "      <td>0.61</td>\n",
       "      <td>37.0</td>\n",
       "      <td>17.0</td>\n",
       "      <td>61.0</td>\n",
       "      <td>36.0</td>\n",
       "      <td>19.0</td>\n",
       "      <td>13.0</td>\n",
       "      <td>30.0</td>\n",
       "    </tr>\n",
       "    <tr>\n",
       "      <th>1</th>\n",
       "      <td>Afghanistan</td>\n",
       "      <td>AF</td>\n",
       "      <td>AFG</td>\n",
       "      <td>4</td>\n",
       "      <td>EMR</td>\n",
       "      <td>2001</td>\n",
       "      <td>19688632</td>\n",
       "      <td>189.0</td>\n",
       "      <td>122.0</td>\n",
       "      <td>271.0</td>\n",
       "      <td>...</td>\n",
       "      <td>0.35</td>\n",
       "      <td>0.16</td>\n",
       "      <td>0.56</td>\n",
       "      <td>35.0</td>\n",
       "      <td>16.0</td>\n",
       "      <td>56.0</td>\n",
       "      <td>51.0</td>\n",
       "      <td>27.0</td>\n",
       "      <td>19.0</td>\n",
       "      <td>42.0</td>\n",
       "    </tr>\n",
       "    <tr>\n",
       "      <th>2</th>\n",
       "      <td>Afghanistan</td>\n",
       "      <td>AF</td>\n",
       "      <td>AFG</td>\n",
       "      <td>4</td>\n",
       "      <td>EMR</td>\n",
       "      <td>2002</td>\n",
       "      <td>21000256</td>\n",
       "      <td>189.0</td>\n",
       "      <td>122.0</td>\n",
       "      <td>270.0</td>\n",
       "      <td>...</td>\n",
       "      <td>0.31</td>\n",
       "      <td>0.15</td>\n",
       "      <td>0.51</td>\n",
       "      <td>31.0</td>\n",
       "      <td>15.0</td>\n",
       "      <td>51.0</td>\n",
       "      <td>66.0</td>\n",
       "      <td>35.0</td>\n",
       "      <td>24.0</td>\n",
       "      <td>54.0</td>\n",
       "    </tr>\n",
       "    <tr>\n",
       "      <th>3</th>\n",
       "      <td>Afghanistan</td>\n",
       "      <td>AF</td>\n",
       "      <td>AFG</td>\n",
       "      <td>4</td>\n",
       "      <td>EMR</td>\n",
       "      <td>2003</td>\n",
       "      <td>22645130</td>\n",
       "      <td>189.0</td>\n",
       "      <td>122.0</td>\n",
       "      <td>270.0</td>\n",
       "      <td>...</td>\n",
       "      <td>0.32</td>\n",
       "      <td>0.15</td>\n",
       "      <td>0.52</td>\n",
       "      <td>32.0</td>\n",
       "      <td>15.0</td>\n",
       "      <td>52.0</td>\n",
       "      <td>61.0</td>\n",
       "      <td>32.0</td>\n",
       "      <td>23.0</td>\n",
       "      <td>50.0</td>\n",
       "    </tr>\n",
       "    <tr>\n",
       "      <th>4</th>\n",
       "      <td>Afghanistan</td>\n",
       "      <td>AF</td>\n",
       "      <td>AFG</td>\n",
       "      <td>4</td>\n",
       "      <td>EMR</td>\n",
       "      <td>2004</td>\n",
       "      <td>23553551</td>\n",
       "      <td>189.0</td>\n",
       "      <td>122.0</td>\n",
       "      <td>270.0</td>\n",
       "      <td>...</td>\n",
       "      <td>0.28</td>\n",
       "      <td>0.13</td>\n",
       "      <td>0.46</td>\n",
       "      <td>28.0</td>\n",
       "      <td>13.0</td>\n",
       "      <td>46.0</td>\n",
       "      <td>78.0</td>\n",
       "      <td>41.0</td>\n",
       "      <td>29.0</td>\n",
       "      <td>64.0</td>\n",
       "    </tr>\n",
       "    <tr>\n",
       "      <th>5</th>\n",
       "      <td>Afghanistan</td>\n",
       "      <td>AF</td>\n",
       "      <td>AFG</td>\n",
       "      <td>4</td>\n",
       "      <td>EMR</td>\n",
       "      <td>2005</td>\n",
       "      <td>24411191</td>\n",
       "      <td>189.0</td>\n",
       "      <td>122.0</td>\n",
       "      <td>270.0</td>\n",
       "      <td>...</td>\n",
       "      <td>0.26</td>\n",
       "      <td>0.12</td>\n",
       "      <td>0.43</td>\n",
       "      <td>26.0</td>\n",
       "      <td>12.0</td>\n",
       "      <td>43.0</td>\n",
       "      <td>89.0</td>\n",
       "      <td>47.0</td>\n",
       "      <td>33.0</td>\n",
       "      <td>73.0</td>\n",
       "    </tr>\n",
       "    <tr>\n",
       "      <th>6</th>\n",
       "      <td>Afghanistan</td>\n",
       "      <td>AF</td>\n",
       "      <td>AFG</td>\n",
       "      <td>4</td>\n",
       "      <td>EMR</td>\n",
       "      <td>2006</td>\n",
       "      <td>25442944</td>\n",
       "      <td>189.0</td>\n",
       "      <td>122.0</td>\n",
       "      <td>270.0</td>\n",
       "      <td>...</td>\n",
       "      <td>0.24</td>\n",
       "      <td>0.11</td>\n",
       "      <td>0.39</td>\n",
       "      <td>24.0</td>\n",
       "      <td>11.0</td>\n",
       "      <td>39.0</td>\n",
       "      <td>100.0</td>\n",
       "      <td>53.0</td>\n",
       "      <td>37.0</td>\n",
       "      <td>82.0</td>\n",
       "    </tr>\n",
       "    <tr>\n",
       "      <th>7</th>\n",
       "      <td>Afghanistan</td>\n",
       "      <td>AF</td>\n",
       "      <td>AFG</td>\n",
       "      <td>4</td>\n",
       "      <td>EMR</td>\n",
       "      <td>2007</td>\n",
       "      <td>25903301</td>\n",
       "      <td>189.0</td>\n",
       "      <td>122.0</td>\n",
       "      <td>270.0</td>\n",
       "      <td>...</td>\n",
       "      <td>0.21</td>\n",
       "      <td>0.10</td>\n",
       "      <td>0.35</td>\n",
       "      <td>21.0</td>\n",
       "      <td>10.0</td>\n",
       "      <td>35.0</td>\n",
       "      <td>111.0</td>\n",
       "      <td>59.0</td>\n",
       "      <td>41.0</td>\n",
       "      <td>91.0</td>\n",
       "    </tr>\n",
       "    <tr>\n",
       "      <th>8</th>\n",
       "      <td>Afghanistan</td>\n",
       "      <td>AF</td>\n",
       "      <td>AFG</td>\n",
       "      <td>4</td>\n",
       "      <td>EMR</td>\n",
       "      <td>2008</td>\n",
       "      <td>26427199</td>\n",
       "      <td>189.0</td>\n",
       "      <td>122.0</td>\n",
       "      <td>271.0</td>\n",
       "      <td>...</td>\n",
       "      <td>0.22</td>\n",
       "      <td>0.11</td>\n",
       "      <td>0.37</td>\n",
       "      <td>22.0</td>\n",
       "      <td>11.0</td>\n",
       "      <td>37.0</td>\n",
       "      <td>107.0</td>\n",
       "      <td>57.0</td>\n",
       "      <td>40.0</td>\n",
       "      <td>88.0</td>\n",
       "    </tr>\n",
       "    <tr>\n",
       "      <th>9</th>\n",
       "      <td>Afghanistan</td>\n",
       "      <td>AF</td>\n",
       "      <td>AFG</td>\n",
       "      <td>4</td>\n",
       "      <td>EMR</td>\n",
       "      <td>2009</td>\n",
       "      <td>27385307</td>\n",
       "      <td>189.0</td>\n",
       "      <td>122.0</td>\n",
       "      <td>271.0</td>\n",
       "      <td>...</td>\n",
       "      <td>0.25</td>\n",
       "      <td>0.12</td>\n",
       "      <td>0.40</td>\n",
       "      <td>25.0</td>\n",
       "      <td>12.0</td>\n",
       "      <td>40.0</td>\n",
       "      <td>95.0</td>\n",
       "      <td>50.0</td>\n",
       "      <td>35.0</td>\n",
       "      <td>78.0</td>\n",
       "    </tr>\n",
       "    <tr>\n",
       "      <th>10</th>\n",
       "      <td>Afghanistan</td>\n",
       "      <td>AF</td>\n",
       "      <td>AFG</td>\n",
       "      <td>4</td>\n",
       "      <td>EMR</td>\n",
       "      <td>2010</td>\n",
       "      <td>28189672</td>\n",
       "      <td>189.0</td>\n",
       "      <td>122.0</td>\n",
       "      <td>271.0</td>\n",
       "      <td>...</td>\n",
       "      <td>0.24</td>\n",
       "      <td>0.11</td>\n",
       "      <td>0.39</td>\n",
       "      <td>24.0</td>\n",
       "      <td>11.0</td>\n",
       "      <td>39.0</td>\n",
       "      <td>99.0</td>\n",
       "      <td>53.0</td>\n",
       "      <td>37.0</td>\n",
       "      <td>81.0</td>\n",
       "    </tr>\n",
       "    <tr>\n",
       "      <th>11</th>\n",
       "      <td>Afghanistan</td>\n",
       "      <td>AF</td>\n",
       "      <td>AFG</td>\n",
       "      <td>4</td>\n",
       "      <td>EMR</td>\n",
       "      <td>2011</td>\n",
       "      <td>29249157</td>\n",
       "      <td>189.0</td>\n",
       "      <td>122.0</td>\n",
       "      <td>271.0</td>\n",
       "      <td>...</td>\n",
       "      <td>0.24</td>\n",
       "      <td>0.12</td>\n",
       "      <td>0.40</td>\n",
       "      <td>24.0</td>\n",
       "      <td>12.0</td>\n",
       "      <td>40.0</td>\n",
       "      <td>96.0</td>\n",
       "      <td>51.0</td>\n",
       "      <td>35.0</td>\n",
       "      <td>78.0</td>\n",
       "    </tr>\n",
       "    <tr>\n",
       "      <th>12</th>\n",
       "      <td>Afghanistan</td>\n",
       "      <td>AF</td>\n",
       "      <td>AFG</td>\n",
       "      <td>4</td>\n",
       "      <td>EMR</td>\n",
       "      <td>2012</td>\n",
       "      <td>30466479</td>\n",
       "      <td>189.0</td>\n",
       "      <td>122.0</td>\n",
       "      <td>270.0</td>\n",
       "      <td>...</td>\n",
       "      <td>0.25</td>\n",
       "      <td>0.12</td>\n",
       "      <td>0.40</td>\n",
       "      <td>25.0</td>\n",
       "      <td>12.0</td>\n",
       "      <td>40.0</td>\n",
       "      <td>94.0</td>\n",
       "      <td>50.0</td>\n",
       "      <td>35.0</td>\n",
       "      <td>77.0</td>\n",
       "    </tr>\n",
       "    <tr>\n",
       "      <th>13</th>\n",
       "      <td>Afghanistan</td>\n",
       "      <td>AF</td>\n",
       "      <td>AFG</td>\n",
       "      <td>4</td>\n",
       "      <td>EMR</td>\n",
       "      <td>2013</td>\n",
       "      <td>31541209</td>\n",
       "      <td>189.0</td>\n",
       "      <td>122.0</td>\n",
       "      <td>270.0</td>\n",
       "      <td>...</td>\n",
       "      <td>0.24</td>\n",
       "      <td>0.12</td>\n",
       "      <td>0.39</td>\n",
       "      <td>24.0</td>\n",
       "      <td>12.0</td>\n",
       "      <td>39.0</td>\n",
       "      <td>97.0</td>\n",
       "      <td>51.0</td>\n",
       "      <td>36.0</td>\n",
       "      <td>79.0</td>\n",
       "    </tr>\n",
       "    <tr>\n",
       "      <th>14</th>\n",
       "      <td>Afghanistan</td>\n",
       "      <td>AF</td>\n",
       "      <td>AFG</td>\n",
       "      <td>4</td>\n",
       "      <td>EMR</td>\n",
       "      <td>2014</td>\n",
       "      <td>32716210</td>\n",
       "      <td>189.0</td>\n",
       "      <td>122.0</td>\n",
       "      <td>270.0</td>\n",
       "      <td>...</td>\n",
       "      <td>0.24</td>\n",
       "      <td>0.12</td>\n",
       "      <td>0.39</td>\n",
       "      <td>24.0</td>\n",
       "      <td>12.0</td>\n",
       "      <td>39.0</td>\n",
       "      <td>97.0</td>\n",
       "      <td>51.0</td>\n",
       "      <td>36.0</td>\n",
       "      <td>79.0</td>\n",
       "    </tr>\n",
       "    <tr>\n",
       "      <th>15</th>\n",
       "      <td>Afghanistan</td>\n",
       "      <td>AF</td>\n",
       "      <td>AFG</td>\n",
       "      <td>4</td>\n",
       "      <td>EMR</td>\n",
       "      <td>2015</td>\n",
       "      <td>33753499</td>\n",
       "      <td>189.0</td>\n",
       "      <td>122.0</td>\n",
       "      <td>270.0</td>\n",
       "      <td>...</td>\n",
       "      <td>0.22</td>\n",
       "      <td>0.11</td>\n",
       "      <td>0.36</td>\n",
       "      <td>22.0</td>\n",
       "      <td>11.0</td>\n",
       "      <td>36.0</td>\n",
       "      <td>106.0</td>\n",
       "      <td>56.0</td>\n",
       "      <td>39.0</td>\n",
       "      <td>87.0</td>\n",
       "    </tr>\n",
       "    <tr>\n",
       "      <th>16</th>\n",
       "      <td>Afghanistan</td>\n",
       "      <td>AF</td>\n",
       "      <td>AFG</td>\n",
       "      <td>4</td>\n",
       "      <td>EMR</td>\n",
       "      <td>2016</td>\n",
       "      <td>34636207</td>\n",
       "      <td>189.0</td>\n",
       "      <td>122.0</td>\n",
       "      <td>270.0</td>\n",
       "      <td>...</td>\n",
       "      <td>0.19</td>\n",
       "      <td>0.09</td>\n",
       "      <td>0.31</td>\n",
       "      <td>19.0</td>\n",
       "      <td>9.0</td>\n",
       "      <td>31.0</td>\n",
       "      <td>121.0</td>\n",
       "      <td>64.0</td>\n",
       "      <td>45.0</td>\n",
       "      <td>99.0</td>\n",
       "    </tr>\n",
       "    <tr>\n",
       "      <th>17</th>\n",
       "      <td>Afghanistan</td>\n",
       "      <td>AF</td>\n",
       "      <td>AFG</td>\n",
       "      <td>4</td>\n",
       "      <td>EMR</td>\n",
       "      <td>2017</td>\n",
       "      <td>35643418</td>\n",
       "      <td>189.0</td>\n",
       "      <td>122.0</td>\n",
       "      <td>270.0</td>\n",
       "      <td>...</td>\n",
       "      <td>0.16</td>\n",
       "      <td>0.08</td>\n",
       "      <td>0.27</td>\n",
       "      <td>16.0</td>\n",
       "      <td>8.0</td>\n",
       "      <td>27.0</td>\n",
       "      <td>131.0</td>\n",
       "      <td>69.0</td>\n",
       "      <td>49.0</td>\n",
       "      <td>110.0</td>\n",
       "    </tr>\n",
       "    <tr>\n",
       "      <th>18</th>\n",
       "      <td>Afghanistan</td>\n",
       "      <td>AF</td>\n",
       "      <td>AFG</td>\n",
       "      <td>4</td>\n",
       "      <td>EMR</td>\n",
       "      <td>2018</td>\n",
       "      <td>36686784</td>\n",
       "      <td>189.0</td>\n",
       "      <td>122.0</td>\n",
       "      <td>270.0</td>\n",
       "      <td>...</td>\n",
       "      <td>0.16</td>\n",
       "      <td>0.08</td>\n",
       "      <td>0.26</td>\n",
       "      <td>16.0</td>\n",
       "      <td>8.0</td>\n",
       "      <td>26.0</td>\n",
       "      <td>132.0</td>\n",
       "      <td>70.0</td>\n",
       "      <td>49.0</td>\n",
       "      <td>110.0</td>\n",
       "    </tr>\n",
       "    <tr>\n",
       "      <th>19</th>\n",
       "      <td>Afghanistan</td>\n",
       "      <td>AF</td>\n",
       "      <td>AFG</td>\n",
       "      <td>4</td>\n",
       "      <td>EMR</td>\n",
       "      <td>2019</td>\n",
       "      <td>37769499</td>\n",
       "      <td>189.0</td>\n",
       "      <td>122.0</td>\n",
       "      <td>270.0</td>\n",
       "      <td>...</td>\n",
       "      <td>0.14</td>\n",
       "      <td>0.07</td>\n",
       "      <td>0.24</td>\n",
       "      <td>14.0</td>\n",
       "      <td>7.0</td>\n",
       "      <td>24.0</td>\n",
       "      <td>139.0</td>\n",
       "      <td>74.0</td>\n",
       "      <td>51.0</td>\n",
       "      <td>110.0</td>\n",
       "    </tr>\n",
       "    <tr>\n",
       "      <th>20</th>\n",
       "      <td>Afghanistan</td>\n",
       "      <td>AF</td>\n",
       "      <td>AFG</td>\n",
       "      <td>4</td>\n",
       "      <td>EMR</td>\n",
       "      <td>2020</td>\n",
       "      <td>38972230</td>\n",
       "      <td>183.0</td>\n",
       "      <td>118.0</td>\n",
       "      <td>260.0</td>\n",
       "      <td>...</td>\n",
       "      <td>0.15</td>\n",
       "      <td>0.08</td>\n",
       "      <td>0.24</td>\n",
       "      <td>15.0</td>\n",
       "      <td>8.0</td>\n",
       "      <td>24.0</td>\n",
       "      <td>118.0</td>\n",
       "      <td>64.0</td>\n",
       "      <td>45.0</td>\n",
       "      <td>100.0</td>\n",
       "    </tr>\n",
       "    <tr>\n",
       "      <th>21</th>\n",
       "      <td>Afghanistan</td>\n",
       "      <td>AF</td>\n",
       "      <td>AFG</td>\n",
       "      <td>4</td>\n",
       "      <td>EMR</td>\n",
       "      <td>2021</td>\n",
       "      <td>40099462</td>\n",
       "      <td>185.0</td>\n",
       "      <td>118.0</td>\n",
       "      <td>257.0</td>\n",
       "      <td>...</td>\n",
       "      <td>0.14</td>\n",
       "      <td>0.07</td>\n",
       "      <td>0.23</td>\n",
       "      <td>14.0</td>\n",
       "      <td>7.0</td>\n",
       "      <td>23.0</td>\n",
       "      <td>125.0</td>\n",
       "      <td>68.0</td>\n",
       "      <td>49.0</td>\n",
       "      <td>110.0</td>\n",
       "    </tr>\n",
       "    <tr>\n",
       "      <th>22</th>\n",
       "      <td>Afghanistan</td>\n",
       "      <td>AF</td>\n",
       "      <td>AFG</td>\n",
       "      <td>4</td>\n",
       "      <td>EMR</td>\n",
       "      <td>2022</td>\n",
       "      <td>41128771</td>\n",
       "      <td>185.0</td>\n",
       "      <td>117.0</td>\n",
       "      <td>255.0</td>\n",
       "      <td>...</td>\n",
       "      <td>0.14</td>\n",
       "      <td>0.07</td>\n",
       "      <td>0.22</td>\n",
       "      <td>14.0</td>\n",
       "      <td>7.0</td>\n",
       "      <td>22.0</td>\n",
       "      <td>126.0</td>\n",
       "      <td>68.0</td>\n",
       "      <td>49.0</td>\n",
       "      <td>110.0</td>\n",
       "    </tr>\n",
       "  </tbody>\n",
       "</table>\n",
       "<p>23 rows × 50 columns</p>\n",
       "</div>"
      ],
      "text/plain": [
       "        country iso2 iso3  iso_numeric g_whoregion  year  e_pop_num  \\\n",
       "0   Afghanistan   AF  AFG            4         EMR  2000   19542982   \n",
       "1   Afghanistan   AF  AFG            4         EMR  2001   19688632   \n",
       "2   Afghanistan   AF  AFG            4         EMR  2002   21000256   \n",
       "3   Afghanistan   AF  AFG            4         EMR  2003   22645130   \n",
       "4   Afghanistan   AF  AFG            4         EMR  2004   23553551   \n",
       "5   Afghanistan   AF  AFG            4         EMR  2005   24411191   \n",
       "6   Afghanistan   AF  AFG            4         EMR  2006   25442944   \n",
       "7   Afghanistan   AF  AFG            4         EMR  2007   25903301   \n",
       "8   Afghanistan   AF  AFG            4         EMR  2008   26427199   \n",
       "9   Afghanistan   AF  AFG            4         EMR  2009   27385307   \n",
       "10  Afghanistan   AF  AFG            4         EMR  2010   28189672   \n",
       "11  Afghanistan   AF  AFG            4         EMR  2011   29249157   \n",
       "12  Afghanistan   AF  AFG            4         EMR  2012   30466479   \n",
       "13  Afghanistan   AF  AFG            4         EMR  2013   31541209   \n",
       "14  Afghanistan   AF  AFG            4         EMR  2014   32716210   \n",
       "15  Afghanistan   AF  AFG            4         EMR  2015   33753499   \n",
       "16  Afghanistan   AF  AFG            4         EMR  2016   34636207   \n",
       "17  Afghanistan   AF  AFG            4         EMR  2017   35643418   \n",
       "18  Afghanistan   AF  AFG            4         EMR  2018   36686784   \n",
       "19  Afghanistan   AF  AFG            4         EMR  2019   37769499   \n",
       "20  Afghanistan   AF  AFG            4         EMR  2020   38972230   \n",
       "21  Afghanistan   AF  AFG            4         EMR  2021   40099462   \n",
       "22  Afghanistan   AF  AFG            4         EMR  2022   41128771   \n",
       "\n",
       "    e_inc_100k  e_inc_100k_lo  e_inc_100k_hi  ...   cfr  cfr_lo  cfr_hi  \\\n",
       "0        190.0          122.0          271.0  ...  0.37    0.17    0.61   \n",
       "1        189.0          122.0          271.0  ...  0.35    0.16    0.56   \n",
       "2        189.0          122.0          270.0  ...  0.31    0.15    0.51   \n",
       "3        189.0          122.0          270.0  ...  0.32    0.15    0.52   \n",
       "4        189.0          122.0          270.0  ...  0.28    0.13    0.46   \n",
       "5        189.0          122.0          270.0  ...  0.26    0.12    0.43   \n",
       "6        189.0          122.0          270.0  ...  0.24    0.11    0.39   \n",
       "7        189.0          122.0          270.0  ...  0.21    0.10    0.35   \n",
       "8        189.0          122.0          271.0  ...  0.22    0.11    0.37   \n",
       "9        189.0          122.0          271.0  ...  0.25    0.12    0.40   \n",
       "10       189.0          122.0          271.0  ...  0.24    0.11    0.39   \n",
       "11       189.0          122.0          271.0  ...  0.24    0.12    0.40   \n",
       "12       189.0          122.0          270.0  ...  0.25    0.12    0.40   \n",
       "13       189.0          122.0          270.0  ...  0.24    0.12    0.39   \n",
       "14       189.0          122.0          270.0  ...  0.24    0.12    0.39   \n",
       "15       189.0          122.0          270.0  ...  0.22    0.11    0.36   \n",
       "16       189.0          122.0          270.0  ...  0.19    0.09    0.31   \n",
       "17       189.0          122.0          270.0  ...  0.16    0.08    0.27   \n",
       "18       189.0          122.0          270.0  ...  0.16    0.08    0.26   \n",
       "19       189.0          122.0          270.0  ...  0.14    0.07    0.24   \n",
       "20       183.0          118.0          260.0  ...  0.15    0.08    0.24   \n",
       "21       185.0          118.0          257.0  ...  0.14    0.07    0.23   \n",
       "22       185.0          117.0          255.0  ...  0.14    0.07    0.22   \n",
       "\n",
       "    cfr_pct  cfr_pct_lo  cfr_pct_hi  c_newinc_100k  c_cdr  c_cdr_lo  c_cdr_hi  \n",
       "0      37.0        17.0        61.0           36.0   19.0      13.0      30.0  \n",
       "1      35.0        16.0        56.0           51.0   27.0      19.0      42.0  \n",
       "2      31.0        15.0        51.0           66.0   35.0      24.0      54.0  \n",
       "3      32.0        15.0        52.0           61.0   32.0      23.0      50.0  \n",
       "4      28.0        13.0        46.0           78.0   41.0      29.0      64.0  \n",
       "5      26.0        12.0        43.0           89.0   47.0      33.0      73.0  \n",
       "6      24.0        11.0        39.0          100.0   53.0      37.0      82.0  \n",
       "7      21.0        10.0        35.0          111.0   59.0      41.0      91.0  \n",
       "8      22.0        11.0        37.0          107.0   57.0      40.0      88.0  \n",
       "9      25.0        12.0        40.0           95.0   50.0      35.0      78.0  \n",
       "10     24.0        11.0        39.0           99.0   53.0      37.0      81.0  \n",
       "11     24.0        12.0        40.0           96.0   51.0      35.0      78.0  \n",
       "12     25.0        12.0        40.0           94.0   50.0      35.0      77.0  \n",
       "13     24.0        12.0        39.0           97.0   51.0      36.0      79.0  \n",
       "14     24.0        12.0        39.0           97.0   51.0      36.0      79.0  \n",
       "15     22.0        11.0        36.0          106.0   56.0      39.0      87.0  \n",
       "16     19.0         9.0        31.0          121.0   64.0      45.0      99.0  \n",
       "17     16.0         8.0        27.0          131.0   69.0      49.0     110.0  \n",
       "18     16.0         8.0        26.0          132.0   70.0      49.0     110.0  \n",
       "19     14.0         7.0        24.0          139.0   74.0      51.0     110.0  \n",
       "20     15.0         8.0        24.0          118.0   64.0      45.0     100.0  \n",
       "21     14.0         7.0        23.0          125.0   68.0      49.0     110.0  \n",
       "22     14.0         7.0        22.0          126.0   68.0      49.0     110.0  \n",
       "\n",
       "[23 rows x 50 columns]"
      ]
     },
     "execution_count": 22,
     "metadata": {},
     "output_type": "execute_result"
    }
   ],
   "source": [
    "tb.loc[tb[\"country\"] == \"Afghanistan\"]"
   ]
  },
  {
   "cell_type": "code",
   "execution_count": null,
   "metadata": {},
   "outputs": [
    {
     "data": {
      "text/plain": [
       "['iso_numeric',\n",
       " 'e_pop_num',\n",
       " 'e_inc_num',\n",
       " 'e_inc_tbhiv_num',\n",
       " 'e_mort_exc_tbhiv_num',\n",
       " 'e_mort_tbhiv_num',\n",
       " 'e_mort_num']"
      ]
     },
     "execution_count": 13,
     "metadata": {},
     "output_type": "execute_result"
    }
   ],
   "source": [
    "cols = [col for col in tb.columns if \"_num\" in col]\n",
    "cols = [col for col in cols if \"_hi\" not in col]\n",
    "cols = [col for col in cols if \"_lo\" not in col]\n",
    "\n",
    "cols"
   ]
  },
  {
   "cell_type": "code",
   "execution_count": null,
   "metadata": {},
   "outputs": [
    {
     "data": {
      "text/html": [
       "<div>\n",
       "<style scoped>\n",
       "    .dataframe tbody tr th:only-of-type {\n",
       "        vertical-align: middle;\n",
       "    }\n",
       "\n",
       "    .dataframe tbody tr th {\n",
       "        vertical-align: top;\n",
       "    }\n",
       "\n",
       "    .dataframe thead th {\n",
       "        text-align: right;\n",
       "    }\n",
       "</style>\n",
       "<table border=\"1\" class=\"dataframe\">\n",
       "  <thead>\n",
       "    <tr style=\"text-align: right;\">\n",
       "      <th></th>\n",
       "      <th>country</th>\n",
       "      <th>iso2</th>\n",
       "      <th>iso3</th>\n",
       "      <th>iso_numeric</th>\n",
       "      <th>year</th>\n",
       "      <th>measure</th>\n",
       "      <th>unit</th>\n",
       "      <th>age_group</th>\n",
       "      <th>sex</th>\n",
       "      <th>risk_factor</th>\n",
       "      <th>best</th>\n",
       "      <th>lo</th>\n",
       "      <th>hi</th>\n",
       "    </tr>\n",
       "  </thead>\n",
       "  <tbody>\n",
       "    <tr>\n",
       "      <th>0</th>\n",
       "      <td>Afghanistan</td>\n",
       "      <td>AF</td>\n",
       "      <td>AFG</td>\n",
       "      <td>4</td>\n",
       "      <td>2022</td>\n",
       "      <td>inc</td>\n",
       "      <td>num</td>\n",
       "      <td>0-14</td>\n",
       "      <td>a</td>\n",
       "      <td>all</td>\n",
       "      <td>15000</td>\n",
       "      <td>8300</td>\n",
       "      <td>22000</td>\n",
       "    </tr>\n",
       "    <tr>\n",
       "      <th>1</th>\n",
       "      <td>Afghanistan</td>\n",
       "      <td>AF</td>\n",
       "      <td>AFG</td>\n",
       "      <td>4</td>\n",
       "      <td>2022</td>\n",
       "      <td>inc</td>\n",
       "      <td>num</td>\n",
       "      <td>0-14</td>\n",
       "      <td>f</td>\n",
       "      <td>all</td>\n",
       "      <td>7400</td>\n",
       "      <td>2700</td>\n",
       "      <td>12000</td>\n",
       "    </tr>\n",
       "    <tr>\n",
       "      <th>2</th>\n",
       "      <td>Afghanistan</td>\n",
       "      <td>AF</td>\n",
       "      <td>AFG</td>\n",
       "      <td>4</td>\n",
       "      <td>2022</td>\n",
       "      <td>inc</td>\n",
       "      <td>num</td>\n",
       "      <td>0-14</td>\n",
       "      <td>m</td>\n",
       "      <td>all</td>\n",
       "      <td>7900</td>\n",
       "      <td>2800</td>\n",
       "      <td>13000</td>\n",
       "    </tr>\n",
       "    <tr>\n",
       "      <th>3</th>\n",
       "      <td>Afghanistan</td>\n",
       "      <td>AF</td>\n",
       "      <td>AFG</td>\n",
       "      <td>4</td>\n",
       "      <td>2022</td>\n",
       "      <td>inc</td>\n",
       "      <td>num</td>\n",
       "      <td>0-4</td>\n",
       "      <td>f</td>\n",
       "      <td>all</td>\n",
       "      <td>3400</td>\n",
       "      <td>0</td>\n",
       "      <td>8300</td>\n",
       "    </tr>\n",
       "    <tr>\n",
       "      <th>4</th>\n",
       "      <td>Afghanistan</td>\n",
       "      <td>AF</td>\n",
       "      <td>AFG</td>\n",
       "      <td>4</td>\n",
       "      <td>2022</td>\n",
       "      <td>inc</td>\n",
       "      <td>num</td>\n",
       "      <td>0-4</td>\n",
       "      <td>m</td>\n",
       "      <td>all</td>\n",
       "      <td>4000</td>\n",
       "      <td>0</td>\n",
       "      <td>9900</td>\n",
       "    </tr>\n",
       "    <tr>\n",
       "      <th>...</th>\n",
       "      <td>...</td>\n",
       "      <td>...</td>\n",
       "      <td>...</td>\n",
       "      <td>...</td>\n",
       "      <td>...</td>\n",
       "      <td>...</td>\n",
       "      <td>...</td>\n",
       "      <td>...</td>\n",
       "      <td>...</td>\n",
       "      <td>...</td>\n",
       "      <td>...</td>\n",
       "      <td>...</td>\n",
       "      <td>...</td>\n",
       "    </tr>\n",
       "    <tr>\n",
       "      <th>7300</th>\n",
       "      <td>Zimbabwe</td>\n",
       "      <td>ZW</td>\n",
       "      <td>ZWE</td>\n",
       "      <td>716</td>\n",
       "      <td>2022</td>\n",
       "      <td>inc</td>\n",
       "      <td>num</td>\n",
       "      <td>65plus</td>\n",
       "      <td>m</td>\n",
       "      <td>all</td>\n",
       "      <td>1700</td>\n",
       "      <td>0</td>\n",
       "      <td>3800</td>\n",
       "    </tr>\n",
       "    <tr>\n",
       "      <th>7301</th>\n",
       "      <td>Zimbabwe</td>\n",
       "      <td>ZW</td>\n",
       "      <td>ZWE</td>\n",
       "      <td>716</td>\n",
       "      <td>2022</td>\n",
       "      <td>inc</td>\n",
       "      <td>num</td>\n",
       "      <td>all</td>\n",
       "      <td>a</td>\n",
       "      <td>all</td>\n",
       "      <td>33000</td>\n",
       "      <td>22000</td>\n",
       "      <td>45000</td>\n",
       "    </tr>\n",
       "    <tr>\n",
       "      <th>7302</th>\n",
       "      <td>Zimbabwe</td>\n",
       "      <td>ZW</td>\n",
       "      <td>ZWE</td>\n",
       "      <td>716</td>\n",
       "      <td>2022</td>\n",
       "      <td>inc</td>\n",
       "      <td>num</td>\n",
       "      <td>all</td>\n",
       "      <td>a</td>\n",
       "      <td>hiv</td>\n",
       "      <td>20000</td>\n",
       "      <td>11000</td>\n",
       "      <td>31000</td>\n",
       "    </tr>\n",
       "    <tr>\n",
       "      <th>7303</th>\n",
       "      <td>Zimbabwe</td>\n",
       "      <td>ZW</td>\n",
       "      <td>ZWE</td>\n",
       "      <td>716</td>\n",
       "      <td>2022</td>\n",
       "      <td>inc</td>\n",
       "      <td>num</td>\n",
       "      <td>all</td>\n",
       "      <td>f</td>\n",
       "      <td>all</td>\n",
       "      <td>14000</td>\n",
       "      <td>7400</td>\n",
       "      <td>21000</td>\n",
       "    </tr>\n",
       "    <tr>\n",
       "      <th>7304</th>\n",
       "      <td>Zimbabwe</td>\n",
       "      <td>ZW</td>\n",
       "      <td>ZWE</td>\n",
       "      <td>716</td>\n",
       "      <td>2022</td>\n",
       "      <td>inc</td>\n",
       "      <td>num</td>\n",
       "      <td>all</td>\n",
       "      <td>m</td>\n",
       "      <td>all</td>\n",
       "      <td>19000</td>\n",
       "      <td>10000</td>\n",
       "      <td>28000</td>\n",
       "    </tr>\n",
       "  </tbody>\n",
       "</table>\n",
       "<p>7305 rows × 13 columns</p>\n",
       "</div>"
      ],
      "text/plain": [
       "          country iso2 iso3  iso_numeric  year measure unit age_group sex  \\\n",
       "0     Afghanistan   AF  AFG            4  2022     inc  num      0-14   a   \n",
       "1     Afghanistan   AF  AFG            4  2022     inc  num      0-14   f   \n",
       "2     Afghanistan   AF  AFG            4  2022     inc  num      0-14   m   \n",
       "3     Afghanistan   AF  AFG            4  2022     inc  num       0-4   f   \n",
       "4     Afghanistan   AF  AFG            4  2022     inc  num       0-4   m   \n",
       "...           ...  ...  ...          ...   ...     ...  ...       ...  ..   \n",
       "7300     Zimbabwe   ZW  ZWE          716  2022     inc  num    65plus   m   \n",
       "7301     Zimbabwe   ZW  ZWE          716  2022     inc  num       all   a   \n",
       "7302     Zimbabwe   ZW  ZWE          716  2022     inc  num       all   a   \n",
       "7303     Zimbabwe   ZW  ZWE          716  2022     inc  num       all   f   \n",
       "7304     Zimbabwe   ZW  ZWE          716  2022     inc  num       all   m   \n",
       "\n",
       "     risk_factor   best     lo     hi  \n",
       "0            all  15000   8300  22000  \n",
       "1            all   7400   2700  12000  \n",
       "2            all   7900   2800  13000  \n",
       "3            all   3400      0   8300  \n",
       "4            all   4000      0   9900  \n",
       "...          ...    ...    ...    ...  \n",
       "7300         all   1700      0   3800  \n",
       "7301         all  33000  22000  45000  \n",
       "7302         hiv  20000  11000  31000  \n",
       "7303         all  14000   7400  21000  \n",
       "7304         all  19000  10000  28000  \n",
       "\n",
       "[7305 rows x 13 columns]"
      ]
     },
     "execution_count": 15,
     "metadata": {},
     "output_type": "execute_result"
    }
   ],
   "source": [
    "tb_agg = pd.read_csv(\"TB_burden_age_sex_2024-03-25.csv\")\n",
    "tb_agg"
   ]
  },
  {
   "cell_type": "code",
   "execution_count": null,
   "metadata": {},
   "outputs": [
    {
     "data": {
      "text/plain": [
       "215"
      ]
     },
     "execution_count": 48,
     "metadata": {},
     "output_type": "execute_result"
    }
   ],
   "source": [
    "len(tb_agg[\"country\"].unique())"
   ]
  },
  {
   "cell_type": "code",
   "execution_count": null,
   "metadata": {},
   "outputs": [
    {
     "data": {
      "text/plain": [
       "{'Netherlands Antilles', 'Serbia & Montenegro'}"
      ]
     },
     "execution_count": 51,
     "metadata": {},
     "output_type": "execute_result"
    }
   ],
   "source": [
    "agg_cols = set(tb_agg[\"country\"].unique())\n",
    "\n",
    "col_set = set(tb[\"country\"].unique())\n",
    "\n",
    "agg_cols ^ col_set"
   ]
  },
  {
   "cell_type": "code",
   "execution_count": null,
   "metadata": {},
   "outputs": [
    {
     "name": "stderr",
     "output_type": "stream",
     "text": [
      "/var/folders/st/m8tx8cq17pzccky_vq84z0yh0000gn/T/ipykernel_62132/1162959419.py:1: FutureWarning: Series.__getitem__ treating keys as positions is deprecated. In a future version, integer keys will always be treated as labels (consistent with DataFrame behavior). To access a value by position, use `ser.iloc[pos]`\n",
      "  tb_agg.groupby([\"country\"])[\"age_group\"].unique()[0]\n"
     ]
    },
    {
     "data": {
      "text/plain": [
       "array(['0-14', '0-4', '15-24', '15plus', '18plus', '25-34', '35-44',\n",
       "       '45-54', '5-14', '55-64', '65plus', 'all'], dtype=object)"
      ]
     },
     "execution_count": 58,
     "metadata": {},
     "output_type": "execute_result"
    }
   ],
   "source": [
    "tb_agg.groupby([\"country\"])[\"age_group\"].unique()[0]"
   ]
  },
  {
   "cell_type": "code",
   "execution_count": null,
   "metadata": {},
   "outputs": [
    {
     "data": {
      "text/plain": [
       "array(['0-14', '0-4', '15-24', '15plus', '18plus', '25-34', '35-44',\n",
       "       '45-54', '5-14', '55-64', '65plus', 'all'], dtype=object)"
      ]
     },
     "execution_count": 59,
     "metadata": {},
     "output_type": "execute_result"
    }
   ],
   "source": [
    "tb_agg[\"age_group\"].unique()"
   ]
  },
  {
   "cell_type": "code",
   "execution_count": null,
   "metadata": {},
   "outputs": [
    {
     "data": {
      "text/plain": [
       "array(['a', 'f', 'm'], dtype=object)"
      ]
     },
     "execution_count": 60,
     "metadata": {},
     "output_type": "execute_result"
    }
   ],
   "source": [
    "tb_agg[\"sex\"].unique()"
   ]
  },
  {
   "cell_type": "code",
   "execution_count": null,
   "metadata": {},
   "outputs": [
    {
     "data": {
      "text/plain": [
       "country                     Afghanistan\n",
       "iso2                                 AF\n",
       "iso3                                AFG\n",
       "iso_numeric                           4\n",
       "g_whoregion                         EMR\n",
       "year                               2000\n",
       "e_pop_num                      19542982\n",
       "e_inc_100k                        190.0\n",
       "e_inc_100k_lo                     122.0\n",
       "e_inc_100k_hi                     271.0\n",
       "e_inc_num                         37000\n",
       "e_inc_num_lo                      24000\n",
       "e_inc_num_hi                      53000\n",
       "e_tbhiv_prct                       0.02\n",
       "e_tbhiv_prct_lo                     0.0\n",
       "e_tbhiv_prct_hi                    0.05\n",
       "e_inc_tbhiv_100k                   0.03\n",
       "e_inc_tbhiv_100k_lo                 0.0\n",
       "e_inc_tbhiv_100k_hi                 0.1\n",
       "e_inc_tbhiv_num                     6.0\n",
       "e_inc_tbhiv_num_lo                  1.0\n",
       "e_inc_tbhiv_num_hi                 19.0\n",
       "e_mort_exc_tbhiv_100k              68.0\n",
       "e_mort_exc_tbhiv_100k_lo           39.0\n",
       "e_mort_exc_tbhiv_100k_hi          104.0\n",
       "e_mort_exc_tbhiv_num            13000.0\n",
       "e_mort_exc_tbhiv_num_lo          7600.0\n",
       "e_mort_exc_tbhiv_num_hi         20000.0\n",
       "e_mort_tbhiv_100k                  0.17\n",
       "e_mort_tbhiv_100k_lo                0.1\n",
       "e_mort_tbhiv_100k_hi               0.26\n",
       "e_mort_tbhiv_num                   33.0\n",
       "e_mort_tbhiv_num_lo                19.0\n",
       "e_mort_tbhiv_num_hi                51.0\n",
       "e_mort_100k                        68.0\n",
       "e_mort_100k_lo                     39.0\n",
       "e_mort_100k_hi                    104.0\n",
       "e_mort_num                      13000.0\n",
       "e_mort_num_lo                    7600.0\n",
       "e_mort_num_hi                   20000.0\n",
       "cfr                                0.37\n",
       "cfr_lo                             0.17\n",
       "cfr_hi                             0.61\n",
       "cfr_pct                            37.0\n",
       "cfr_pct_lo                         17.0\n",
       "cfr_pct_hi                         61.0\n",
       "c_newinc_100k                      36.0\n",
       "c_cdr                              19.0\n",
       "c_cdr_lo                           13.0\n",
       "c_cdr_hi                           30.0\n",
       "Name: 0, dtype: object"
      ]
     },
     "execution_count": 72,
     "metadata": {},
     "output_type": "execute_result"
    }
   ],
   "source": [
    "tb.loc[(tb[\"country\"] == \"Afghanistan\")].loc[0, :]"
   ]
  },
  {
   "cell_type": "markdown",
   "metadata": {},
   "source": [
    "## Building Cards to display global statistics"
   ]
  },
  {
   "cell_type": "code",
   "execution_count": 1,
   "metadata": {},
   "outputs": [],
   "source": [
    "import pandas as pd\n",
    "import os\n",
    "import plotly.express as px"
   ]
  },
  {
   "cell_type": "code",
   "execution_count": 2,
   "metadata": {},
   "outputs": [],
   "source": [
    "os.chdir('/Users/hinabandukwala/Documents/MDS/DSCI-532_2024_1_TBtracker')"
   ]
  },
  {
   "cell_type": "code",
   "execution_count": 5,
   "metadata": {},
   "outputs": [],
   "source": [
    "tb_data = pd.read_parquet(\"data/processed/tb_data.parquet\")"
   ]
  },
  {
   "cell_type": "code",
   "execution_count": 6,
   "metadata": {},
   "outputs": [
    {
     "data": {
      "text/plain": [
       "-2.967746014798741"
      ]
     },
     "execution_count": 6,
     "metadata": {},
     "output_type": "execute_result"
    }
   ],
   "source": [
    "global_stat = tb_data.loc[tb_data[\"year\"] == 2022][\"mortality_rate\"].sum()\n",
    "global_stat"
   ]
  },
  {
   "cell_type": "code",
   "execution_count": 16,
   "metadata": {},
   "outputs": [
    {
     "data": {
      "text/html": [
       "<div>\n",
       "<style scoped>\n",
       "    .dataframe tbody tr th:only-of-type {\n",
       "        vertical-align: middle;\n",
       "    }\n",
       "\n",
       "    .dataframe tbody tr th {\n",
       "        vertical-align: top;\n",
       "    }\n",
       "\n",
       "    .dataframe thead th {\n",
       "        text-align: right;\n",
       "    }\n",
       "</style>\n",
       "<table border=\"1\" class=\"dataframe\">\n",
       "  <thead>\n",
       "    <tr style=\"text-align: right;\">\n",
       "      <th></th>\n",
       "      <th>country</th>\n",
       "      <th>year</th>\n",
       "      <th>iso2</th>\n",
       "      <th>iso3</th>\n",
       "      <th>iso_numeric</th>\n",
       "      <th>e_pop_num</th>\n",
       "      <th>e_inc_num</th>\n",
       "      <th>e_inc_num_hi</th>\n",
       "      <th>e_inc_num_lo</th>\n",
       "      <th>e_inc_tbhiv_num</th>\n",
       "      <th>...</th>\n",
       "      <th>cfr</th>\n",
       "      <th>cfr_hi</th>\n",
       "      <th>cfr_lo</th>\n",
       "      <th>incidence_total</th>\n",
       "      <th>incidence_rate</th>\n",
       "      <th>mortality_total</th>\n",
       "      <th>mortality_rate</th>\n",
       "      <th>cfr_total</th>\n",
       "      <th>tbhiv_coinfection_total</th>\n",
       "      <th>tbhiv_coinfection_rate</th>\n",
       "    </tr>\n",
       "  </thead>\n",
       "  <tbody>\n",
       "    <tr>\n",
       "      <th>69</th>\n",
       "      <td>American Samoa</td>\n",
       "      <td>2000</td>\n",
       "      <td>AS</td>\n",
       "      <td>ASM</td>\n",
       "      <td>16.0</td>\n",
       "      <td>58230.0</td>\n",
       "      <td>3.0</td>\n",
       "      <td>4.0</td>\n",
       "      <td>3.0</td>\n",
       "      <td>-1.0</td>\n",
       "      <td>...</td>\n",
       "      <td>0.08</td>\n",
       "      <td>0.13</td>\n",
       "      <td>0.05</td>\n",
       "      <td>7.0</td>\n",
       "      <td>0.000120</td>\n",
       "      <td>0.0</td>\n",
       "      <td>0.0</td>\n",
       "      <td>0.08</td>\n",
       "      <td>-1.0</td>\n",
       "      <td>-1.0</td>\n",
       "    </tr>\n",
       "    <tr>\n",
       "      <th>70</th>\n",
       "      <td>American Samoa</td>\n",
       "      <td>2001</td>\n",
       "      <td>AS</td>\n",
       "      <td>ASM</td>\n",
       "      <td>16.0</td>\n",
       "      <td>58324.0</td>\n",
       "      <td>3.0</td>\n",
       "      <td>4.0</td>\n",
       "      <td>3.0</td>\n",
       "      <td>-1.0</td>\n",
       "      <td>...</td>\n",
       "      <td>0.08</td>\n",
       "      <td>0.12</td>\n",
       "      <td>0.05</td>\n",
       "      <td>7.0</td>\n",
       "      <td>0.000120</td>\n",
       "      <td>0.0</td>\n",
       "      <td>0.0</td>\n",
       "      <td>0.08</td>\n",
       "      <td>-1.0</td>\n",
       "      <td>-1.0</td>\n",
       "    </tr>\n",
       "    <tr>\n",
       "      <th>71</th>\n",
       "      <td>American Samoa</td>\n",
       "      <td>2002</td>\n",
       "      <td>AS</td>\n",
       "      <td>ASM</td>\n",
       "      <td>16.0</td>\n",
       "      <td>58177.0</td>\n",
       "      <td>2.0</td>\n",
       "      <td>3.0</td>\n",
       "      <td>2.0</td>\n",
       "      <td>-1.0</td>\n",
       "      <td>...</td>\n",
       "      <td>0.08</td>\n",
       "      <td>0.12</td>\n",
       "      <td>0.05</td>\n",
       "      <td>5.0</td>\n",
       "      <td>0.000086</td>\n",
       "      <td>0.0</td>\n",
       "      <td>0.0</td>\n",
       "      <td>0.08</td>\n",
       "      <td>-1.0</td>\n",
       "      <td>-1.0</td>\n",
       "    </tr>\n",
       "    <tr>\n",
       "      <th>72</th>\n",
       "      <td>American Samoa</td>\n",
       "      <td>2003</td>\n",
       "      <td>AS</td>\n",
       "      <td>ASM</td>\n",
       "      <td>16.0</td>\n",
       "      <td>57941.0</td>\n",
       "      <td>3.0</td>\n",
       "      <td>4.0</td>\n",
       "      <td>3.0</td>\n",
       "      <td>-1.0</td>\n",
       "      <td>...</td>\n",
       "      <td>0.08</td>\n",
       "      <td>0.12</td>\n",
       "      <td>0.05</td>\n",
       "      <td>7.0</td>\n",
       "      <td>0.000121</td>\n",
       "      <td>0.0</td>\n",
       "      <td>0.0</td>\n",
       "      <td>0.08</td>\n",
       "      <td>-1.0</td>\n",
       "      <td>-1.0</td>\n",
       "    </tr>\n",
       "    <tr>\n",
       "      <th>73</th>\n",
       "      <td>American Samoa</td>\n",
       "      <td>2004</td>\n",
       "      <td>AS</td>\n",
       "      <td>ASM</td>\n",
       "      <td>16.0</td>\n",
       "      <td>57626.0</td>\n",
       "      <td>6.0</td>\n",
       "      <td>7.0</td>\n",
       "      <td>5.0</td>\n",
       "      <td>-1.0</td>\n",
       "      <td>...</td>\n",
       "      <td>0.08</td>\n",
       "      <td>0.12</td>\n",
       "      <td>0.05</td>\n",
       "      <td>13.0</td>\n",
       "      <td>0.000226</td>\n",
       "      <td>0.0</td>\n",
       "      <td>0.0</td>\n",
       "      <td>0.08</td>\n",
       "      <td>-1.0</td>\n",
       "      <td>-1.0</td>\n",
       "    </tr>\n",
       "    <tr>\n",
       "      <th>...</th>\n",
       "      <td>...</td>\n",
       "      <td>...</td>\n",
       "      <td>...</td>\n",
       "      <td>...</td>\n",
       "      <td>...</td>\n",
       "      <td>...</td>\n",
       "      <td>...</td>\n",
       "      <td>...</td>\n",
       "      <td>...</td>\n",
       "      <td>...</td>\n",
       "      <td>...</td>\n",
       "      <td>...</td>\n",
       "      <td>...</td>\n",
       "      <td>...</td>\n",
       "      <td>...</td>\n",
       "      <td>...</td>\n",
       "      <td>...</td>\n",
       "      <td>...</td>\n",
       "      <td>...</td>\n",
       "      <td>...</td>\n",
       "      <td>...</td>\n",
       "    </tr>\n",
       "    <tr>\n",
       "      <th>4917</th>\n",
       "      <td>Wallis and Futuna</td>\n",
       "      <td>2018</td>\n",
       "      <td>WF</td>\n",
       "      <td>WLF</td>\n",
       "      <td>876.0</td>\n",
       "      <td>11816.0</td>\n",
       "      <td>0.0</td>\n",
       "      <td>0.0</td>\n",
       "      <td>0.0</td>\n",
       "      <td>-1.0</td>\n",
       "      <td>...</td>\n",
       "      <td>-1.00</td>\n",
       "      <td>-1.00</td>\n",
       "      <td>-1.00</td>\n",
       "      <td>0.0</td>\n",
       "      <td>0.000000</td>\n",
       "      <td>0.0</td>\n",
       "      <td>0.0</td>\n",
       "      <td>-1.00</td>\n",
       "      <td>-1.0</td>\n",
       "      <td>-1.0</td>\n",
       "    </tr>\n",
       "    <tr>\n",
       "      <th>4918</th>\n",
       "      <td>Wallis and Futuna</td>\n",
       "      <td>2019</td>\n",
       "      <td>WF</td>\n",
       "      <td>WLF</td>\n",
       "      <td>876.0</td>\n",
       "      <td>11714.0</td>\n",
       "      <td>1.0</td>\n",
       "      <td>1.0</td>\n",
       "      <td>1.0</td>\n",
       "      <td>-1.0</td>\n",
       "      <td>...</td>\n",
       "      <td>0.09</td>\n",
       "      <td>0.13</td>\n",
       "      <td>0.05</td>\n",
       "      <td>2.0</td>\n",
       "      <td>0.000171</td>\n",
       "      <td>0.0</td>\n",
       "      <td>0.0</td>\n",
       "      <td>0.09</td>\n",
       "      <td>-1.0</td>\n",
       "      <td>-1.0</td>\n",
       "    </tr>\n",
       "    <tr>\n",
       "      <th>4919</th>\n",
       "      <td>Wallis and Futuna</td>\n",
       "      <td>2020</td>\n",
       "      <td>WF</td>\n",
       "      <td>WLF</td>\n",
       "      <td>876.0</td>\n",
       "      <td>11655.0</td>\n",
       "      <td>0.0</td>\n",
       "      <td>0.0</td>\n",
       "      <td>0.0</td>\n",
       "      <td>-1.0</td>\n",
       "      <td>...</td>\n",
       "      <td>-1.00</td>\n",
       "      <td>-1.00</td>\n",
       "      <td>-1.00</td>\n",
       "      <td>0.0</td>\n",
       "      <td>0.000000</td>\n",
       "      <td>0.0</td>\n",
       "      <td>0.0</td>\n",
       "      <td>-1.00</td>\n",
       "      <td>-1.0</td>\n",
       "      <td>-1.0</td>\n",
       "    </tr>\n",
       "    <tr>\n",
       "      <th>4920</th>\n",
       "      <td>Wallis and Futuna</td>\n",
       "      <td>2021</td>\n",
       "      <td>WF</td>\n",
       "      <td>WLF</td>\n",
       "      <td>876.0</td>\n",
       "      <td>11627.0</td>\n",
       "      <td>0.0</td>\n",
       "      <td>0.0</td>\n",
       "      <td>0.0</td>\n",
       "      <td>-1.0</td>\n",
       "      <td>...</td>\n",
       "      <td>0.08</td>\n",
       "      <td>0.12</td>\n",
       "      <td>0.05</td>\n",
       "      <td>0.0</td>\n",
       "      <td>0.000000</td>\n",
       "      <td>0.0</td>\n",
       "      <td>0.0</td>\n",
       "      <td>0.08</td>\n",
       "      <td>-1.0</td>\n",
       "      <td>-1.0</td>\n",
       "    </tr>\n",
       "    <tr>\n",
       "      <th>4921</th>\n",
       "      <td>Wallis and Futuna</td>\n",
       "      <td>2022</td>\n",
       "      <td>WF</td>\n",
       "      <td>WLF</td>\n",
       "      <td>876.0</td>\n",
       "      <td>11572.0</td>\n",
       "      <td>0.0</td>\n",
       "      <td>0.0</td>\n",
       "      <td>0.0</td>\n",
       "      <td>-1.0</td>\n",
       "      <td>...</td>\n",
       "      <td>0.08</td>\n",
       "      <td>0.12</td>\n",
       "      <td>0.05</td>\n",
       "      <td>0.0</td>\n",
       "      <td>0.000000</td>\n",
       "      <td>0.0</td>\n",
       "      <td>0.0</td>\n",
       "      <td>0.08</td>\n",
       "      <td>-1.0</td>\n",
       "      <td>-1.0</td>\n",
       "    </tr>\n",
       "  </tbody>\n",
       "</table>\n",
       "<p>766 rows × 28 columns</p>\n",
       "</div>"
      ],
      "text/plain": [
       "                country  year iso2 iso3  iso_numeric  e_pop_num  e_inc_num  \\\n",
       "69       American Samoa  2000   AS  ASM         16.0    58230.0        3.0   \n",
       "70       American Samoa  2001   AS  ASM         16.0    58324.0        3.0   \n",
       "71       American Samoa  2002   AS  ASM         16.0    58177.0        2.0   \n",
       "72       American Samoa  2003   AS  ASM         16.0    57941.0        3.0   \n",
       "73       American Samoa  2004   AS  ASM         16.0    57626.0        6.0   \n",
       "...                 ...   ...  ...  ...          ...        ...        ...   \n",
       "4917  Wallis and Futuna  2018   WF  WLF        876.0    11816.0        0.0   \n",
       "4918  Wallis and Futuna  2019   WF  WLF        876.0    11714.0        1.0   \n",
       "4919  Wallis and Futuna  2020   WF  WLF        876.0    11655.0        0.0   \n",
       "4920  Wallis and Futuna  2021   WF  WLF        876.0    11627.0        0.0   \n",
       "4921  Wallis and Futuna  2022   WF  WLF        876.0    11572.0        0.0   \n",
       "\n",
       "      e_inc_num_hi  e_inc_num_lo  e_inc_tbhiv_num  ...   cfr  cfr_hi  cfr_lo  \\\n",
       "69             4.0           3.0             -1.0  ...  0.08    0.13    0.05   \n",
       "70             4.0           3.0             -1.0  ...  0.08    0.12    0.05   \n",
       "71             3.0           2.0             -1.0  ...  0.08    0.12    0.05   \n",
       "72             4.0           3.0             -1.0  ...  0.08    0.12    0.05   \n",
       "73             7.0           5.0             -1.0  ...  0.08    0.12    0.05   \n",
       "...            ...           ...              ...  ...   ...     ...     ...   \n",
       "4917           0.0           0.0             -1.0  ... -1.00   -1.00   -1.00   \n",
       "4918           1.0           1.0             -1.0  ...  0.09    0.13    0.05   \n",
       "4919           0.0           0.0             -1.0  ... -1.00   -1.00   -1.00   \n",
       "4920           0.0           0.0             -1.0  ...  0.08    0.12    0.05   \n",
       "4921           0.0           0.0             -1.0  ...  0.08    0.12    0.05   \n",
       "\n",
       "      incidence_total  incidence_rate  mortality_total  mortality_rate  \\\n",
       "69                7.0        0.000120              0.0             0.0   \n",
       "70                7.0        0.000120              0.0             0.0   \n",
       "71                5.0        0.000086              0.0             0.0   \n",
       "72                7.0        0.000121              0.0             0.0   \n",
       "73               13.0        0.000226              0.0             0.0   \n",
       "...               ...             ...              ...             ...   \n",
       "4917              0.0        0.000000              0.0             0.0   \n",
       "4918              2.0        0.000171              0.0             0.0   \n",
       "4919              0.0        0.000000              0.0             0.0   \n",
       "4920              0.0        0.000000              0.0             0.0   \n",
       "4921              0.0        0.000000              0.0             0.0   \n",
       "\n",
       "      cfr_total  tbhiv_coinfection_total  tbhiv_coinfection_rate  \n",
       "69         0.08                     -1.0                    -1.0  \n",
       "70         0.08                     -1.0                    -1.0  \n",
       "71         0.08                     -1.0                    -1.0  \n",
       "72         0.08                     -1.0                    -1.0  \n",
       "73         0.08                     -1.0                    -1.0  \n",
       "...         ...                      ...                     ...  \n",
       "4917      -1.00                     -1.0                    -1.0  \n",
       "4918       0.09                     -1.0                    -1.0  \n",
       "4919      -1.00                     -1.0                    -1.0  \n",
       "4920       0.08                     -1.0                    -1.0  \n",
       "4921       0.08                     -1.0                    -1.0  \n",
       "\n",
       "[766 rows x 28 columns]"
      ]
     },
     "execution_count": 16,
     "metadata": {},
     "output_type": "execute_result"
    }
   ],
   "source": [
    "f_tb"
   ]
  },
  {
   "cell_type": "code",
   "execution_count": 24,
   "metadata": {},
   "outputs": [
    {
     "data": {
      "text/plain": [
       "'30.78%'"
      ]
     },
     "execution_count": 24,
     "metadata": {},
     "output_type": "execute_result"
    }
   ],
   "source": [
    "\n",
    "tb_f = tb_data.loc[(tb_data[\"incidence_total\"]!= -1) & (tb_data['e_pop_num'] != -1)]\n",
    "incidence_rate_per = (tb_f.loc[tb_f[\"year\"] == 2022][\"incidence_total\"].sum() / tb_f.loc[tb_f[\"year\"] == 2022][\"e_pop_num\"].sum()) * 100 \n",
    "\"{:.2%}\".format(incidence_rate_per)\n",
    "\n",
    "\n"
   ]
  },
  {
   "cell_type": "code",
   "execution_count": 67,
   "metadata": {},
   "outputs": [
    {
     "name": "stderr",
     "output_type": "stream",
     "text": [
      "/var/folders/st/m8tx8cq17pzccky_vq84z0yh0000gn/T/ipykernel_25654/1146740555.py:19: RuntimeWarning: invalid value encountered in scalar divide\n",
      "  global_stat_previous = (tb_data.loc[tb_data[\"year_dt\"] == 2021, y_column].sum() / tb_data.loc[tb_data[\"year_dt\"] == 2021, 'e_pop_num'].sum()) * 100\n"
     ]
    }
   ],
   "source": [
    "selected_type = \"relative\"\n",
    "selected_year = 2022\n",
    "selected_value = \"incidence\"\n",
    "\n",
    "y_column_mapping = {\n",
    "        (\"absolute\", \"incidence\"): \"incidence_total\",\n",
    "        (\"relative\", \"incidence\"): \"incidence_total\",\n",
    "        (\"absolute\", \"mortality\"): \"mortality_total\",\n",
    "        (\"relative\", \"mortality\"): \"mortality_total\",\n",
    "    }\n",
    "\n",
    "y_column = y_column_mapping.get((selected_type, selected_value), \"incidence_total\")\n",
    "\n",
    "if selected_type == \"relative\":\n",
    "    global_stat = (tb_data.loc[tb_data[\"year\"] == selected_year][y_column].sum() / tb_data.loc[tb_data[\"year\"] == selected_year][\"e_pop_num\"].sum()) * 100 \n",
    "else:\n",
    "    global_stat = tb_data.loc[tb_data[\"year\"] == selected_year, y_column].sum()\n",
    "\n",
    "global_stat_previous = (tb_data.loc[tb_data[\"year_dt\"] == 2021, y_column].sum() / tb_data.loc[tb_data[\"year_dt\"] == 2021, 'e_pop_num'].sum()) * 100\n",
    "if global_stat_previous:\n",
    "    diff_previous = round((global_stat - global_stat_previous), 1)\n",
    "    diff_previous_color = \"blue\" if diff_previous > 0 else \"red\"\n"
   ]
  },
  {
   "cell_type": "code",
   "execution_count": 68,
   "metadata": {},
   "outputs": [
    {
     "data": {
      "text/plain": [
       "0.0"
      ]
     },
     "execution_count": 68,
     "metadata": {},
     "output_type": "execute_result"
    }
   ],
   "source": [
    "tb_data.loc[tb_data[\"year_dt\"] == 2021, 'e_pop_num'].sum()"
   ]
  },
  {
   "cell_type": "code",
   "execution_count": 70,
   "metadata": {},
   "outputs": [
    {
     "data": {
      "text/html": [
       "<div>\n",
       "<style scoped>\n",
       "    .dataframe tbody tr th:only-of-type {\n",
       "        vertical-align: middle;\n",
       "    }\n",
       "\n",
       "    .dataframe tbody tr th {\n",
       "        vertical-align: top;\n",
       "    }\n",
       "\n",
       "    .dataframe thead th {\n",
       "        text-align: right;\n",
       "    }\n",
       "</style>\n",
       "<table border=\"1\" class=\"dataframe\">\n",
       "  <thead>\n",
       "    <tr style=\"text-align: right;\">\n",
       "      <th></th>\n",
       "      <th>country</th>\n",
       "      <th>year</th>\n",
       "      <th>iso2</th>\n",
       "      <th>iso3</th>\n",
       "      <th>iso_numeric</th>\n",
       "      <th>e_pop_num</th>\n",
       "      <th>e_inc_num</th>\n",
       "      <th>e_inc_num_hi</th>\n",
       "      <th>e_inc_num_lo</th>\n",
       "      <th>e_inc_tbhiv_num</th>\n",
       "      <th>...</th>\n",
       "      <th>cfr_hi</th>\n",
       "      <th>cfr_lo</th>\n",
       "      <th>incidence_total</th>\n",
       "      <th>incidence_rate</th>\n",
       "      <th>mortality_total</th>\n",
       "      <th>mortality_rate</th>\n",
       "      <th>cfr_total</th>\n",
       "      <th>tbhiv_coinfection_total</th>\n",
       "      <th>tbhiv_coinfection_rate</th>\n",
       "      <th>year_dt</th>\n",
       "    </tr>\n",
       "  </thead>\n",
       "  <tbody>\n",
       "    <tr>\n",
       "      <th>21</th>\n",
       "      <td>Afghanistan</td>\n",
       "      <td>2021</td>\n",
       "      <td>AF</td>\n",
       "      <td>AFG</td>\n",
       "      <td>4.0</td>\n",
       "      <td>40099462.0</td>\n",
       "      <td>74000.0</td>\n",
       "      <td>103000.0</td>\n",
       "      <td>47000.0</td>\n",
       "      <td>5.0</td>\n",
       "      <td>...</td>\n",
       "      <td>0.23</td>\n",
       "      <td>0.07</td>\n",
       "      <td>177000.0</td>\n",
       "      <td>0.004414</td>\n",
       "      <td>10002.0</td>\n",
       "      <td>0.000249</td>\n",
       "      <td>0.14</td>\n",
       "      <td>18.0</td>\n",
       "      <td>4.488838e-07</td>\n",
       "      <td>2021-01-01</td>\n",
       "    </tr>\n",
       "    <tr>\n",
       "      <th>44</th>\n",
       "      <td>Albania</td>\n",
       "      <td>2021</td>\n",
       "      <td>AL</td>\n",
       "      <td>ALB</td>\n",
       "      <td>8.0</td>\n",
       "      <td>2854710.0</td>\n",
       "      <td>440.0</td>\n",
       "      <td>520.0</td>\n",
       "      <td>380.0</td>\n",
       "      <td>2.0</td>\n",
       "      <td>...</td>\n",
       "      <td>0.04</td>\n",
       "      <td>0.01</td>\n",
       "      <td>960.0</td>\n",
       "      <td>0.000336</td>\n",
       "      <td>10.0</td>\n",
       "      <td>0.000004</td>\n",
       "      <td>0.02</td>\n",
       "      <td>11.0</td>\n",
       "      <td>3.853281e-06</td>\n",
       "      <td>2021-01-01</td>\n",
       "    </tr>\n",
       "    <tr>\n",
       "      <th>67</th>\n",
       "      <td>Algeria</td>\n",
       "      <td>2021</td>\n",
       "      <td>DZ</td>\n",
       "      <td>DZA</td>\n",
       "      <td>12.0</td>\n",
       "      <td>44177969.0</td>\n",
       "      <td>24000.0</td>\n",
       "      <td>31000.0</td>\n",
       "      <td>18000.0</td>\n",
       "      <td>200.0</td>\n",
       "      <td>...</td>\n",
       "      <td>0.18</td>\n",
       "      <td>0.07</td>\n",
       "      <td>55000.0</td>\n",
       "      <td>0.001245</td>\n",
       "      <td>2746.0</td>\n",
       "      <td>0.000062</td>\n",
       "      <td>0.12</td>\n",
       "      <td>530.0</td>\n",
       "      <td>1.199693e-05</td>\n",
       "      <td>2021-01-01</td>\n",
       "    </tr>\n",
       "    <tr>\n",
       "      <th>90</th>\n",
       "      <td>American Samoa</td>\n",
       "      <td>2021</td>\n",
       "      <td>AS</td>\n",
       "      <td>ASM</td>\n",
       "      <td>16.0</td>\n",
       "      <td>45035.0</td>\n",
       "      <td>2.0</td>\n",
       "      <td>3.0</td>\n",
       "      <td>2.0</td>\n",
       "      <td>-1.0</td>\n",
       "      <td>...</td>\n",
       "      <td>0.12</td>\n",
       "      <td>0.05</td>\n",
       "      <td>5.0</td>\n",
       "      <td>0.000111</td>\n",
       "      <td>0.0</td>\n",
       "      <td>0.000000</td>\n",
       "      <td>0.08</td>\n",
       "      <td>-1.0</td>\n",
       "      <td>-1.000000e+00</td>\n",
       "      <td>2021-01-01</td>\n",
       "    </tr>\n",
       "    <tr>\n",
       "      <th>113</th>\n",
       "      <td>Andorra</td>\n",
       "      <td>2021</td>\n",
       "      <td>AD</td>\n",
       "      <td>AND</td>\n",
       "      <td>20.0</td>\n",
       "      <td>79034.0</td>\n",
       "      <td>2.0</td>\n",
       "      <td>3.0</td>\n",
       "      <td>2.0</td>\n",
       "      <td>-1.0</td>\n",
       "      <td>...</td>\n",
       "      <td>0.12</td>\n",
       "      <td>0.05</td>\n",
       "      <td>5.0</td>\n",
       "      <td>0.000063</td>\n",
       "      <td>0.0</td>\n",
       "      <td>0.000000</td>\n",
       "      <td>0.08</td>\n",
       "      <td>-1.0</td>\n",
       "      <td>-1.000000e+00</td>\n",
       "      <td>2021-01-01</td>\n",
       "    </tr>\n",
       "    <tr>\n",
       "      <th>...</th>\n",
       "      <td>...</td>\n",
       "      <td>...</td>\n",
       "      <td>...</td>\n",
       "      <td>...</td>\n",
       "      <td>...</td>\n",
       "      <td>...</td>\n",
       "      <td>...</td>\n",
       "      <td>...</td>\n",
       "      <td>...</td>\n",
       "      <td>...</td>\n",
       "      <td>...</td>\n",
       "      <td>...</td>\n",
       "      <td>...</td>\n",
       "      <td>...</td>\n",
       "      <td>...</td>\n",
       "      <td>...</td>\n",
       "      <td>...</td>\n",
       "      <td>...</td>\n",
       "      <td>...</td>\n",
       "      <td>...</td>\n",
       "      <td>...</td>\n",
       "    </tr>\n",
       "    <tr>\n",
       "      <th>4897</th>\n",
       "      <td>Viet Nam</td>\n",
       "      <td>2021</td>\n",
       "      <td>VN</td>\n",
       "      <td>VNM</td>\n",
       "      <td>704.0</td>\n",
       "      <td>97468029.0</td>\n",
       "      <td>161000.0</td>\n",
       "      <td>235000.0</td>\n",
       "      <td>108000.0</td>\n",
       "      <td>5100.0</td>\n",
       "      <td>...</td>\n",
       "      <td>0.11</td>\n",
       "      <td>0.04</td>\n",
       "      <td>396000.0</td>\n",
       "      <td>0.004063</td>\n",
       "      <td>11300.0</td>\n",
       "      <td>0.000116</td>\n",
       "      <td>0.07</td>\n",
       "      <td>12500.0</td>\n",
       "      <td>1.282472e-04</td>\n",
       "      <td>2021-01-01</td>\n",
       "    </tr>\n",
       "    <tr>\n",
       "      <th>4920</th>\n",
       "      <td>Wallis and Futuna</td>\n",
       "      <td>2021</td>\n",
       "      <td>WF</td>\n",
       "      <td>WLF</td>\n",
       "      <td>876.0</td>\n",
       "      <td>11627.0</td>\n",
       "      <td>0.0</td>\n",
       "      <td>0.0</td>\n",
       "      <td>0.0</td>\n",
       "      <td>-1.0</td>\n",
       "      <td>...</td>\n",
       "      <td>0.12</td>\n",
       "      <td>0.05</td>\n",
       "      <td>0.0</td>\n",
       "      <td>0.000000</td>\n",
       "      <td>0.0</td>\n",
       "      <td>0.000000</td>\n",
       "      <td>0.08</td>\n",
       "      <td>-1.0</td>\n",
       "      <td>-1.000000e+00</td>\n",
       "      <td>2021-01-01</td>\n",
       "    </tr>\n",
       "    <tr>\n",
       "      <th>4943</th>\n",
       "      <td>Yemen</td>\n",
       "      <td>2021</td>\n",
       "      <td>YE</td>\n",
       "      <td>YEM</td>\n",
       "      <td>887.0</td>\n",
       "      <td>32981641.0</td>\n",
       "      <td>16000.0</td>\n",
       "      <td>18000.0</td>\n",
       "      <td>14000.0</td>\n",
       "      <td>110.0</td>\n",
       "      <td>...</td>\n",
       "      <td>0.27</td>\n",
       "      <td>0.13</td>\n",
       "      <td>34000.0</td>\n",
       "      <td>0.001031</td>\n",
       "      <td>3042.0</td>\n",
       "      <td>0.000092</td>\n",
       "      <td>0.19</td>\n",
       "      <td>290.0</td>\n",
       "      <td>8.792770e-06</td>\n",
       "      <td>2021-01-01</td>\n",
       "    </tr>\n",
       "    <tr>\n",
       "      <th>4966</th>\n",
       "      <td>Zambia</td>\n",
       "      <td>2021</td>\n",
       "      <td>ZM</td>\n",
       "      <td>ZMB</td>\n",
       "      <td>894.0</td>\n",
       "      <td>19473125.0</td>\n",
       "      <td>60000.0</td>\n",
       "      <td>86000.0</td>\n",
       "      <td>38000.0</td>\n",
       "      <td>20000.0</td>\n",
       "      <td>...</td>\n",
       "      <td>0.21</td>\n",
       "      <td>0.08</td>\n",
       "      <td>146000.0</td>\n",
       "      <td>0.007498</td>\n",
       "      <td>7900.0</td>\n",
       "      <td>0.000406</td>\n",
       "      <td>0.14</td>\n",
       "      <td>49000.0</td>\n",
       "      <td>2.516288e-03</td>\n",
       "      <td>2021-01-01</td>\n",
       "    </tr>\n",
       "    <tr>\n",
       "      <th>4989</th>\n",
       "      <td>Zimbabwe</td>\n",
       "      <td>2021</td>\n",
       "      <td>ZW</td>\n",
       "      <td>ZWE</td>\n",
       "      <td>716.0</td>\n",
       "      <td>15993524.0</td>\n",
       "      <td>31000.0</td>\n",
       "      <td>43000.0</td>\n",
       "      <td>22000.0</td>\n",
       "      <td>19000.0</td>\n",
       "      <td>...</td>\n",
       "      <td>0.37</td>\n",
       "      <td>0.15</td>\n",
       "      <td>74000.0</td>\n",
       "      <td>0.004627</td>\n",
       "      <td>7600.0</td>\n",
       "      <td>0.000475</td>\n",
       "      <td>0.25</td>\n",
       "      <td>45000.0</td>\n",
       "      <td>2.813639e-03</td>\n",
       "      <td>2021-01-01</td>\n",
       "    </tr>\n",
       "  </tbody>\n",
       "</table>\n",
       "<p>217 rows × 29 columns</p>\n",
       "</div>"
      ],
      "text/plain": [
       "                country  year iso2 iso3  iso_numeric   e_pop_num  e_inc_num  \\\n",
       "21          Afghanistan  2021   AF  AFG          4.0  40099462.0    74000.0   \n",
       "44              Albania  2021   AL  ALB          8.0   2854710.0      440.0   \n",
       "67              Algeria  2021   DZ  DZA         12.0  44177969.0    24000.0   \n",
       "90       American Samoa  2021   AS  ASM         16.0     45035.0        2.0   \n",
       "113             Andorra  2021   AD  AND         20.0     79034.0        2.0   \n",
       "...                 ...   ...  ...  ...          ...         ...        ...   \n",
       "4897           Viet Nam  2021   VN  VNM        704.0  97468029.0   161000.0   \n",
       "4920  Wallis and Futuna  2021   WF  WLF        876.0     11627.0        0.0   \n",
       "4943              Yemen  2021   YE  YEM        887.0  32981641.0    16000.0   \n",
       "4966             Zambia  2021   ZM  ZMB        894.0  19473125.0    60000.0   \n",
       "4989           Zimbabwe  2021   ZW  ZWE        716.0  15993524.0    31000.0   \n",
       "\n",
       "      e_inc_num_hi  e_inc_num_lo  e_inc_tbhiv_num  ...  cfr_hi  cfr_lo  \\\n",
       "21        103000.0       47000.0              5.0  ...    0.23    0.07   \n",
       "44           520.0         380.0              2.0  ...    0.04    0.01   \n",
       "67         31000.0       18000.0            200.0  ...    0.18    0.07   \n",
       "90             3.0           2.0             -1.0  ...    0.12    0.05   \n",
       "113            3.0           2.0             -1.0  ...    0.12    0.05   \n",
       "...            ...           ...              ...  ...     ...     ...   \n",
       "4897      235000.0      108000.0           5100.0  ...    0.11    0.04   \n",
       "4920           0.0           0.0             -1.0  ...    0.12    0.05   \n",
       "4943       18000.0       14000.0            110.0  ...    0.27    0.13   \n",
       "4966       86000.0       38000.0          20000.0  ...    0.21    0.08   \n",
       "4989       43000.0       22000.0          19000.0  ...    0.37    0.15   \n",
       "\n",
       "      incidence_total  incidence_rate  mortality_total  mortality_rate  \\\n",
       "21           177000.0        0.004414          10002.0        0.000249   \n",
       "44              960.0        0.000336             10.0        0.000004   \n",
       "67            55000.0        0.001245           2746.0        0.000062   \n",
       "90                5.0        0.000111              0.0        0.000000   \n",
       "113               5.0        0.000063              0.0        0.000000   \n",
       "...               ...             ...              ...             ...   \n",
       "4897         396000.0        0.004063          11300.0        0.000116   \n",
       "4920              0.0        0.000000              0.0        0.000000   \n",
       "4943          34000.0        0.001031           3042.0        0.000092   \n",
       "4966         146000.0        0.007498           7900.0        0.000406   \n",
       "4989          74000.0        0.004627           7600.0        0.000475   \n",
       "\n",
       "      cfr_total  tbhiv_coinfection_total  tbhiv_coinfection_rate    year_dt  \n",
       "21         0.14                     18.0            4.488838e-07 2021-01-01  \n",
       "44         0.02                     11.0            3.853281e-06 2021-01-01  \n",
       "67         0.12                    530.0            1.199693e-05 2021-01-01  \n",
       "90         0.08                     -1.0           -1.000000e+00 2021-01-01  \n",
       "113        0.08                     -1.0           -1.000000e+00 2021-01-01  \n",
       "...         ...                      ...                     ...        ...  \n",
       "4897       0.07                  12500.0            1.282472e-04 2021-01-01  \n",
       "4920       0.08                     -1.0           -1.000000e+00 2021-01-01  \n",
       "4943       0.19                    290.0            8.792770e-06 2021-01-01  \n",
       "4966       0.14                  49000.0            2.516288e-03 2021-01-01  \n",
       "4989       0.25                  45000.0            2.813639e-03 2021-01-01  \n",
       "\n",
       "[217 rows x 29 columns]"
      ]
     },
     "execution_count": 70,
     "metadata": {},
     "output_type": "execute_result"
    }
   ],
   "source": [
    "tb_data.loc[tb_data[\"year\"] == 2021]"
   ]
  },
  {
   "cell_type": "code",
   "execution_count": 55,
   "metadata": {},
   "outputs": [
    {
     "data": {
      "text/plain": [
       "'0.31'"
      ]
     },
     "execution_count": 55,
     "metadata": {},
     "output_type": "execute_result"
    }
   ],
   "source": [
    "f\"{global_stat:.2f}\""
   ]
  },
  {
   "cell_type": "code",
   "execution_count": 75,
   "metadata": {},
   "outputs": [
    {
     "data": {
      "text/plain": [
       "0.30783514893189523"
      ]
     },
     "execution_count": 75,
     "metadata": {},
     "output_type": "execute_result"
    }
   ],
   "source": [
    "test = (tb_data.loc[tb_data[\"year\"] == selected_year][y_column].sum() / tb_data.loc[tb_data[\"year\"] == selected_year][\"e_pop_num\"].sum()) * 100\n",
    "test"
   ]
  },
  {
   "cell_type": "code",
   "execution_count": 77,
   "metadata": {},
   "outputs": [
    {
     "data": {
      "text/plain": [
       "0.30047439235361195"
      ]
     },
     "execution_count": 77,
     "metadata": {},
     "output_type": "execute_result"
    }
   ],
   "source": [
    "test1 = (tb_data.loc[tb_data[\"year\"] == 2021][y_column].sum() / tb_data.loc[tb_data[\"year\"] == 2021][\"e_pop_num\"].sum()) * 100\n",
    "test1"
   ]
  },
  {
   "cell_type": "code",
   "execution_count": 78,
   "metadata": {},
   "outputs": [
    {
     "data": {
      "text/plain": [
       "0.0073607565782832785"
      ]
     },
     "execution_count": 78,
     "metadata": {},
     "output_type": "execute_result"
    }
   ],
   "source": [
    "test - test1"
   ]
  },
  {
   "cell_type": "code",
   "execution_count": 88,
   "metadata": {},
   "outputs": [],
   "source": [
    "def update_global_stats(selected_year, selected_type, selected_value):\n",
    "    y_column_mapping = {\n",
    "        (\"absolute\", \"incidence\"): \"incidence_total\",\n",
    "        (\"relative\", \"incidence\"): \"incidence_total\",\n",
    "        (\"absolute\", \"mortality\"): \"mortality_total\",\n",
    "        (\"relative\", \"mortality\"): \"mortality_total\",\n",
    "    }\n",
    "    y_column = y_column_mapping.get((selected_type, selected_value), \"incidence_total\")\n",
    "\n",
    "    tb_data[\"year_dt\"] = pd.to_datetime(tb_data[\"year\"], format='%Y')\n",
    "    selected_year_dt = pd.Timestamp(str(selected_year))\n",
    "    previous_year_dt = selected_year_dt - pd.DateOffset(years=1)\n",
    "    next_year_dt = selected_year_dt + pd.DateOffset(years=1)\n",
    "\n",
    "    if selected_type == \"relative\":\n",
    "        global_stat = (tb_data.loc[tb_data[\"year\"] == selected_year][y_column].sum() / tb_data.loc[tb_data[\"year\"] == selected_year][\"e_pop_num\"].sum()) * 100 \n",
    "    else:\n",
    "        global_stat = tb_data.loc[tb_data[\"year\"] == selected_year, y_column].sum()\n",
    "\n",
    "\n",
    "    diff_previous = diff_next = None  # Default values for differences\n",
    "    diff_previous_color = diff_next_color = 'black'  # Default text color\n",
    "\n",
    "    if selected_year != 2000:\n",
    "        if selected_type == \"absolute\":\n",
    "            global_stat_previous = tb_data.loc[tb_data[\"year_dt\"] == previous_year_dt, y_column].sum()\n",
    "            if global_stat_previous:\n",
    "                diff_previous = ((global_stat - global_stat_previous) / global_stat_previous) * 100\n",
    "                diff_previous_color = \"blue\" if diff_previous > 0 else \"red\"\n",
    "        else:\n",
    "            global_stat_previous = (tb_data.loc[tb_data[\"year_dt\"] == previous_year_dt, y_column].sum() / tb_data.loc[tb_data[\"year_dt\"] == previous_year_dt, 'e_pop_num'].sum()) * 100\n",
    "            if global_stat_previous:\n",
    "                diff_previous = global_stat - global_stat_previous\n",
    "                diff_previous_color = \"blue\" if diff_previous > 0 else \"red\"\n",
    "    \n",
    "    if selected_year != 2022:\n",
    "        if selected_type == \"absolute\":\n",
    "            global_stat_next = tb_data.loc[tb_data[\"year_dt\"] == next_year_dt, y_column].sum()\n",
    "            if global_stat_next:\n",
    "                diff_next = ((global_stat - global_stat_next) / global_stat_next) * 100 \n",
    "                diff_next_color = \"blue\" if diff_next > 0 else \"red\"\n",
    "        else:\n",
    "            global_stat_next = (tb_data.loc[tb_data[\"year_dt\"] == next_year_dt, y_column].sum() / tb_data.loc[tb_data[\"year_dt\"] == next_year_dt, 'e_pop_num'].sum()) * 100\n",
    "            if global_stat_next:\n",
    "                diff_next = global_stat - global_stat_next\n",
    "                diff_next_color = \"blue\" if diff_next > 0 else \"red\"\n",
    "\n",
    "    if selected_type == \"absolute\":\n",
    "        global_stat = f\"{global_stat:.0f}\"\n",
    "        diff_previous_text = f\"{diff_previous:+.1f}%\" if diff_previous is not None else \"data not available\"\n",
    "        diff_next_text = f\"{diff_next:+.1f}%\" if diff_next is not None else \"data not available\"\n",
    "    else:\n",
    "        global_stat = f\"{global_stat:.1f}%\"\n",
    "        diff_previous_text = f\"{diff_previous:+.5f}%\" if diff_previous is not None else \"data not available\"\n",
    "        diff_next_text = f\"{diff_next:+.5f}%\" if diff_next is not None else \"data not available\"\n",
    "\n",
    "    return global_stat, diff_previous_text, diff_next_text, diff_previous_color, diff_next_color"
   ]
  },
  {
   "cell_type": "code",
   "execution_count": 89,
   "metadata": {},
   "outputs": [
    {
     "data": {
      "text/plain": [
       "('0.0%', '+0.00016%', '-0.00029%', 'blue', 'red')"
      ]
     },
     "execution_count": 89,
     "metadata": {},
     "output_type": "execute_result"
    }
   ],
   "source": [
    "update_global_stats(2020, \"relative\", \"mortality\")"
   ]
  },
  {
   "cell_type": "code",
   "execution_count": 90,
   "metadata": {},
   "outputs": [
    {
     "data": {
      "text/plain": [
       "('0.3%', '+0.00736%', 'data not available', 'blue', 'black')"
      ]
     },
     "execution_count": 90,
     "metadata": {},
     "output_type": "execute_result"
    }
   ],
   "source": [
    "update_global_stats(2022, \"relative\", \"incidence\")"
   ]
  },
  {
   "cell_type": "code",
   "execution_count": 91,
   "metadata": {},
   "outputs": [
    {
     "data": {
      "text/plain": [
       "('0.4%', '-0.01335%', '+0.02044%', 'red', 'blue')"
      ]
     },
     "execution_count": 91,
     "metadata": {},
     "output_type": "execute_result"
    }
   ],
   "source": [
    "update_global_stats(2010, \"relative\", \"incidence\")"
   ]
  },
  {
   "cell_type": "code",
   "execution_count": 92,
   "metadata": {},
   "outputs": [
    {
     "data": {
      "text/plain": [
       "('30195676', 'data not available', '-1.0%', 'black', 'red')"
      ]
     },
     "execution_count": 92,
     "metadata": {},
     "output_type": "execute_result"
    }
   ],
   "source": [
    "update_global_stats(2000, \"absolute\", \"incidence\")"
   ]
  },
  {
   "cell_type": "code",
   "execution_count": 93,
   "metadata": {},
   "outputs": [
    {
     "data": {
      "text/plain": [
       "('1302892', '-5.5%', '-1.9%', 'red', 'red')"
      ]
     },
     "execution_count": 93,
     "metadata": {},
     "output_type": "execute_result"
    }
   ],
   "source": [
    "update_global_stats(2019, \"absolute\", \"mortality\")"
   ]
  },
  {
   "cell_type": "code",
   "execution_count": 94,
   "metadata": {},
   "outputs": [
    {
     "data": {
      "text/plain": [
       "('24460703', '+3.3%', 'data not available', 'blue', 'black')"
      ]
     },
     "execution_count": 94,
     "metadata": {},
     "output_type": "execute_result"
    }
   ],
   "source": [
    "update_global_stats(2022, \"absolute\", \"incidence\")"
   ]
  },
  {
   "cell_type": "code",
   "execution_count": null,
   "metadata": {},
   "outputs": [
    {
     "data": {
      "text/plain": [
       "(29815063, 'data not available', '-0.9%', 'black', 'red')"
      ]
     },
     "execution_count": 40,
     "metadata": {},
     "output_type": "execute_result"
    }
   ],
   "source": [
    "update_global_stats(2000, \"absolute\", \"incidence\")"
   ]
  },
  {
   "cell_type": "code",
   "execution_count": null,
   "metadata": {},
   "outputs": [],
   "source": [
    "def update_global_stats(selected_year, selected_type, selected_value):\n",
    "\n",
    "    if selected_type == \"absolute\" and selected_value == \"incidence\":\n",
    "        y_column = \"incidence_total\"\n",
    "\n",
    "    elif selected_type == \"relative\" and selected_value == \"incidence\":\n",
    "        y_column = \"incidence_rate\"\n",
    "\n",
    "    elif selected_type == \"absolute\" and selected_value == \"mortality\":\n",
    "        y_column = \"mortality_total\"\n",
    "\n",
    "    elif selected_type == \"relative\" and selected_value == \"mortality\":\n",
    "        y_column = \"mortality_rate\"\n",
    "\n",
    "    else:\n",
    "        y_column = \"incidence_total\"\n",
    "\n",
    "    year = pd.Timestamp(str(selected_year))\n",
    "    previous = year - pd.DateOffset(years=1)\n",
    "    next = year + pd.DateOffset(years=1)\n",
    "\n",
    "    global_stat = tb_data.loc[tb_data[\"year\"] == selected_year][y_column].sum()\n",
    "    global_stat_previous = tb_data.loc[tb_data[\"year_dt\"] == previous][y_column].sum()\n",
    "    global_stat_next = tb_data.loc[tb_data[\"year_dt\"] == next][y_column].sum()\n",
    "    \n",
    "    if year != 2000:\n",
    "        diff_previous = round(((global_stat - global_stat_previous)/ global_stat_previous) * 100, 1)\n",
    "    else:\n",
    "        diff_previous = None\n",
    "\n",
    "    if year != 2022:\n",
    "        diff_next =  round(((global_stat - global_stat_next)/ global_stat_next) * 100, 1)\n",
    "    else:\n",
    "        diff_next = None \n",
    "    \n",
    "    return global_stat, diff_previous, diff_next\n"
   ]
  }
 ],
 "metadata": {
  "kernelspec": {
   "display_name": "531",
   "language": "python",
   "name": "python3"
  },
  "language_info": {
   "codemirror_mode": {
    "name": "ipython",
    "version": 3
   },
   "file_extension": ".py",
   "mimetype": "text/x-python",
   "name": "python",
   "nbconvert_exporter": "python",
   "pygments_lexer": "ipython3",
   "version": "3.12.2"
  }
 },
 "nbformat": 4,
 "nbformat_minor": 2
}
