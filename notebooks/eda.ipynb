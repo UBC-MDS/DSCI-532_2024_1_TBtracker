{
 "cells": [
  {
   "cell_type": "code",
   "execution_count": 14,
   "metadata": {},
   "outputs": [],
   "source": [
    "import pandas as pd\n",
    "import os\n",
    "import plotly.express as px"
   ]
  },
  {
   "cell_type": "markdown",
   "metadata": {},
   "source": [
    "## Building the Risk Factors Barplot \n",
    "Sex: \"a=All (females and males); f=Females; m=Males\"\n",
    "\n",
    "\n",
    "#### Notes:\n",
    "1. We want to display 'all' when a toggle for a specific sex or age_group is not clicked\n"
   ]
  },
  {
   "cell_type": "code",
   "execution_count": 2,
   "metadata": {},
   "outputs": [],
   "source": [
    "os.chdir('..')"
   ]
  },
  {
   "cell_type": "code",
   "execution_count": 3,
   "metadata": {},
   "outputs": [],
   "source": [
    "riskfacs = pd.read_csv(\"data/raw/TB_burden_age_sex_2024-03-26.csv\")"
   ]
  },
  {
   "cell_type": "code",
   "execution_count": 35,
   "metadata": {},
   "outputs": [
    {
     "data": {
      "text/html": [
       "<div>\n",
       "<style scoped>\n",
       "    .dataframe tbody tr th:only-of-type {\n",
       "        vertical-align: middle;\n",
       "    }\n",
       "\n",
       "    .dataframe tbody tr th {\n",
       "        vertical-align: top;\n",
       "    }\n",
       "\n",
       "    .dataframe thead th {\n",
       "        text-align: right;\n",
       "    }\n",
       "</style>\n",
       "<table border=\"1\" class=\"dataframe\">\n",
       "  <thead>\n",
       "    <tr style=\"text-align: right;\">\n",
       "      <th></th>\n",
       "      <th>age_group</th>\n",
       "      <th>sex</th>\n",
       "      <th>best</th>\n",
       "    </tr>\n",
       "  </thead>\n",
       "  <tbody>\n",
       "    <tr>\n",
       "      <th>1</th>\n",
       "      <td>0-14</td>\n",
       "      <td>f</td>\n",
       "      <td>40000</td>\n",
       "    </tr>\n",
       "    <tr>\n",
       "      <th>2</th>\n",
       "      <td>0-14</td>\n",
       "      <td>m</td>\n",
       "      <td>42000</td>\n",
       "    </tr>\n",
       "    <tr>\n",
       "      <th>3</th>\n",
       "      <td>0-4</td>\n",
       "      <td>f</td>\n",
       "      <td>17000</td>\n",
       "    </tr>\n",
       "    <tr>\n",
       "      <th>4</th>\n",
       "      <td>0-4</td>\n",
       "      <td>m</td>\n",
       "      <td>20000</td>\n",
       "    </tr>\n",
       "    <tr>\n",
       "      <th>5</th>\n",
       "      <td>15-24</td>\n",
       "      <td>f</td>\n",
       "      <td>43000</td>\n",
       "    </tr>\n",
       "    <tr>\n",
       "      <th>6</th>\n",
       "      <td>15-24</td>\n",
       "      <td>m</td>\n",
       "      <td>60000</td>\n",
       "    </tr>\n",
       "    <tr>\n",
       "      <th>8</th>\n",
       "      <td>15plus</td>\n",
       "      <td>f</td>\n",
       "      <td>230730</td>\n",
       "    </tr>\n",
       "    <tr>\n",
       "      <th>9</th>\n",
       "      <td>15plus</td>\n",
       "      <td>m</td>\n",
       "      <td>341100</td>\n",
       "    </tr>\n",
       "    <tr>\n",
       "      <th>11</th>\n",
       "      <td>18plus</td>\n",
       "      <td>f</td>\n",
       "      <td>13000</td>\n",
       "    </tr>\n",
       "    <tr>\n",
       "      <th>12</th>\n",
       "      <td>18plus</td>\n",
       "      <td>m</td>\n",
       "      <td>18000</td>\n",
       "    </tr>\n",
       "    <tr>\n",
       "      <th>13</th>\n",
       "      <td>25-34</td>\n",
       "      <td>f</td>\n",
       "      <td>38000</td>\n",
       "    </tr>\n",
       "    <tr>\n",
       "      <th>14</th>\n",
       "      <td>25-34</td>\n",
       "      <td>m</td>\n",
       "      <td>45000</td>\n",
       "    </tr>\n",
       "    <tr>\n",
       "      <th>15</th>\n",
       "      <td>35-44</td>\n",
       "      <td>f</td>\n",
       "      <td>36000</td>\n",
       "    </tr>\n",
       "    <tr>\n",
       "      <th>16</th>\n",
       "      <td>35-44</td>\n",
       "      <td>m</td>\n",
       "      <td>49000</td>\n",
       "    </tr>\n",
       "    <tr>\n",
       "      <th>17</th>\n",
       "      <td>45-54</td>\n",
       "      <td>f</td>\n",
       "      <td>33000</td>\n",
       "    </tr>\n",
       "    <tr>\n",
       "      <th>18</th>\n",
       "      <td>45-54</td>\n",
       "      <td>m</td>\n",
       "      <td>46000</td>\n",
       "    </tr>\n",
       "    <tr>\n",
       "      <th>19</th>\n",
       "      <td>5-14</td>\n",
       "      <td>f</td>\n",
       "      <td>23000</td>\n",
       "    </tr>\n",
       "    <tr>\n",
       "      <th>20</th>\n",
       "      <td>5-14</td>\n",
       "      <td>m</td>\n",
       "      <td>22000</td>\n",
       "    </tr>\n",
       "    <tr>\n",
       "      <th>21</th>\n",
       "      <td>55-64</td>\n",
       "      <td>f</td>\n",
       "      <td>29000</td>\n",
       "    </tr>\n",
       "    <tr>\n",
       "      <th>22</th>\n",
       "      <td>55-64</td>\n",
       "      <td>m</td>\n",
       "      <td>39000</td>\n",
       "    </tr>\n",
       "    <tr>\n",
       "      <th>23</th>\n",
       "      <td>65plus</td>\n",
       "      <td>f</td>\n",
       "      <td>47000</td>\n",
       "    </tr>\n",
       "    <tr>\n",
       "      <th>24</th>\n",
       "      <td>65plus</td>\n",
       "      <td>m</td>\n",
       "      <td>61000</td>\n",
       "    </tr>\n",
       "  </tbody>\n",
       "</table>\n",
       "</div>"
      ],
      "text/plain": [
       "   age_group sex    best\n",
       "1       0-14   f   40000\n",
       "2       0-14   m   42000\n",
       "3        0-4   f   17000\n",
       "4        0-4   m   20000\n",
       "5      15-24   f   43000\n",
       "6      15-24   m   60000\n",
       "8     15plus   f  230730\n",
       "9     15plus   m  341100\n",
       "11    18plus   f   13000\n",
       "12    18plus   m   18000\n",
       "13     25-34   f   38000\n",
       "14     25-34   m   45000\n",
       "15     35-44   f   36000\n",
       "16     35-44   m   49000\n",
       "17     45-54   f   33000\n",
       "18     45-54   m   46000\n",
       "19      5-14   f   23000\n",
       "20      5-14   m   22000\n",
       "21     55-64   f   29000\n",
       "22     55-64   m   39000\n",
       "23    65plus   f   47000\n",
       "24    65plus   m   61000"
      ]
     },
     "execution_count": 35,
     "metadata": {},
     "output_type": "execute_result"
    }
   ],
   "source": [
    "# select country\n",
    "riskfacs_pakistan = riskfacs.loc[riskfacs[\"country\"] == 'Pakistan']\n",
    "# default: show both sexes and all age groups (both without 'all') \n",
    "# we only show \"all\" if selected\n",
    "rfs_pak_age_sex = riskfacs_pakistan.groupby(['age_group', 'sex'], as_index=False)['best'].sum()\n",
    "rfs_pak_age_sex_w_all = rfs_pak_age_sex.loc[(rfs_pak_age_sex[\"sex\"] != 'a') & (rfs_pak_age_sex[\"age_group\"] != 'all')]\n",
    "rfs_pak_age_sex_w_all"
   ]
  },
  {
   "cell_type": "code",
   "execution_count": 36,
   "metadata": {},
   "outputs": [
    {
     "data": {
      "text/html": [
       "<div>\n",
       "<style scoped>\n",
       "    .dataframe tbody tr th:only-of-type {\n",
       "        vertical-align: middle;\n",
       "    }\n",
       "\n",
       "    .dataframe tbody tr th {\n",
       "        vertical-align: top;\n",
       "    }\n",
       "\n",
       "    .dataframe thead th {\n",
       "        text-align: right;\n",
       "    }\n",
       "</style>\n",
       "<table border=\"1\" class=\"dataframe\">\n",
       "  <thead>\n",
       "    <tr style=\"text-align: right;\">\n",
       "      <th></th>\n",
       "      <th>age_group</th>\n",
       "      <th>sex</th>\n",
       "      <th>best</th>\n",
       "    </tr>\n",
       "  </thead>\n",
       "  <tbody>\n",
       "    <tr>\n",
       "      <th>3</th>\n",
       "      <td>0-4</td>\n",
       "      <td>f</td>\n",
       "      <td>17000</td>\n",
       "    </tr>\n",
       "    <tr>\n",
       "      <th>4</th>\n",
       "      <td>0-4</td>\n",
       "      <td>m</td>\n",
       "      <td>20000</td>\n",
       "    </tr>\n",
       "    <tr>\n",
       "      <th>19</th>\n",
       "      <td>5-14</td>\n",
       "      <td>f</td>\n",
       "      <td>23000</td>\n",
       "    </tr>\n",
       "    <tr>\n",
       "      <th>20</th>\n",
       "      <td>5-14</td>\n",
       "      <td>m</td>\n",
       "      <td>22000</td>\n",
       "    </tr>\n",
       "    <tr>\n",
       "      <th>5</th>\n",
       "      <td>15-24</td>\n",
       "      <td>f</td>\n",
       "      <td>43000</td>\n",
       "    </tr>\n",
       "    <tr>\n",
       "      <th>6</th>\n",
       "      <td>15-24</td>\n",
       "      <td>m</td>\n",
       "      <td>60000</td>\n",
       "    </tr>\n",
       "    <tr>\n",
       "      <th>13</th>\n",
       "      <td>25-34</td>\n",
       "      <td>f</td>\n",
       "      <td>38000</td>\n",
       "    </tr>\n",
       "    <tr>\n",
       "      <th>14</th>\n",
       "      <td>25-34</td>\n",
       "      <td>m</td>\n",
       "      <td>45000</td>\n",
       "    </tr>\n",
       "    <tr>\n",
       "      <th>15</th>\n",
       "      <td>35-44</td>\n",
       "      <td>f</td>\n",
       "      <td>36000</td>\n",
       "    </tr>\n",
       "    <tr>\n",
       "      <th>16</th>\n",
       "      <td>35-44</td>\n",
       "      <td>m</td>\n",
       "      <td>49000</td>\n",
       "    </tr>\n",
       "    <tr>\n",
       "      <th>17</th>\n",
       "      <td>45-54</td>\n",
       "      <td>f</td>\n",
       "      <td>33000</td>\n",
       "    </tr>\n",
       "    <tr>\n",
       "      <th>18</th>\n",
       "      <td>45-54</td>\n",
       "      <td>m</td>\n",
       "      <td>46000</td>\n",
       "    </tr>\n",
       "    <tr>\n",
       "      <th>21</th>\n",
       "      <td>55-64</td>\n",
       "      <td>f</td>\n",
       "      <td>29000</td>\n",
       "    </tr>\n",
       "    <tr>\n",
       "      <th>22</th>\n",
       "      <td>55-64</td>\n",
       "      <td>m</td>\n",
       "      <td>39000</td>\n",
       "    </tr>\n",
       "    <tr>\n",
       "      <th>23</th>\n",
       "      <td>65plus</td>\n",
       "      <td>f</td>\n",
       "      <td>47000</td>\n",
       "    </tr>\n",
       "    <tr>\n",
       "      <th>24</th>\n",
       "      <td>65plus</td>\n",
       "      <td>m</td>\n",
       "      <td>61000</td>\n",
       "    </tr>\n",
       "  </tbody>\n",
       "</table>\n",
       "</div>"
      ],
      "text/plain": [
       "   age_group sex   best\n",
       "3        0-4   f  17000\n",
       "4        0-4   m  20000\n",
       "19      5-14   f  23000\n",
       "20      5-14   m  22000\n",
       "5      15-24   f  43000\n",
       "6      15-24   m  60000\n",
       "13     25-34   f  38000\n",
       "14     25-34   m  45000\n",
       "15     35-44   f  36000\n",
       "16     35-44   m  49000\n",
       "17     45-54   f  33000\n",
       "18     45-54   m  46000\n",
       "21     55-64   f  29000\n",
       "22     55-64   m  39000\n",
       "23    65plus   f  47000\n",
       "24    65plus   m  61000"
      ]
     },
     "execution_count": 36,
     "metadata": {},
     "output_type": "execute_result"
    }
   ],
   "source": [
    "# order age_group and omitting the following redundant groups: '0-14', '15plus' '18plus'\n",
    "\n",
    "rfs_pak_age_sex_w_all = rfs_pak_age_sex_w_all[~rfs_pak_age_sex_w_all['age_group'].isin(['0-14', '15plus', '18plus'])].copy()\n",
    "\n",
    "order_age = ['0-4', '5-14', '15-24', '25-34', '35-44', '45-54', '55-64', '65plus']\n",
    "\n",
    "# Set the 'age_group' column to a categorical type with the defined order\n",
    "rfs_pak_age_sex_w_all['age_group'] = pd.Categorical(rfs_pak_age_sex_w_all['age_group'], categories=order_age, ordered=True)\n",
    "\n",
    "# Sort the DataFrame by 'age_group'\n",
    "rfs_pak_age_sex_w_all = rfs_pak_age_sex_w_all.sort_values('age_group')\n",
    "\n",
    "rfs_pak_age_sex_w_all\n"
   ]
  },
  {
   "cell_type": "code",
   "execution_count": 37,
   "metadata": {},
   "outputs": [
    {
     "data": {
      "application/vnd.plotly.v1+json": {
       "config": {
        "plotlyServerURL": "https://plot.ly"
       },
       "data": [
        {
         "alignmentgroup": "True",
         "hovertemplate": "sex=f<br>age_group=%{x}<br>best=%{y}<extra></extra>",
         "legendgroup": "f",
         "marker": {
          "color": "#636efa",
          "pattern": {
           "shape": ""
          }
         },
         "name": "f",
         "offsetgroup": "f",
         "orientation": "v",
         "showlegend": true,
         "textposition": "auto",
         "type": "bar",
         "x": [
          "0-4",
          "5-14",
          "15-24",
          "25-34",
          "35-44",
          "45-54",
          "55-64",
          "65plus"
         ],
         "xaxis": "x",
         "y": [
          17000,
          23000,
          43000,
          38000,
          36000,
          33000,
          29000,
          47000
         ],
         "yaxis": "y"
        },
        {
         "alignmentgroup": "True",
         "hovertemplate": "sex=m<br>age_group=%{x}<br>best=%{y}<extra></extra>",
         "legendgroup": "m",
         "marker": {
          "color": "#EF553B",
          "pattern": {
           "shape": ""
          }
         },
         "name": "m",
         "offsetgroup": "m",
         "orientation": "v",
         "showlegend": true,
         "textposition": "auto",
         "type": "bar",
         "x": [
          "0-4",
          "5-14",
          "15-24",
          "25-34",
          "35-44",
          "45-54",
          "55-64",
          "65plus"
         ],
         "xaxis": "x",
         "y": [
          20000,
          22000,
          60000,
          45000,
          49000,
          46000,
          39000,
          61000
         ],
         "yaxis": "y"
        }
       ],
       "layout": {
        "barmode": "relative",
        "legend": {
         "title": {
          "text": "sex"
         },
         "tracegroupgap": 0
        },
        "margin": {
         "t": 60
        },
        "template": {
         "data": {
          "bar": [
           {
            "error_x": {
             "color": "#2a3f5f"
            },
            "error_y": {
             "color": "#2a3f5f"
            },
            "marker": {
             "line": {
              "color": "#E5ECF6",
              "width": 0.5
             },
             "pattern": {
              "fillmode": "overlay",
              "size": 10,
              "solidity": 0.2
             }
            },
            "type": "bar"
           }
          ],
          "barpolar": [
           {
            "marker": {
             "line": {
              "color": "#E5ECF6",
              "width": 0.5
             },
             "pattern": {
              "fillmode": "overlay",
              "size": 10,
              "solidity": 0.2
             }
            },
            "type": "barpolar"
           }
          ],
          "carpet": [
           {
            "aaxis": {
             "endlinecolor": "#2a3f5f",
             "gridcolor": "white",
             "linecolor": "white",
             "minorgridcolor": "white",
             "startlinecolor": "#2a3f5f"
            },
            "baxis": {
             "endlinecolor": "#2a3f5f",
             "gridcolor": "white",
             "linecolor": "white",
             "minorgridcolor": "white",
             "startlinecolor": "#2a3f5f"
            },
            "type": "carpet"
           }
          ],
          "choropleth": [
           {
            "colorbar": {
             "outlinewidth": 0,
             "ticks": ""
            },
            "type": "choropleth"
           }
          ],
          "contour": [
           {
            "colorbar": {
             "outlinewidth": 0,
             "ticks": ""
            },
            "colorscale": [
             [
              0,
              "#0d0887"
             ],
             [
              0.1111111111111111,
              "#46039f"
             ],
             [
              0.2222222222222222,
              "#7201a8"
             ],
             [
              0.3333333333333333,
              "#9c179e"
             ],
             [
              0.4444444444444444,
              "#bd3786"
             ],
             [
              0.5555555555555556,
              "#d8576b"
             ],
             [
              0.6666666666666666,
              "#ed7953"
             ],
             [
              0.7777777777777778,
              "#fb9f3a"
             ],
             [
              0.8888888888888888,
              "#fdca26"
             ],
             [
              1,
              "#f0f921"
             ]
            ],
            "type": "contour"
           }
          ],
          "contourcarpet": [
           {
            "colorbar": {
             "outlinewidth": 0,
             "ticks": ""
            },
            "type": "contourcarpet"
           }
          ],
          "heatmap": [
           {
            "colorbar": {
             "outlinewidth": 0,
             "ticks": ""
            },
            "colorscale": [
             [
              0,
              "#0d0887"
             ],
             [
              0.1111111111111111,
              "#46039f"
             ],
             [
              0.2222222222222222,
              "#7201a8"
             ],
             [
              0.3333333333333333,
              "#9c179e"
             ],
             [
              0.4444444444444444,
              "#bd3786"
             ],
             [
              0.5555555555555556,
              "#d8576b"
             ],
             [
              0.6666666666666666,
              "#ed7953"
             ],
             [
              0.7777777777777778,
              "#fb9f3a"
             ],
             [
              0.8888888888888888,
              "#fdca26"
             ],
             [
              1,
              "#f0f921"
             ]
            ],
            "type": "heatmap"
           }
          ],
          "heatmapgl": [
           {
            "colorbar": {
             "outlinewidth": 0,
             "ticks": ""
            },
            "colorscale": [
             [
              0,
              "#0d0887"
             ],
             [
              0.1111111111111111,
              "#46039f"
             ],
             [
              0.2222222222222222,
              "#7201a8"
             ],
             [
              0.3333333333333333,
              "#9c179e"
             ],
             [
              0.4444444444444444,
              "#bd3786"
             ],
             [
              0.5555555555555556,
              "#d8576b"
             ],
             [
              0.6666666666666666,
              "#ed7953"
             ],
             [
              0.7777777777777778,
              "#fb9f3a"
             ],
             [
              0.8888888888888888,
              "#fdca26"
             ],
             [
              1,
              "#f0f921"
             ]
            ],
            "type": "heatmapgl"
           }
          ],
          "histogram": [
           {
            "marker": {
             "pattern": {
              "fillmode": "overlay",
              "size": 10,
              "solidity": 0.2
             }
            },
            "type": "histogram"
           }
          ],
          "histogram2d": [
           {
            "colorbar": {
             "outlinewidth": 0,
             "ticks": ""
            },
            "colorscale": [
             [
              0,
              "#0d0887"
             ],
             [
              0.1111111111111111,
              "#46039f"
             ],
             [
              0.2222222222222222,
              "#7201a8"
             ],
             [
              0.3333333333333333,
              "#9c179e"
             ],
             [
              0.4444444444444444,
              "#bd3786"
             ],
             [
              0.5555555555555556,
              "#d8576b"
             ],
             [
              0.6666666666666666,
              "#ed7953"
             ],
             [
              0.7777777777777778,
              "#fb9f3a"
             ],
             [
              0.8888888888888888,
              "#fdca26"
             ],
             [
              1,
              "#f0f921"
             ]
            ],
            "type": "histogram2d"
           }
          ],
          "histogram2dcontour": [
           {
            "colorbar": {
             "outlinewidth": 0,
             "ticks": ""
            },
            "colorscale": [
             [
              0,
              "#0d0887"
             ],
             [
              0.1111111111111111,
              "#46039f"
             ],
             [
              0.2222222222222222,
              "#7201a8"
             ],
             [
              0.3333333333333333,
              "#9c179e"
             ],
             [
              0.4444444444444444,
              "#bd3786"
             ],
             [
              0.5555555555555556,
              "#d8576b"
             ],
             [
              0.6666666666666666,
              "#ed7953"
             ],
             [
              0.7777777777777778,
              "#fb9f3a"
             ],
             [
              0.8888888888888888,
              "#fdca26"
             ],
             [
              1,
              "#f0f921"
             ]
            ],
            "type": "histogram2dcontour"
           }
          ],
          "mesh3d": [
           {
            "colorbar": {
             "outlinewidth": 0,
             "ticks": ""
            },
            "type": "mesh3d"
           }
          ],
          "parcoords": [
           {
            "line": {
             "colorbar": {
              "outlinewidth": 0,
              "ticks": ""
             }
            },
            "type": "parcoords"
           }
          ],
          "pie": [
           {
            "automargin": true,
            "type": "pie"
           }
          ],
          "scatter": [
           {
            "fillpattern": {
             "fillmode": "overlay",
             "size": 10,
             "solidity": 0.2
            },
            "type": "scatter"
           }
          ],
          "scatter3d": [
           {
            "line": {
             "colorbar": {
              "outlinewidth": 0,
              "ticks": ""
             }
            },
            "marker": {
             "colorbar": {
              "outlinewidth": 0,
              "ticks": ""
             }
            },
            "type": "scatter3d"
           }
          ],
          "scattercarpet": [
           {
            "marker": {
             "colorbar": {
              "outlinewidth": 0,
              "ticks": ""
             }
            },
            "type": "scattercarpet"
           }
          ],
          "scattergeo": [
           {
            "marker": {
             "colorbar": {
              "outlinewidth": 0,
              "ticks": ""
             }
            },
            "type": "scattergeo"
           }
          ],
          "scattergl": [
           {
            "marker": {
             "colorbar": {
              "outlinewidth": 0,
              "ticks": ""
             }
            },
            "type": "scattergl"
           }
          ],
          "scattermapbox": [
           {
            "marker": {
             "colorbar": {
              "outlinewidth": 0,
              "ticks": ""
             }
            },
            "type": "scattermapbox"
           }
          ],
          "scatterpolar": [
           {
            "marker": {
             "colorbar": {
              "outlinewidth": 0,
              "ticks": ""
             }
            },
            "type": "scatterpolar"
           }
          ],
          "scatterpolargl": [
           {
            "marker": {
             "colorbar": {
              "outlinewidth": 0,
              "ticks": ""
             }
            },
            "type": "scatterpolargl"
           }
          ],
          "scatterternary": [
           {
            "marker": {
             "colorbar": {
              "outlinewidth": 0,
              "ticks": ""
             }
            },
            "type": "scatterternary"
           }
          ],
          "surface": [
           {
            "colorbar": {
             "outlinewidth": 0,
             "ticks": ""
            },
            "colorscale": [
             [
              0,
              "#0d0887"
             ],
             [
              0.1111111111111111,
              "#46039f"
             ],
             [
              0.2222222222222222,
              "#7201a8"
             ],
             [
              0.3333333333333333,
              "#9c179e"
             ],
             [
              0.4444444444444444,
              "#bd3786"
             ],
             [
              0.5555555555555556,
              "#d8576b"
             ],
             [
              0.6666666666666666,
              "#ed7953"
             ],
             [
              0.7777777777777778,
              "#fb9f3a"
             ],
             [
              0.8888888888888888,
              "#fdca26"
             ],
             [
              1,
              "#f0f921"
             ]
            ],
            "type": "surface"
           }
          ],
          "table": [
           {
            "cells": {
             "fill": {
              "color": "#EBF0F8"
             },
             "line": {
              "color": "white"
             }
            },
            "header": {
             "fill": {
              "color": "#C8D4E3"
             },
             "line": {
              "color": "white"
             }
            },
            "type": "table"
           }
          ]
         },
         "layout": {
          "annotationdefaults": {
           "arrowcolor": "#2a3f5f",
           "arrowhead": 0,
           "arrowwidth": 1
          },
          "autotypenumbers": "strict",
          "coloraxis": {
           "colorbar": {
            "outlinewidth": 0,
            "ticks": ""
           }
          },
          "colorscale": {
           "diverging": [
            [
             0,
             "#8e0152"
            ],
            [
             0.1,
             "#c51b7d"
            ],
            [
             0.2,
             "#de77ae"
            ],
            [
             0.3,
             "#f1b6da"
            ],
            [
             0.4,
             "#fde0ef"
            ],
            [
             0.5,
             "#f7f7f7"
            ],
            [
             0.6,
             "#e6f5d0"
            ],
            [
             0.7,
             "#b8e186"
            ],
            [
             0.8,
             "#7fbc41"
            ],
            [
             0.9,
             "#4d9221"
            ],
            [
             1,
             "#276419"
            ]
           ],
           "sequential": [
            [
             0,
             "#0d0887"
            ],
            [
             0.1111111111111111,
             "#46039f"
            ],
            [
             0.2222222222222222,
             "#7201a8"
            ],
            [
             0.3333333333333333,
             "#9c179e"
            ],
            [
             0.4444444444444444,
             "#bd3786"
            ],
            [
             0.5555555555555556,
             "#d8576b"
            ],
            [
             0.6666666666666666,
             "#ed7953"
            ],
            [
             0.7777777777777778,
             "#fb9f3a"
            ],
            [
             0.8888888888888888,
             "#fdca26"
            ],
            [
             1,
             "#f0f921"
            ]
           ],
           "sequentialminus": [
            [
             0,
             "#0d0887"
            ],
            [
             0.1111111111111111,
             "#46039f"
            ],
            [
             0.2222222222222222,
             "#7201a8"
            ],
            [
             0.3333333333333333,
             "#9c179e"
            ],
            [
             0.4444444444444444,
             "#bd3786"
            ],
            [
             0.5555555555555556,
             "#d8576b"
            ],
            [
             0.6666666666666666,
             "#ed7953"
            ],
            [
             0.7777777777777778,
             "#fb9f3a"
            ],
            [
             0.8888888888888888,
             "#fdca26"
            ],
            [
             1,
             "#f0f921"
            ]
           ]
          },
          "colorway": [
           "#636efa",
           "#EF553B",
           "#00cc96",
           "#ab63fa",
           "#FFA15A",
           "#19d3f3",
           "#FF6692",
           "#B6E880",
           "#FF97FF",
           "#FECB52"
          ],
          "font": {
           "color": "#2a3f5f"
          },
          "geo": {
           "bgcolor": "white",
           "lakecolor": "white",
           "landcolor": "#E5ECF6",
           "showlakes": true,
           "showland": true,
           "subunitcolor": "white"
          },
          "hoverlabel": {
           "align": "left"
          },
          "hovermode": "closest",
          "mapbox": {
           "style": "light"
          },
          "paper_bgcolor": "white",
          "plot_bgcolor": "#E5ECF6",
          "polar": {
           "angularaxis": {
            "gridcolor": "white",
            "linecolor": "white",
            "ticks": ""
           },
           "bgcolor": "#E5ECF6",
           "radialaxis": {
            "gridcolor": "white",
            "linecolor": "white",
            "ticks": ""
           }
          },
          "scene": {
           "xaxis": {
            "backgroundcolor": "#E5ECF6",
            "gridcolor": "white",
            "gridwidth": 2,
            "linecolor": "white",
            "showbackground": true,
            "ticks": "",
            "zerolinecolor": "white"
           },
           "yaxis": {
            "backgroundcolor": "#E5ECF6",
            "gridcolor": "white",
            "gridwidth": 2,
            "linecolor": "white",
            "showbackground": true,
            "ticks": "",
            "zerolinecolor": "white"
           },
           "zaxis": {
            "backgroundcolor": "#E5ECF6",
            "gridcolor": "white",
            "gridwidth": 2,
            "linecolor": "white",
            "showbackground": true,
            "ticks": "",
            "zerolinecolor": "white"
           }
          },
          "shapedefaults": {
           "line": {
            "color": "#2a3f5f"
           }
          },
          "ternary": {
           "aaxis": {
            "gridcolor": "white",
            "linecolor": "white",
            "ticks": ""
           },
           "baxis": {
            "gridcolor": "white",
            "linecolor": "white",
            "ticks": ""
           },
           "bgcolor": "#E5ECF6",
           "caxis": {
            "gridcolor": "white",
            "linecolor": "white",
            "ticks": ""
           }
          },
          "title": {
           "x": 0.05
          },
          "xaxis": {
           "automargin": true,
           "gridcolor": "white",
           "linecolor": "white",
           "ticks": "",
           "title": {
            "standoff": 15
           },
           "zerolinecolor": "white",
           "zerolinewidth": 2
          },
          "yaxis": {
           "automargin": true,
           "gridcolor": "white",
           "linecolor": "white",
           "ticks": "",
           "title": {
            "standoff": 15
           },
           "zerolinecolor": "white",
           "zerolinewidth": 2
          }
         }
        },
        "xaxis": {
         "anchor": "y",
         "domain": [
          0,
          1
         ],
         "title": {
          "text": "age_group"
         }
        },
        "yaxis": {
         "anchor": "x",
         "domain": [
          0,
          1
         ],
         "title": {
          "text": "best"
         }
        }
       }
      }
     },
     "metadata": {},
     "output_type": "display_data"
    }
   ],
   "source": [
    "px.bar(rfs_pak_age_sex_w_all, x = 'age_group', y = 'best', color='sex')"
   ]
  },
  {
   "cell_type": "code",
   "execution_count": null,
   "metadata": {},
   "outputs": [],
   "source": []
  },
  {
   "cell_type": "code",
   "execution_count": null,
   "metadata": {},
   "outputs": [],
   "source": [
    "tb = pd.read_csv(\"TB_burden_countries_2024-03-25.csv\")"
   ]
  },
  {
   "cell_type": "code",
   "execution_count": null,
   "metadata": {},
   "outputs": [
    {
     "data": {
      "text/plain": [
       "72"
      ]
     },
     "execution_count": 41,
     "metadata": {},
     "output_type": "execute_result"
    }
   ],
   "source": [
    "len(tb.loc[tb.isna().any(axis=1)][\"country\"].unique())"
   ]
  },
  {
   "cell_type": "code",
   "execution_count": null,
   "metadata": {},
   "outputs": [
    {
     "data": {
      "text/html": [
       "<div>\n",
       "<style scoped>\n",
       "    .dataframe tbody tr th:only-of-type {\n",
       "        vertical-align: middle;\n",
       "    }\n",
       "\n",
       "    .dataframe tbody tr th {\n",
       "        vertical-align: top;\n",
       "    }\n",
       "\n",
       "    .dataframe thead th {\n",
       "        text-align: right;\n",
       "    }\n",
       "</style>\n",
       "<table border=\"1\" class=\"dataframe\">\n",
       "  <thead>\n",
       "    <tr style=\"text-align: right;\">\n",
       "      <th></th>\n",
       "      <th>country</th>\n",
       "      <th>iso2</th>\n",
       "      <th>iso3</th>\n",
       "      <th>iso_numeric</th>\n",
       "      <th>g_whoregion</th>\n",
       "      <th>year</th>\n",
       "      <th>e_pop_num</th>\n",
       "      <th>e_inc_100k</th>\n",
       "      <th>e_inc_100k_lo</th>\n",
       "      <th>e_inc_100k_hi</th>\n",
       "      <th>...</th>\n",
       "      <th>cfr</th>\n",
       "      <th>cfr_lo</th>\n",
       "      <th>cfr_hi</th>\n",
       "      <th>cfr_pct</th>\n",
       "      <th>cfr_pct_lo</th>\n",
       "      <th>cfr_pct_hi</th>\n",
       "      <th>c_newinc_100k</th>\n",
       "      <th>c_cdr</th>\n",
       "      <th>c_cdr_lo</th>\n",
       "      <th>c_cdr_hi</th>\n",
       "    </tr>\n",
       "  </thead>\n",
       "  <tbody>\n",
       "    <tr>\n",
       "      <th>69</th>\n",
       "      <td>American Samoa</td>\n",
       "      <td>AS</td>\n",
       "      <td>ASM</td>\n",
       "      <td>16</td>\n",
       "      <td>WPR</td>\n",
       "      <td>2000</td>\n",
       "      <td>58230</td>\n",
       "      <td>5.9</td>\n",
       "      <td>5.1</td>\n",
       "      <td>6.8</td>\n",
       "      <td>...</td>\n",
       "      <td>0.08</td>\n",
       "      <td>0.05</td>\n",
       "      <td>0.13</td>\n",
       "      <td>8.0</td>\n",
       "      <td>5.0</td>\n",
       "      <td>13.0</td>\n",
       "      <td>5.2</td>\n",
       "      <td>87.0</td>\n",
       "      <td>75.0</td>\n",
       "      <td>100.0</td>\n",
       "    </tr>\n",
       "    <tr>\n",
       "      <th>70</th>\n",
       "      <td>American Samoa</td>\n",
       "      <td>AS</td>\n",
       "      <td>ASM</td>\n",
       "      <td>16</td>\n",
       "      <td>WPR</td>\n",
       "      <td>2001</td>\n",
       "      <td>58324</td>\n",
       "      <td>5.9</td>\n",
       "      <td>5.1</td>\n",
       "      <td>6.8</td>\n",
       "      <td>...</td>\n",
       "      <td>0.08</td>\n",
       "      <td>0.05</td>\n",
       "      <td>0.12</td>\n",
       "      <td>8.0</td>\n",
       "      <td>5.0</td>\n",
       "      <td>12.0</td>\n",
       "      <td>5.1</td>\n",
       "      <td>87.0</td>\n",
       "      <td>75.0</td>\n",
       "      <td>100.0</td>\n",
       "    </tr>\n",
       "    <tr>\n",
       "      <th>71</th>\n",
       "      <td>American Samoa</td>\n",
       "      <td>AS</td>\n",
       "      <td>ASM</td>\n",
       "      <td>16</td>\n",
       "      <td>WPR</td>\n",
       "      <td>2002</td>\n",
       "      <td>58177</td>\n",
       "      <td>4.0</td>\n",
       "      <td>3.4</td>\n",
       "      <td>4.6</td>\n",
       "      <td>...</td>\n",
       "      <td>0.08</td>\n",
       "      <td>0.05</td>\n",
       "      <td>0.12</td>\n",
       "      <td>8.0</td>\n",
       "      <td>5.0</td>\n",
       "      <td>12.0</td>\n",
       "      <td>3.4</td>\n",
       "      <td>87.0</td>\n",
       "      <td>75.0</td>\n",
       "      <td>100.0</td>\n",
       "    </tr>\n",
       "    <tr>\n",
       "      <th>72</th>\n",
       "      <td>American Samoa</td>\n",
       "      <td>AS</td>\n",
       "      <td>ASM</td>\n",
       "      <td>16</td>\n",
       "      <td>WPR</td>\n",
       "      <td>2003</td>\n",
       "      <td>57941</td>\n",
       "      <td>6.0</td>\n",
       "      <td>5.1</td>\n",
       "      <td>6.9</td>\n",
       "      <td>...</td>\n",
       "      <td>0.08</td>\n",
       "      <td>0.05</td>\n",
       "      <td>0.12</td>\n",
       "      <td>8.0</td>\n",
       "      <td>5.0</td>\n",
       "      <td>12.0</td>\n",
       "      <td>5.2</td>\n",
       "      <td>87.0</td>\n",
       "      <td>75.0</td>\n",
       "      <td>100.0</td>\n",
       "    </tr>\n",
       "    <tr>\n",
       "      <th>73</th>\n",
       "      <td>American Samoa</td>\n",
       "      <td>AS</td>\n",
       "      <td>ASM</td>\n",
       "      <td>16</td>\n",
       "      <td>WPR</td>\n",
       "      <td>2004</td>\n",
       "      <td>57626</td>\n",
       "      <td>10.0</td>\n",
       "      <td>8.5</td>\n",
       "      <td>12.0</td>\n",
       "      <td>...</td>\n",
       "      <td>0.08</td>\n",
       "      <td>0.05</td>\n",
       "      <td>0.12</td>\n",
       "      <td>8.0</td>\n",
       "      <td>5.0</td>\n",
       "      <td>12.0</td>\n",
       "      <td>8.7</td>\n",
       "      <td>87.0</td>\n",
       "      <td>75.0</td>\n",
       "      <td>100.0</td>\n",
       "    </tr>\n",
       "    <tr>\n",
       "      <th>...</th>\n",
       "      <td>...</td>\n",
       "      <td>...</td>\n",
       "      <td>...</td>\n",
       "      <td>...</td>\n",
       "      <td>...</td>\n",
       "      <td>...</td>\n",
       "      <td>...</td>\n",
       "      <td>...</td>\n",
       "      <td>...</td>\n",
       "      <td>...</td>\n",
       "      <td>...</td>\n",
       "      <td>...</td>\n",
       "      <td>...</td>\n",
       "      <td>...</td>\n",
       "      <td>...</td>\n",
       "      <td>...</td>\n",
       "      <td>...</td>\n",
       "      <td>...</td>\n",
       "      <td>...</td>\n",
       "      <td>...</td>\n",
       "      <td>...</td>\n",
       "    </tr>\n",
       "    <tr>\n",
       "      <th>4843</th>\n",
       "      <td>Wallis and Futuna</td>\n",
       "      <td>WF</td>\n",
       "      <td>WLF</td>\n",
       "      <td>876</td>\n",
       "      <td>WPR</td>\n",
       "      <td>2018</td>\n",
       "      <td>11816</td>\n",
       "      <td>0.0</td>\n",
       "      <td>0.0</td>\n",
       "      <td>0.0</td>\n",
       "      <td>...</td>\n",
       "      <td>NaN</td>\n",
       "      <td>NaN</td>\n",
       "      <td>NaN</td>\n",
       "      <td>NaN</td>\n",
       "      <td>NaN</td>\n",
       "      <td>NaN</td>\n",
       "      <td>0.0</td>\n",
       "      <td>NaN</td>\n",
       "      <td>NaN</td>\n",
       "      <td>NaN</td>\n",
       "    </tr>\n",
       "    <tr>\n",
       "      <th>4844</th>\n",
       "      <td>Wallis and Futuna</td>\n",
       "      <td>WF</td>\n",
       "      <td>WLF</td>\n",
       "      <td>876</td>\n",
       "      <td>WPR</td>\n",
       "      <td>2019</td>\n",
       "      <td>11714</td>\n",
       "      <td>9.8</td>\n",
       "      <td>8.4</td>\n",
       "      <td>11.0</td>\n",
       "      <td>...</td>\n",
       "      <td>0.09</td>\n",
       "      <td>0.05</td>\n",
       "      <td>0.13</td>\n",
       "      <td>9.0</td>\n",
       "      <td>5.0</td>\n",
       "      <td>13.0</td>\n",
       "      <td>8.5</td>\n",
       "      <td>87.0</td>\n",
       "      <td>75.0</td>\n",
       "      <td>100.0</td>\n",
       "    </tr>\n",
       "    <tr>\n",
       "      <th>4845</th>\n",
       "      <td>Wallis and Futuna</td>\n",
       "      <td>WF</td>\n",
       "      <td>WLF</td>\n",
       "      <td>876</td>\n",
       "      <td>WPR</td>\n",
       "      <td>2020</td>\n",
       "      <td>11655</td>\n",
       "      <td>0.0</td>\n",
       "      <td>0.0</td>\n",
       "      <td>0.0</td>\n",
       "      <td>...</td>\n",
       "      <td>NaN</td>\n",
       "      <td>NaN</td>\n",
       "      <td>NaN</td>\n",
       "      <td>NaN</td>\n",
       "      <td>NaN</td>\n",
       "      <td>NaN</td>\n",
       "      <td>0.0</td>\n",
       "      <td>NaN</td>\n",
       "      <td>NaN</td>\n",
       "      <td>NaN</td>\n",
       "    </tr>\n",
       "    <tr>\n",
       "      <th>4846</th>\n",
       "      <td>Wallis and Futuna</td>\n",
       "      <td>WF</td>\n",
       "      <td>WLF</td>\n",
       "      <td>876</td>\n",
       "      <td>WPR</td>\n",
       "      <td>2021</td>\n",
       "      <td>11627</td>\n",
       "      <td>1.9</td>\n",
       "      <td>1.6</td>\n",
       "      <td>2.1</td>\n",
       "      <td>...</td>\n",
       "      <td>0.08</td>\n",
       "      <td>0.05</td>\n",
       "      <td>0.12</td>\n",
       "      <td>8.0</td>\n",
       "      <td>5.0</td>\n",
       "      <td>12.0</td>\n",
       "      <td>NaN</td>\n",
       "      <td>NaN</td>\n",
       "      <td>NaN</td>\n",
       "      <td>NaN</td>\n",
       "    </tr>\n",
       "    <tr>\n",
       "      <th>4847</th>\n",
       "      <td>Wallis and Futuna</td>\n",
       "      <td>WF</td>\n",
       "      <td>WLF</td>\n",
       "      <td>876</td>\n",
       "      <td>WPR</td>\n",
       "      <td>2022</td>\n",
       "      <td>11572</td>\n",
       "      <td>1.9</td>\n",
       "      <td>1.6</td>\n",
       "      <td>2.2</td>\n",
       "      <td>...</td>\n",
       "      <td>0.08</td>\n",
       "      <td>0.05</td>\n",
       "      <td>0.12</td>\n",
       "      <td>8.0</td>\n",
       "      <td>5.0</td>\n",
       "      <td>12.0</td>\n",
       "      <td>NaN</td>\n",
       "      <td>NaN</td>\n",
       "      <td>NaN</td>\n",
       "      <td>NaN</td>\n",
       "    </tr>\n",
       "  </tbody>\n",
       "</table>\n",
       "<p>765 rows × 50 columns</p>\n",
       "</div>"
      ],
      "text/plain": [
       "                country iso2 iso3  iso_numeric g_whoregion  year  e_pop_num  \\\n",
       "69       American Samoa   AS  ASM           16         WPR  2000      58230   \n",
       "70       American Samoa   AS  ASM           16         WPR  2001      58324   \n",
       "71       American Samoa   AS  ASM           16         WPR  2002      58177   \n",
       "72       American Samoa   AS  ASM           16         WPR  2003      57941   \n",
       "73       American Samoa   AS  ASM           16         WPR  2004      57626   \n",
       "...                 ...  ...  ...          ...         ...   ...        ...   \n",
       "4843  Wallis and Futuna   WF  WLF          876         WPR  2018      11816   \n",
       "4844  Wallis and Futuna   WF  WLF          876         WPR  2019      11714   \n",
       "4845  Wallis and Futuna   WF  WLF          876         WPR  2020      11655   \n",
       "4846  Wallis and Futuna   WF  WLF          876         WPR  2021      11627   \n",
       "4847  Wallis and Futuna   WF  WLF          876         WPR  2022      11572   \n",
       "\n",
       "      e_inc_100k  e_inc_100k_lo  e_inc_100k_hi  ...   cfr  cfr_lo  cfr_hi  \\\n",
       "69           5.9            5.1            6.8  ...  0.08    0.05    0.13   \n",
       "70           5.9            5.1            6.8  ...  0.08    0.05    0.12   \n",
       "71           4.0            3.4            4.6  ...  0.08    0.05    0.12   \n",
       "72           6.0            5.1            6.9  ...  0.08    0.05    0.12   \n",
       "73          10.0            8.5           12.0  ...  0.08    0.05    0.12   \n",
       "...          ...            ...            ...  ...   ...     ...     ...   \n",
       "4843         0.0            0.0            0.0  ...   NaN     NaN     NaN   \n",
       "4844         9.8            8.4           11.0  ...  0.09    0.05    0.13   \n",
       "4845         0.0            0.0            0.0  ...   NaN     NaN     NaN   \n",
       "4846         1.9            1.6            2.1  ...  0.08    0.05    0.12   \n",
       "4847         1.9            1.6            2.2  ...  0.08    0.05    0.12   \n",
       "\n",
       "      cfr_pct  cfr_pct_lo  cfr_pct_hi  c_newinc_100k  c_cdr  c_cdr_lo  \\\n",
       "69        8.0         5.0        13.0            5.2   87.0      75.0   \n",
       "70        8.0         5.0        12.0            5.1   87.0      75.0   \n",
       "71        8.0         5.0        12.0            3.4   87.0      75.0   \n",
       "72        8.0         5.0        12.0            5.2   87.0      75.0   \n",
       "73        8.0         5.0        12.0            8.7   87.0      75.0   \n",
       "...       ...         ...         ...            ...    ...       ...   \n",
       "4843      NaN         NaN         NaN            0.0    NaN       NaN   \n",
       "4844      9.0         5.0        13.0            8.5   87.0      75.0   \n",
       "4845      NaN         NaN         NaN            0.0    NaN       NaN   \n",
       "4846      8.0         5.0        12.0            NaN    NaN       NaN   \n",
       "4847      8.0         5.0        12.0            NaN    NaN       NaN   \n",
       "\n",
       "      c_cdr_hi  \n",
       "69       100.0  \n",
       "70       100.0  \n",
       "71       100.0  \n",
       "72       100.0  \n",
       "73       100.0  \n",
       "...        ...  \n",
       "4843       NaN  \n",
       "4844     100.0  \n",
       "4845       NaN  \n",
       "4846       NaN  \n",
       "4847       NaN  \n",
       "\n",
       "[765 rows x 50 columns]"
      ]
     },
     "execution_count": 46,
     "metadata": {},
     "output_type": "execute_result"
    }
   ],
   "source": [
    "tb[tb.isna().any(axis=1)]"
   ]
  },
  {
   "cell_type": "code",
   "execution_count": null,
   "metadata": {},
   "outputs": [
    {
     "data": {
      "text/plain": [
       "23"
      ]
     },
     "execution_count": 20,
     "metadata": {},
     "output_type": "execute_result"
    }
   ],
   "source": [
    "len(tb[\"year\"].unique())"
   ]
  },
  {
   "cell_type": "code",
   "execution_count": null,
   "metadata": {},
   "outputs": [
    {
     "data": {
      "text/html": [
       "<div>\n",
       "<style scoped>\n",
       "    .dataframe tbody tr th:only-of-type {\n",
       "        vertical-align: middle;\n",
       "    }\n",
       "\n",
       "    .dataframe tbody tr th {\n",
       "        vertical-align: top;\n",
       "    }\n",
       "\n",
       "    .dataframe thead th {\n",
       "        text-align: right;\n",
       "    }\n",
       "</style>\n",
       "<table border=\"1\" class=\"dataframe\">\n",
       "  <thead>\n",
       "    <tr style=\"text-align: right;\">\n",
       "      <th></th>\n",
       "      <th>country</th>\n",
       "      <th>iso2</th>\n",
       "      <th>iso3</th>\n",
       "      <th>iso_numeric</th>\n",
       "      <th>g_whoregion</th>\n",
       "      <th>year</th>\n",
       "      <th>e_pop_num</th>\n",
       "      <th>e_inc_100k</th>\n",
       "      <th>e_inc_100k_lo</th>\n",
       "      <th>e_inc_100k_hi</th>\n",
       "      <th>...</th>\n",
       "      <th>cfr</th>\n",
       "      <th>cfr_lo</th>\n",
       "      <th>cfr_hi</th>\n",
       "      <th>cfr_pct</th>\n",
       "      <th>cfr_pct_lo</th>\n",
       "      <th>cfr_pct_hi</th>\n",
       "      <th>c_newinc_100k</th>\n",
       "      <th>c_cdr</th>\n",
       "      <th>c_cdr_lo</th>\n",
       "      <th>c_cdr_hi</th>\n",
       "    </tr>\n",
       "  </thead>\n",
       "  <tbody>\n",
       "    <tr>\n",
       "      <th>0</th>\n",
       "      <td>Afghanistan</td>\n",
       "      <td>AF</td>\n",
       "      <td>AFG</td>\n",
       "      <td>4</td>\n",
       "      <td>EMR</td>\n",
       "      <td>2000</td>\n",
       "      <td>19542982</td>\n",
       "      <td>190.0</td>\n",
       "      <td>122.0</td>\n",
       "      <td>271.0</td>\n",
       "      <td>...</td>\n",
       "      <td>0.37</td>\n",
       "      <td>0.17</td>\n",
       "      <td>0.61</td>\n",
       "      <td>37.0</td>\n",
       "      <td>17.0</td>\n",
       "      <td>61.0</td>\n",
       "      <td>36.0</td>\n",
       "      <td>19.0</td>\n",
       "      <td>13.0</td>\n",
       "      <td>30.0</td>\n",
       "    </tr>\n",
       "    <tr>\n",
       "      <th>1</th>\n",
       "      <td>Afghanistan</td>\n",
       "      <td>AF</td>\n",
       "      <td>AFG</td>\n",
       "      <td>4</td>\n",
       "      <td>EMR</td>\n",
       "      <td>2001</td>\n",
       "      <td>19688632</td>\n",
       "      <td>189.0</td>\n",
       "      <td>122.0</td>\n",
       "      <td>271.0</td>\n",
       "      <td>...</td>\n",
       "      <td>0.35</td>\n",
       "      <td>0.16</td>\n",
       "      <td>0.56</td>\n",
       "      <td>35.0</td>\n",
       "      <td>16.0</td>\n",
       "      <td>56.0</td>\n",
       "      <td>51.0</td>\n",
       "      <td>27.0</td>\n",
       "      <td>19.0</td>\n",
       "      <td>42.0</td>\n",
       "    </tr>\n",
       "    <tr>\n",
       "      <th>2</th>\n",
       "      <td>Afghanistan</td>\n",
       "      <td>AF</td>\n",
       "      <td>AFG</td>\n",
       "      <td>4</td>\n",
       "      <td>EMR</td>\n",
       "      <td>2002</td>\n",
       "      <td>21000256</td>\n",
       "      <td>189.0</td>\n",
       "      <td>122.0</td>\n",
       "      <td>270.0</td>\n",
       "      <td>...</td>\n",
       "      <td>0.31</td>\n",
       "      <td>0.15</td>\n",
       "      <td>0.51</td>\n",
       "      <td>31.0</td>\n",
       "      <td>15.0</td>\n",
       "      <td>51.0</td>\n",
       "      <td>66.0</td>\n",
       "      <td>35.0</td>\n",
       "      <td>24.0</td>\n",
       "      <td>54.0</td>\n",
       "    </tr>\n",
       "    <tr>\n",
       "      <th>3</th>\n",
       "      <td>Afghanistan</td>\n",
       "      <td>AF</td>\n",
       "      <td>AFG</td>\n",
       "      <td>4</td>\n",
       "      <td>EMR</td>\n",
       "      <td>2003</td>\n",
       "      <td>22645130</td>\n",
       "      <td>189.0</td>\n",
       "      <td>122.0</td>\n",
       "      <td>270.0</td>\n",
       "      <td>...</td>\n",
       "      <td>0.32</td>\n",
       "      <td>0.15</td>\n",
       "      <td>0.52</td>\n",
       "      <td>32.0</td>\n",
       "      <td>15.0</td>\n",
       "      <td>52.0</td>\n",
       "      <td>61.0</td>\n",
       "      <td>32.0</td>\n",
       "      <td>23.0</td>\n",
       "      <td>50.0</td>\n",
       "    </tr>\n",
       "    <tr>\n",
       "      <th>4</th>\n",
       "      <td>Afghanistan</td>\n",
       "      <td>AF</td>\n",
       "      <td>AFG</td>\n",
       "      <td>4</td>\n",
       "      <td>EMR</td>\n",
       "      <td>2004</td>\n",
       "      <td>23553551</td>\n",
       "      <td>189.0</td>\n",
       "      <td>122.0</td>\n",
       "      <td>270.0</td>\n",
       "      <td>...</td>\n",
       "      <td>0.28</td>\n",
       "      <td>0.13</td>\n",
       "      <td>0.46</td>\n",
       "      <td>28.0</td>\n",
       "      <td>13.0</td>\n",
       "      <td>46.0</td>\n",
       "      <td>78.0</td>\n",
       "      <td>41.0</td>\n",
       "      <td>29.0</td>\n",
       "      <td>64.0</td>\n",
       "    </tr>\n",
       "    <tr>\n",
       "      <th>5</th>\n",
       "      <td>Afghanistan</td>\n",
       "      <td>AF</td>\n",
       "      <td>AFG</td>\n",
       "      <td>4</td>\n",
       "      <td>EMR</td>\n",
       "      <td>2005</td>\n",
       "      <td>24411191</td>\n",
       "      <td>189.0</td>\n",
       "      <td>122.0</td>\n",
       "      <td>270.0</td>\n",
       "      <td>...</td>\n",
       "      <td>0.26</td>\n",
       "      <td>0.12</td>\n",
       "      <td>0.43</td>\n",
       "      <td>26.0</td>\n",
       "      <td>12.0</td>\n",
       "      <td>43.0</td>\n",
       "      <td>89.0</td>\n",
       "      <td>47.0</td>\n",
       "      <td>33.0</td>\n",
       "      <td>73.0</td>\n",
       "    </tr>\n",
       "    <tr>\n",
       "      <th>6</th>\n",
       "      <td>Afghanistan</td>\n",
       "      <td>AF</td>\n",
       "      <td>AFG</td>\n",
       "      <td>4</td>\n",
       "      <td>EMR</td>\n",
       "      <td>2006</td>\n",
       "      <td>25442944</td>\n",
       "      <td>189.0</td>\n",
       "      <td>122.0</td>\n",
       "      <td>270.0</td>\n",
       "      <td>...</td>\n",
       "      <td>0.24</td>\n",
       "      <td>0.11</td>\n",
       "      <td>0.39</td>\n",
       "      <td>24.0</td>\n",
       "      <td>11.0</td>\n",
       "      <td>39.0</td>\n",
       "      <td>100.0</td>\n",
       "      <td>53.0</td>\n",
       "      <td>37.0</td>\n",
       "      <td>82.0</td>\n",
       "    </tr>\n",
       "    <tr>\n",
       "      <th>7</th>\n",
       "      <td>Afghanistan</td>\n",
       "      <td>AF</td>\n",
       "      <td>AFG</td>\n",
       "      <td>4</td>\n",
       "      <td>EMR</td>\n",
       "      <td>2007</td>\n",
       "      <td>25903301</td>\n",
       "      <td>189.0</td>\n",
       "      <td>122.0</td>\n",
       "      <td>270.0</td>\n",
       "      <td>...</td>\n",
       "      <td>0.21</td>\n",
       "      <td>0.10</td>\n",
       "      <td>0.35</td>\n",
       "      <td>21.0</td>\n",
       "      <td>10.0</td>\n",
       "      <td>35.0</td>\n",
       "      <td>111.0</td>\n",
       "      <td>59.0</td>\n",
       "      <td>41.0</td>\n",
       "      <td>91.0</td>\n",
       "    </tr>\n",
       "    <tr>\n",
       "      <th>8</th>\n",
       "      <td>Afghanistan</td>\n",
       "      <td>AF</td>\n",
       "      <td>AFG</td>\n",
       "      <td>4</td>\n",
       "      <td>EMR</td>\n",
       "      <td>2008</td>\n",
       "      <td>26427199</td>\n",
       "      <td>189.0</td>\n",
       "      <td>122.0</td>\n",
       "      <td>271.0</td>\n",
       "      <td>...</td>\n",
       "      <td>0.22</td>\n",
       "      <td>0.11</td>\n",
       "      <td>0.37</td>\n",
       "      <td>22.0</td>\n",
       "      <td>11.0</td>\n",
       "      <td>37.0</td>\n",
       "      <td>107.0</td>\n",
       "      <td>57.0</td>\n",
       "      <td>40.0</td>\n",
       "      <td>88.0</td>\n",
       "    </tr>\n",
       "    <tr>\n",
       "      <th>9</th>\n",
       "      <td>Afghanistan</td>\n",
       "      <td>AF</td>\n",
       "      <td>AFG</td>\n",
       "      <td>4</td>\n",
       "      <td>EMR</td>\n",
       "      <td>2009</td>\n",
       "      <td>27385307</td>\n",
       "      <td>189.0</td>\n",
       "      <td>122.0</td>\n",
       "      <td>271.0</td>\n",
       "      <td>...</td>\n",
       "      <td>0.25</td>\n",
       "      <td>0.12</td>\n",
       "      <td>0.40</td>\n",
       "      <td>25.0</td>\n",
       "      <td>12.0</td>\n",
       "      <td>40.0</td>\n",
       "      <td>95.0</td>\n",
       "      <td>50.0</td>\n",
       "      <td>35.0</td>\n",
       "      <td>78.0</td>\n",
       "    </tr>\n",
       "    <tr>\n",
       "      <th>10</th>\n",
       "      <td>Afghanistan</td>\n",
       "      <td>AF</td>\n",
       "      <td>AFG</td>\n",
       "      <td>4</td>\n",
       "      <td>EMR</td>\n",
       "      <td>2010</td>\n",
       "      <td>28189672</td>\n",
       "      <td>189.0</td>\n",
       "      <td>122.0</td>\n",
       "      <td>271.0</td>\n",
       "      <td>...</td>\n",
       "      <td>0.24</td>\n",
       "      <td>0.11</td>\n",
       "      <td>0.39</td>\n",
       "      <td>24.0</td>\n",
       "      <td>11.0</td>\n",
       "      <td>39.0</td>\n",
       "      <td>99.0</td>\n",
       "      <td>53.0</td>\n",
       "      <td>37.0</td>\n",
       "      <td>81.0</td>\n",
       "    </tr>\n",
       "    <tr>\n",
       "      <th>11</th>\n",
       "      <td>Afghanistan</td>\n",
       "      <td>AF</td>\n",
       "      <td>AFG</td>\n",
       "      <td>4</td>\n",
       "      <td>EMR</td>\n",
       "      <td>2011</td>\n",
       "      <td>29249157</td>\n",
       "      <td>189.0</td>\n",
       "      <td>122.0</td>\n",
       "      <td>271.0</td>\n",
       "      <td>...</td>\n",
       "      <td>0.24</td>\n",
       "      <td>0.12</td>\n",
       "      <td>0.40</td>\n",
       "      <td>24.0</td>\n",
       "      <td>12.0</td>\n",
       "      <td>40.0</td>\n",
       "      <td>96.0</td>\n",
       "      <td>51.0</td>\n",
       "      <td>35.0</td>\n",
       "      <td>78.0</td>\n",
       "    </tr>\n",
       "    <tr>\n",
       "      <th>12</th>\n",
       "      <td>Afghanistan</td>\n",
       "      <td>AF</td>\n",
       "      <td>AFG</td>\n",
       "      <td>4</td>\n",
       "      <td>EMR</td>\n",
       "      <td>2012</td>\n",
       "      <td>30466479</td>\n",
       "      <td>189.0</td>\n",
       "      <td>122.0</td>\n",
       "      <td>270.0</td>\n",
       "      <td>...</td>\n",
       "      <td>0.25</td>\n",
       "      <td>0.12</td>\n",
       "      <td>0.40</td>\n",
       "      <td>25.0</td>\n",
       "      <td>12.0</td>\n",
       "      <td>40.0</td>\n",
       "      <td>94.0</td>\n",
       "      <td>50.0</td>\n",
       "      <td>35.0</td>\n",
       "      <td>77.0</td>\n",
       "    </tr>\n",
       "    <tr>\n",
       "      <th>13</th>\n",
       "      <td>Afghanistan</td>\n",
       "      <td>AF</td>\n",
       "      <td>AFG</td>\n",
       "      <td>4</td>\n",
       "      <td>EMR</td>\n",
       "      <td>2013</td>\n",
       "      <td>31541209</td>\n",
       "      <td>189.0</td>\n",
       "      <td>122.0</td>\n",
       "      <td>270.0</td>\n",
       "      <td>...</td>\n",
       "      <td>0.24</td>\n",
       "      <td>0.12</td>\n",
       "      <td>0.39</td>\n",
       "      <td>24.0</td>\n",
       "      <td>12.0</td>\n",
       "      <td>39.0</td>\n",
       "      <td>97.0</td>\n",
       "      <td>51.0</td>\n",
       "      <td>36.0</td>\n",
       "      <td>79.0</td>\n",
       "    </tr>\n",
       "    <tr>\n",
       "      <th>14</th>\n",
       "      <td>Afghanistan</td>\n",
       "      <td>AF</td>\n",
       "      <td>AFG</td>\n",
       "      <td>4</td>\n",
       "      <td>EMR</td>\n",
       "      <td>2014</td>\n",
       "      <td>32716210</td>\n",
       "      <td>189.0</td>\n",
       "      <td>122.0</td>\n",
       "      <td>270.0</td>\n",
       "      <td>...</td>\n",
       "      <td>0.24</td>\n",
       "      <td>0.12</td>\n",
       "      <td>0.39</td>\n",
       "      <td>24.0</td>\n",
       "      <td>12.0</td>\n",
       "      <td>39.0</td>\n",
       "      <td>97.0</td>\n",
       "      <td>51.0</td>\n",
       "      <td>36.0</td>\n",
       "      <td>79.0</td>\n",
       "    </tr>\n",
       "    <tr>\n",
       "      <th>15</th>\n",
       "      <td>Afghanistan</td>\n",
       "      <td>AF</td>\n",
       "      <td>AFG</td>\n",
       "      <td>4</td>\n",
       "      <td>EMR</td>\n",
       "      <td>2015</td>\n",
       "      <td>33753499</td>\n",
       "      <td>189.0</td>\n",
       "      <td>122.0</td>\n",
       "      <td>270.0</td>\n",
       "      <td>...</td>\n",
       "      <td>0.22</td>\n",
       "      <td>0.11</td>\n",
       "      <td>0.36</td>\n",
       "      <td>22.0</td>\n",
       "      <td>11.0</td>\n",
       "      <td>36.0</td>\n",
       "      <td>106.0</td>\n",
       "      <td>56.0</td>\n",
       "      <td>39.0</td>\n",
       "      <td>87.0</td>\n",
       "    </tr>\n",
       "    <tr>\n",
       "      <th>16</th>\n",
       "      <td>Afghanistan</td>\n",
       "      <td>AF</td>\n",
       "      <td>AFG</td>\n",
       "      <td>4</td>\n",
       "      <td>EMR</td>\n",
       "      <td>2016</td>\n",
       "      <td>34636207</td>\n",
       "      <td>189.0</td>\n",
       "      <td>122.0</td>\n",
       "      <td>270.0</td>\n",
       "      <td>...</td>\n",
       "      <td>0.19</td>\n",
       "      <td>0.09</td>\n",
       "      <td>0.31</td>\n",
       "      <td>19.0</td>\n",
       "      <td>9.0</td>\n",
       "      <td>31.0</td>\n",
       "      <td>121.0</td>\n",
       "      <td>64.0</td>\n",
       "      <td>45.0</td>\n",
       "      <td>99.0</td>\n",
       "    </tr>\n",
       "    <tr>\n",
       "      <th>17</th>\n",
       "      <td>Afghanistan</td>\n",
       "      <td>AF</td>\n",
       "      <td>AFG</td>\n",
       "      <td>4</td>\n",
       "      <td>EMR</td>\n",
       "      <td>2017</td>\n",
       "      <td>35643418</td>\n",
       "      <td>189.0</td>\n",
       "      <td>122.0</td>\n",
       "      <td>270.0</td>\n",
       "      <td>...</td>\n",
       "      <td>0.16</td>\n",
       "      <td>0.08</td>\n",
       "      <td>0.27</td>\n",
       "      <td>16.0</td>\n",
       "      <td>8.0</td>\n",
       "      <td>27.0</td>\n",
       "      <td>131.0</td>\n",
       "      <td>69.0</td>\n",
       "      <td>49.0</td>\n",
       "      <td>110.0</td>\n",
       "    </tr>\n",
       "    <tr>\n",
       "      <th>18</th>\n",
       "      <td>Afghanistan</td>\n",
       "      <td>AF</td>\n",
       "      <td>AFG</td>\n",
       "      <td>4</td>\n",
       "      <td>EMR</td>\n",
       "      <td>2018</td>\n",
       "      <td>36686784</td>\n",
       "      <td>189.0</td>\n",
       "      <td>122.0</td>\n",
       "      <td>270.0</td>\n",
       "      <td>...</td>\n",
       "      <td>0.16</td>\n",
       "      <td>0.08</td>\n",
       "      <td>0.26</td>\n",
       "      <td>16.0</td>\n",
       "      <td>8.0</td>\n",
       "      <td>26.0</td>\n",
       "      <td>132.0</td>\n",
       "      <td>70.0</td>\n",
       "      <td>49.0</td>\n",
       "      <td>110.0</td>\n",
       "    </tr>\n",
       "    <tr>\n",
       "      <th>19</th>\n",
       "      <td>Afghanistan</td>\n",
       "      <td>AF</td>\n",
       "      <td>AFG</td>\n",
       "      <td>4</td>\n",
       "      <td>EMR</td>\n",
       "      <td>2019</td>\n",
       "      <td>37769499</td>\n",
       "      <td>189.0</td>\n",
       "      <td>122.0</td>\n",
       "      <td>270.0</td>\n",
       "      <td>...</td>\n",
       "      <td>0.14</td>\n",
       "      <td>0.07</td>\n",
       "      <td>0.24</td>\n",
       "      <td>14.0</td>\n",
       "      <td>7.0</td>\n",
       "      <td>24.0</td>\n",
       "      <td>139.0</td>\n",
       "      <td>74.0</td>\n",
       "      <td>51.0</td>\n",
       "      <td>110.0</td>\n",
       "    </tr>\n",
       "    <tr>\n",
       "      <th>20</th>\n",
       "      <td>Afghanistan</td>\n",
       "      <td>AF</td>\n",
       "      <td>AFG</td>\n",
       "      <td>4</td>\n",
       "      <td>EMR</td>\n",
       "      <td>2020</td>\n",
       "      <td>38972230</td>\n",
       "      <td>183.0</td>\n",
       "      <td>118.0</td>\n",
       "      <td>260.0</td>\n",
       "      <td>...</td>\n",
       "      <td>0.15</td>\n",
       "      <td>0.08</td>\n",
       "      <td>0.24</td>\n",
       "      <td>15.0</td>\n",
       "      <td>8.0</td>\n",
       "      <td>24.0</td>\n",
       "      <td>118.0</td>\n",
       "      <td>64.0</td>\n",
       "      <td>45.0</td>\n",
       "      <td>100.0</td>\n",
       "    </tr>\n",
       "    <tr>\n",
       "      <th>21</th>\n",
       "      <td>Afghanistan</td>\n",
       "      <td>AF</td>\n",
       "      <td>AFG</td>\n",
       "      <td>4</td>\n",
       "      <td>EMR</td>\n",
       "      <td>2021</td>\n",
       "      <td>40099462</td>\n",
       "      <td>185.0</td>\n",
       "      <td>118.0</td>\n",
       "      <td>257.0</td>\n",
       "      <td>...</td>\n",
       "      <td>0.14</td>\n",
       "      <td>0.07</td>\n",
       "      <td>0.23</td>\n",
       "      <td>14.0</td>\n",
       "      <td>7.0</td>\n",
       "      <td>23.0</td>\n",
       "      <td>125.0</td>\n",
       "      <td>68.0</td>\n",
       "      <td>49.0</td>\n",
       "      <td>110.0</td>\n",
       "    </tr>\n",
       "    <tr>\n",
       "      <th>22</th>\n",
       "      <td>Afghanistan</td>\n",
       "      <td>AF</td>\n",
       "      <td>AFG</td>\n",
       "      <td>4</td>\n",
       "      <td>EMR</td>\n",
       "      <td>2022</td>\n",
       "      <td>41128771</td>\n",
       "      <td>185.0</td>\n",
       "      <td>117.0</td>\n",
       "      <td>255.0</td>\n",
       "      <td>...</td>\n",
       "      <td>0.14</td>\n",
       "      <td>0.07</td>\n",
       "      <td>0.22</td>\n",
       "      <td>14.0</td>\n",
       "      <td>7.0</td>\n",
       "      <td>22.0</td>\n",
       "      <td>126.0</td>\n",
       "      <td>68.0</td>\n",
       "      <td>49.0</td>\n",
       "      <td>110.0</td>\n",
       "    </tr>\n",
       "  </tbody>\n",
       "</table>\n",
       "<p>23 rows × 50 columns</p>\n",
       "</div>"
      ],
      "text/plain": [
       "        country iso2 iso3  iso_numeric g_whoregion  year  e_pop_num  \\\n",
       "0   Afghanistan   AF  AFG            4         EMR  2000   19542982   \n",
       "1   Afghanistan   AF  AFG            4         EMR  2001   19688632   \n",
       "2   Afghanistan   AF  AFG            4         EMR  2002   21000256   \n",
       "3   Afghanistan   AF  AFG            4         EMR  2003   22645130   \n",
       "4   Afghanistan   AF  AFG            4         EMR  2004   23553551   \n",
       "5   Afghanistan   AF  AFG            4         EMR  2005   24411191   \n",
       "6   Afghanistan   AF  AFG            4         EMR  2006   25442944   \n",
       "7   Afghanistan   AF  AFG            4         EMR  2007   25903301   \n",
       "8   Afghanistan   AF  AFG            4         EMR  2008   26427199   \n",
       "9   Afghanistan   AF  AFG            4         EMR  2009   27385307   \n",
       "10  Afghanistan   AF  AFG            4         EMR  2010   28189672   \n",
       "11  Afghanistan   AF  AFG            4         EMR  2011   29249157   \n",
       "12  Afghanistan   AF  AFG            4         EMR  2012   30466479   \n",
       "13  Afghanistan   AF  AFG            4         EMR  2013   31541209   \n",
       "14  Afghanistan   AF  AFG            4         EMR  2014   32716210   \n",
       "15  Afghanistan   AF  AFG            4         EMR  2015   33753499   \n",
       "16  Afghanistan   AF  AFG            4         EMR  2016   34636207   \n",
       "17  Afghanistan   AF  AFG            4         EMR  2017   35643418   \n",
       "18  Afghanistan   AF  AFG            4         EMR  2018   36686784   \n",
       "19  Afghanistan   AF  AFG            4         EMR  2019   37769499   \n",
       "20  Afghanistan   AF  AFG            4         EMR  2020   38972230   \n",
       "21  Afghanistan   AF  AFG            4         EMR  2021   40099462   \n",
       "22  Afghanistan   AF  AFG            4         EMR  2022   41128771   \n",
       "\n",
       "    e_inc_100k  e_inc_100k_lo  e_inc_100k_hi  ...   cfr  cfr_lo  cfr_hi  \\\n",
       "0        190.0          122.0          271.0  ...  0.37    0.17    0.61   \n",
       "1        189.0          122.0          271.0  ...  0.35    0.16    0.56   \n",
       "2        189.0          122.0          270.0  ...  0.31    0.15    0.51   \n",
       "3        189.0          122.0          270.0  ...  0.32    0.15    0.52   \n",
       "4        189.0          122.0          270.0  ...  0.28    0.13    0.46   \n",
       "5        189.0          122.0          270.0  ...  0.26    0.12    0.43   \n",
       "6        189.0          122.0          270.0  ...  0.24    0.11    0.39   \n",
       "7        189.0          122.0          270.0  ...  0.21    0.10    0.35   \n",
       "8        189.0          122.0          271.0  ...  0.22    0.11    0.37   \n",
       "9        189.0          122.0          271.0  ...  0.25    0.12    0.40   \n",
       "10       189.0          122.0          271.0  ...  0.24    0.11    0.39   \n",
       "11       189.0          122.0          271.0  ...  0.24    0.12    0.40   \n",
       "12       189.0          122.0          270.0  ...  0.25    0.12    0.40   \n",
       "13       189.0          122.0          270.0  ...  0.24    0.12    0.39   \n",
       "14       189.0          122.0          270.0  ...  0.24    0.12    0.39   \n",
       "15       189.0          122.0          270.0  ...  0.22    0.11    0.36   \n",
       "16       189.0          122.0          270.0  ...  0.19    0.09    0.31   \n",
       "17       189.0          122.0          270.0  ...  0.16    0.08    0.27   \n",
       "18       189.0          122.0          270.0  ...  0.16    0.08    0.26   \n",
       "19       189.0          122.0          270.0  ...  0.14    0.07    0.24   \n",
       "20       183.0          118.0          260.0  ...  0.15    0.08    0.24   \n",
       "21       185.0          118.0          257.0  ...  0.14    0.07    0.23   \n",
       "22       185.0          117.0          255.0  ...  0.14    0.07    0.22   \n",
       "\n",
       "    cfr_pct  cfr_pct_lo  cfr_pct_hi  c_newinc_100k  c_cdr  c_cdr_lo  c_cdr_hi  \n",
       "0      37.0        17.0        61.0           36.0   19.0      13.0      30.0  \n",
       "1      35.0        16.0        56.0           51.0   27.0      19.0      42.0  \n",
       "2      31.0        15.0        51.0           66.0   35.0      24.0      54.0  \n",
       "3      32.0        15.0        52.0           61.0   32.0      23.0      50.0  \n",
       "4      28.0        13.0        46.0           78.0   41.0      29.0      64.0  \n",
       "5      26.0        12.0        43.0           89.0   47.0      33.0      73.0  \n",
       "6      24.0        11.0        39.0          100.0   53.0      37.0      82.0  \n",
       "7      21.0        10.0        35.0          111.0   59.0      41.0      91.0  \n",
       "8      22.0        11.0        37.0          107.0   57.0      40.0      88.0  \n",
       "9      25.0        12.0        40.0           95.0   50.0      35.0      78.0  \n",
       "10     24.0        11.0        39.0           99.0   53.0      37.0      81.0  \n",
       "11     24.0        12.0        40.0           96.0   51.0      35.0      78.0  \n",
       "12     25.0        12.0        40.0           94.0   50.0      35.0      77.0  \n",
       "13     24.0        12.0        39.0           97.0   51.0      36.0      79.0  \n",
       "14     24.0        12.0        39.0           97.0   51.0      36.0      79.0  \n",
       "15     22.0        11.0        36.0          106.0   56.0      39.0      87.0  \n",
       "16     19.0         9.0        31.0          121.0   64.0      45.0      99.0  \n",
       "17     16.0         8.0        27.0          131.0   69.0      49.0     110.0  \n",
       "18     16.0         8.0        26.0          132.0   70.0      49.0     110.0  \n",
       "19     14.0         7.0        24.0          139.0   74.0      51.0     110.0  \n",
       "20     15.0         8.0        24.0          118.0   64.0      45.0     100.0  \n",
       "21     14.0         7.0        23.0          125.0   68.0      49.0     110.0  \n",
       "22     14.0         7.0        22.0          126.0   68.0      49.0     110.0  \n",
       "\n",
       "[23 rows x 50 columns]"
      ]
     },
     "execution_count": 22,
     "metadata": {},
     "output_type": "execute_result"
    }
   ],
   "source": [
    "tb.loc[tb[\"country\"] == \"Afghanistan\"]"
   ]
  },
  {
   "cell_type": "code",
   "execution_count": null,
   "metadata": {},
   "outputs": [
    {
     "data": {
      "text/plain": [
       "['iso_numeric',\n",
       " 'e_pop_num',\n",
       " 'e_inc_num',\n",
       " 'e_inc_tbhiv_num',\n",
       " 'e_mort_exc_tbhiv_num',\n",
       " 'e_mort_tbhiv_num',\n",
       " 'e_mort_num']"
      ]
     },
     "execution_count": 13,
     "metadata": {},
     "output_type": "execute_result"
    }
   ],
   "source": [
    "cols = [col for col in tb.columns if \"_num\" in col]\n",
    "cols = [col for col in cols if \"_hi\" not in col]\n",
    "cols = [col for col in cols if \"_lo\" not in col]\n",
    "\n",
    "cols"
   ]
  },
  {
   "cell_type": "code",
   "execution_count": null,
   "metadata": {},
   "outputs": [
    {
     "data": {
      "text/html": [
       "<div>\n",
       "<style scoped>\n",
       "    .dataframe tbody tr th:only-of-type {\n",
       "        vertical-align: middle;\n",
       "    }\n",
       "\n",
       "    .dataframe tbody tr th {\n",
       "        vertical-align: top;\n",
       "    }\n",
       "\n",
       "    .dataframe thead th {\n",
       "        text-align: right;\n",
       "    }\n",
       "</style>\n",
       "<table border=\"1\" class=\"dataframe\">\n",
       "  <thead>\n",
       "    <tr style=\"text-align: right;\">\n",
       "      <th></th>\n",
       "      <th>country</th>\n",
       "      <th>iso2</th>\n",
       "      <th>iso3</th>\n",
       "      <th>iso_numeric</th>\n",
       "      <th>year</th>\n",
       "      <th>measure</th>\n",
       "      <th>unit</th>\n",
       "      <th>age_group</th>\n",
       "      <th>sex</th>\n",
       "      <th>risk_factor</th>\n",
       "      <th>best</th>\n",
       "      <th>lo</th>\n",
       "      <th>hi</th>\n",
       "    </tr>\n",
       "  </thead>\n",
       "  <tbody>\n",
       "    <tr>\n",
       "      <th>0</th>\n",
       "      <td>Afghanistan</td>\n",
       "      <td>AF</td>\n",
       "      <td>AFG</td>\n",
       "      <td>4</td>\n",
       "      <td>2022</td>\n",
       "      <td>inc</td>\n",
       "      <td>num</td>\n",
       "      <td>0-14</td>\n",
       "      <td>a</td>\n",
       "      <td>all</td>\n",
       "      <td>15000</td>\n",
       "      <td>8300</td>\n",
       "      <td>22000</td>\n",
       "    </tr>\n",
       "    <tr>\n",
       "      <th>1</th>\n",
       "      <td>Afghanistan</td>\n",
       "      <td>AF</td>\n",
       "      <td>AFG</td>\n",
       "      <td>4</td>\n",
       "      <td>2022</td>\n",
       "      <td>inc</td>\n",
       "      <td>num</td>\n",
       "      <td>0-14</td>\n",
       "      <td>f</td>\n",
       "      <td>all</td>\n",
       "      <td>7400</td>\n",
       "      <td>2700</td>\n",
       "      <td>12000</td>\n",
       "    </tr>\n",
       "    <tr>\n",
       "      <th>2</th>\n",
       "      <td>Afghanistan</td>\n",
       "      <td>AF</td>\n",
       "      <td>AFG</td>\n",
       "      <td>4</td>\n",
       "      <td>2022</td>\n",
       "      <td>inc</td>\n",
       "      <td>num</td>\n",
       "      <td>0-14</td>\n",
       "      <td>m</td>\n",
       "      <td>all</td>\n",
       "      <td>7900</td>\n",
       "      <td>2800</td>\n",
       "      <td>13000</td>\n",
       "    </tr>\n",
       "    <tr>\n",
       "      <th>3</th>\n",
       "      <td>Afghanistan</td>\n",
       "      <td>AF</td>\n",
       "      <td>AFG</td>\n",
       "      <td>4</td>\n",
       "      <td>2022</td>\n",
       "      <td>inc</td>\n",
       "      <td>num</td>\n",
       "      <td>0-4</td>\n",
       "      <td>f</td>\n",
       "      <td>all</td>\n",
       "      <td>3400</td>\n",
       "      <td>0</td>\n",
       "      <td>8300</td>\n",
       "    </tr>\n",
       "    <tr>\n",
       "      <th>4</th>\n",
       "      <td>Afghanistan</td>\n",
       "      <td>AF</td>\n",
       "      <td>AFG</td>\n",
       "      <td>4</td>\n",
       "      <td>2022</td>\n",
       "      <td>inc</td>\n",
       "      <td>num</td>\n",
       "      <td>0-4</td>\n",
       "      <td>m</td>\n",
       "      <td>all</td>\n",
       "      <td>4000</td>\n",
       "      <td>0</td>\n",
       "      <td>9900</td>\n",
       "    </tr>\n",
       "    <tr>\n",
       "      <th>...</th>\n",
       "      <td>...</td>\n",
       "      <td>...</td>\n",
       "      <td>...</td>\n",
       "      <td>...</td>\n",
       "      <td>...</td>\n",
       "      <td>...</td>\n",
       "      <td>...</td>\n",
       "      <td>...</td>\n",
       "      <td>...</td>\n",
       "      <td>...</td>\n",
       "      <td>...</td>\n",
       "      <td>...</td>\n",
       "      <td>...</td>\n",
       "    </tr>\n",
       "    <tr>\n",
       "      <th>7300</th>\n",
       "      <td>Zimbabwe</td>\n",
       "      <td>ZW</td>\n",
       "      <td>ZWE</td>\n",
       "      <td>716</td>\n",
       "      <td>2022</td>\n",
       "      <td>inc</td>\n",
       "      <td>num</td>\n",
       "      <td>65plus</td>\n",
       "      <td>m</td>\n",
       "      <td>all</td>\n",
       "      <td>1700</td>\n",
       "      <td>0</td>\n",
       "      <td>3800</td>\n",
       "    </tr>\n",
       "    <tr>\n",
       "      <th>7301</th>\n",
       "      <td>Zimbabwe</td>\n",
       "      <td>ZW</td>\n",
       "      <td>ZWE</td>\n",
       "      <td>716</td>\n",
       "      <td>2022</td>\n",
       "      <td>inc</td>\n",
       "      <td>num</td>\n",
       "      <td>all</td>\n",
       "      <td>a</td>\n",
       "      <td>all</td>\n",
       "      <td>33000</td>\n",
       "      <td>22000</td>\n",
       "      <td>45000</td>\n",
       "    </tr>\n",
       "    <tr>\n",
       "      <th>7302</th>\n",
       "      <td>Zimbabwe</td>\n",
       "      <td>ZW</td>\n",
       "      <td>ZWE</td>\n",
       "      <td>716</td>\n",
       "      <td>2022</td>\n",
       "      <td>inc</td>\n",
       "      <td>num</td>\n",
       "      <td>all</td>\n",
       "      <td>a</td>\n",
       "      <td>hiv</td>\n",
       "      <td>20000</td>\n",
       "      <td>11000</td>\n",
       "      <td>31000</td>\n",
       "    </tr>\n",
       "    <tr>\n",
       "      <th>7303</th>\n",
       "      <td>Zimbabwe</td>\n",
       "      <td>ZW</td>\n",
       "      <td>ZWE</td>\n",
       "      <td>716</td>\n",
       "      <td>2022</td>\n",
       "      <td>inc</td>\n",
       "      <td>num</td>\n",
       "      <td>all</td>\n",
       "      <td>f</td>\n",
       "      <td>all</td>\n",
       "      <td>14000</td>\n",
       "      <td>7400</td>\n",
       "      <td>21000</td>\n",
       "    </tr>\n",
       "    <tr>\n",
       "      <th>7304</th>\n",
       "      <td>Zimbabwe</td>\n",
       "      <td>ZW</td>\n",
       "      <td>ZWE</td>\n",
       "      <td>716</td>\n",
       "      <td>2022</td>\n",
       "      <td>inc</td>\n",
       "      <td>num</td>\n",
       "      <td>all</td>\n",
       "      <td>m</td>\n",
       "      <td>all</td>\n",
       "      <td>19000</td>\n",
       "      <td>10000</td>\n",
       "      <td>28000</td>\n",
       "    </tr>\n",
       "  </tbody>\n",
       "</table>\n",
       "<p>7305 rows × 13 columns</p>\n",
       "</div>"
      ],
      "text/plain": [
       "          country iso2 iso3  iso_numeric  year measure unit age_group sex  \\\n",
       "0     Afghanistan   AF  AFG            4  2022     inc  num      0-14   a   \n",
       "1     Afghanistan   AF  AFG            4  2022     inc  num      0-14   f   \n",
       "2     Afghanistan   AF  AFG            4  2022     inc  num      0-14   m   \n",
       "3     Afghanistan   AF  AFG            4  2022     inc  num       0-4   f   \n",
       "4     Afghanistan   AF  AFG            4  2022     inc  num       0-4   m   \n",
       "...           ...  ...  ...          ...   ...     ...  ...       ...  ..   \n",
       "7300     Zimbabwe   ZW  ZWE          716  2022     inc  num    65plus   m   \n",
       "7301     Zimbabwe   ZW  ZWE          716  2022     inc  num       all   a   \n",
       "7302     Zimbabwe   ZW  ZWE          716  2022     inc  num       all   a   \n",
       "7303     Zimbabwe   ZW  ZWE          716  2022     inc  num       all   f   \n",
       "7304     Zimbabwe   ZW  ZWE          716  2022     inc  num       all   m   \n",
       "\n",
       "     risk_factor   best     lo     hi  \n",
       "0            all  15000   8300  22000  \n",
       "1            all   7400   2700  12000  \n",
       "2            all   7900   2800  13000  \n",
       "3            all   3400      0   8300  \n",
       "4            all   4000      0   9900  \n",
       "...          ...    ...    ...    ...  \n",
       "7300         all   1700      0   3800  \n",
       "7301         all  33000  22000  45000  \n",
       "7302         hiv  20000  11000  31000  \n",
       "7303         all  14000   7400  21000  \n",
       "7304         all  19000  10000  28000  \n",
       "\n",
       "[7305 rows x 13 columns]"
      ]
     },
     "execution_count": 15,
     "metadata": {},
     "output_type": "execute_result"
    }
   ],
   "source": [
    "tb_agg = pd.read_csv(\"TB_burden_age_sex_2024-03-25.csv\")\n",
    "tb_agg"
   ]
  },
  {
   "cell_type": "code",
   "execution_count": null,
   "metadata": {},
   "outputs": [
    {
     "data": {
      "text/plain": [
       "215"
      ]
     },
     "execution_count": 48,
     "metadata": {},
     "output_type": "execute_result"
    }
   ],
   "source": [
    "len(tb_agg[\"country\"].unique())"
   ]
  },
  {
   "cell_type": "code",
   "execution_count": null,
   "metadata": {},
   "outputs": [
    {
     "data": {
      "text/plain": [
       "{'Netherlands Antilles', 'Serbia & Montenegro'}"
      ]
     },
     "execution_count": 51,
     "metadata": {},
     "output_type": "execute_result"
    }
   ],
   "source": [
    "agg_cols = set(tb_agg[\"country\"].unique())\n",
    "\n",
    "col_set = set(tb[\"country\"].unique())\n",
    "\n",
    "agg_cols ^ col_set"
   ]
  },
  {
   "cell_type": "code",
   "execution_count": null,
   "metadata": {},
   "outputs": [
    {
     "name": "stderr",
     "output_type": "stream",
     "text": [
      "/var/folders/st/m8tx8cq17pzccky_vq84z0yh0000gn/T/ipykernel_62132/1162959419.py:1: FutureWarning: Series.__getitem__ treating keys as positions is deprecated. In a future version, integer keys will always be treated as labels (consistent with DataFrame behavior). To access a value by position, use `ser.iloc[pos]`\n",
      "  tb_agg.groupby([\"country\"])[\"age_group\"].unique()[0]\n"
     ]
    },
    {
     "data": {
      "text/plain": [
       "array(['0-14', '0-4', '15-24', '15plus', '18plus', '25-34', '35-44',\n",
       "       '45-54', '5-14', '55-64', '65plus', 'all'], dtype=object)"
      ]
     },
     "execution_count": 58,
     "metadata": {},
     "output_type": "execute_result"
    }
   ],
   "source": [
    "tb_agg.groupby([\"country\"])[\"age_group\"].unique()[0]"
   ]
  },
  {
   "cell_type": "code",
   "execution_count": null,
   "metadata": {},
   "outputs": [
    {
     "data": {
      "text/plain": [
       "array(['0-14', '0-4', '15-24', '15plus', '18plus', '25-34', '35-44',\n",
       "       '45-54', '5-14', '55-64', '65plus', 'all'], dtype=object)"
      ]
     },
     "execution_count": 59,
     "metadata": {},
     "output_type": "execute_result"
    }
   ],
   "source": [
    "tb_agg[\"age_group\"].unique()"
   ]
  },
  {
   "cell_type": "code",
   "execution_count": null,
   "metadata": {},
   "outputs": [
    {
     "data": {
      "text/plain": [
       "array(['a', 'f', 'm'], dtype=object)"
      ]
     },
     "execution_count": 60,
     "metadata": {},
     "output_type": "execute_result"
    }
   ],
   "source": [
    "tb_agg[\"sex\"].unique()"
   ]
  },
  {
   "cell_type": "code",
   "execution_count": null,
   "metadata": {},
   "outputs": [
    {
     "data": {
      "text/plain": [
       "country                     Afghanistan\n",
       "iso2                                 AF\n",
       "iso3                                AFG\n",
       "iso_numeric                           4\n",
       "g_whoregion                         EMR\n",
       "year                               2000\n",
       "e_pop_num                      19542982\n",
       "e_inc_100k                        190.0\n",
       "e_inc_100k_lo                     122.0\n",
       "e_inc_100k_hi                     271.0\n",
       "e_inc_num                         37000\n",
       "e_inc_num_lo                      24000\n",
       "e_inc_num_hi                      53000\n",
       "e_tbhiv_prct                       0.02\n",
       "e_tbhiv_prct_lo                     0.0\n",
       "e_tbhiv_prct_hi                    0.05\n",
       "e_inc_tbhiv_100k                   0.03\n",
       "e_inc_tbhiv_100k_lo                 0.0\n",
       "e_inc_tbhiv_100k_hi                 0.1\n",
       "e_inc_tbhiv_num                     6.0\n",
       "e_inc_tbhiv_num_lo                  1.0\n",
       "e_inc_tbhiv_num_hi                 19.0\n",
       "e_mort_exc_tbhiv_100k              68.0\n",
       "e_mort_exc_tbhiv_100k_lo           39.0\n",
       "e_mort_exc_tbhiv_100k_hi          104.0\n",
       "e_mort_exc_tbhiv_num            13000.0\n",
       "e_mort_exc_tbhiv_num_lo          7600.0\n",
       "e_mort_exc_tbhiv_num_hi         20000.0\n",
       "e_mort_tbhiv_100k                  0.17\n",
       "e_mort_tbhiv_100k_lo                0.1\n",
       "e_mort_tbhiv_100k_hi               0.26\n",
       "e_mort_tbhiv_num                   33.0\n",
       "e_mort_tbhiv_num_lo                19.0\n",
       "e_mort_tbhiv_num_hi                51.0\n",
       "e_mort_100k                        68.0\n",
       "e_mort_100k_lo                     39.0\n",
       "e_mort_100k_hi                    104.0\n",
       "e_mort_num                      13000.0\n",
       "e_mort_num_lo                    7600.0\n",
       "e_mort_num_hi                   20000.0\n",
       "cfr                                0.37\n",
       "cfr_lo                             0.17\n",
       "cfr_hi                             0.61\n",
       "cfr_pct                            37.0\n",
       "cfr_pct_lo                         17.0\n",
       "cfr_pct_hi                         61.0\n",
       "c_newinc_100k                      36.0\n",
       "c_cdr                              19.0\n",
       "c_cdr_lo                           13.0\n",
       "c_cdr_hi                           30.0\n",
       "Name: 0, dtype: object"
      ]
     },
     "execution_count": 72,
     "metadata": {},
     "output_type": "execute_result"
    }
   ],
   "source": [
    "tb.loc[(tb[\"country\"] == \"Afghanistan\")].loc[0, :]"
   ]
  },
  {
   "cell_type": "markdown",
   "metadata": {},
   "source": [
    "## Building Cards to display global statistics"
   ]
  },
  {
   "cell_type": "code",
   "execution_count": 15,
   "metadata": {},
   "outputs": [],
   "source": [
    "import pandas as pd\n",
    "import os\n",
    "import plotly.express as px"
   ]
  },
  {
   "cell_type": "code",
   "execution_count": 18,
   "metadata": {},
   "outputs": [],
   "source": [
    "os.chdir('/Users/hinabandukwala/Documents/MDS/DSCI-532_2024_1_TBtracker')"
   ]
  },
  {
   "cell_type": "code",
   "execution_count": 19,
   "metadata": {},
   "outputs": [],
   "source": [
    "tb_data = pd.read_csv(\"data/preprocessing/tb_data.csv\")"
   ]
  },
  {
   "cell_type": "code",
   "execution_count": 59,
   "metadata": {},
   "outputs": [
    {
     "data": {
      "text/plain": [
       "0.030523628687045154"
      ]
     },
     "execution_count": 59,
     "metadata": {},
     "output_type": "execute_result"
    }
   ],
   "source": [
    "global_stat = tb_data.loc[tb_data[\"year\"] == 2022][\"mortality_rate\"].sum()\n",
    "global_stat"
   ]
  },
  {
   "cell_type": "code",
   "execution_count": 60,
   "metadata": {},
   "outputs": [],
   "source": [
    "def update_global_stats(selected_year, selected_type, selected_value):\n",
    "\n",
    "    if selected_type == \"absolute\" and selected_value == \"incidence\":\n",
    "        y_column = \"incidence_total\"\n",
    "\n",
    "    elif selected_type == \"relative\" and selected_value == \"incidence\":\n",
    "        y_column = \"incidence_rate\"\n",
    "\n",
    "    elif selected_type == \"absolute\" and selected_value == \"mortality\":\n",
    "        y_column = \"mortality_total\"\n",
    "\n",
    "    elif selected_type == \"relative\" and selected_value == \"mortality\":\n",
    "        y_column = \"mortality_rate\"\n",
    "\n",
    "    else:\n",
    "        y_column = \"incidence_total\"\n",
    "\n",
    "    tb_data[\"year_dt\"] = pd.to_datetime(tb_data[\"year\"], format='%Y')\n",
    "    year = pd.Timestamp(str(selected_year))\n",
    "    previous = year - pd.DateOffset(years=1)\n",
    "    next = year + pd.DateOffset(years=1)\n",
    "\n",
    "    global_stat = tb_data.loc[tb_data[\"year\"] == selected_year][y_column].sum()\n",
    "    \n",
    "    if selected_year != 2000:\n",
    "        global_stat_previous = tb_data.loc[tb_data[\"year_dt\"] == previous][y_column].sum()\n",
    "        diff_previous = round(((global_stat - global_stat_previous)/ global_stat_previous) * 100, 1)\n",
    "    else:\n",
    "        diff_previous = None\n",
    "\n",
    "    if selected_year != 2022:\n",
    "        global_stat_next = tb_data.loc[tb_data[\"year_dt\"] == next][y_column].sum()\n",
    "        diff_next =  round(((global_stat - global_stat_next)/ global_stat_next) * 100, 1)\n",
    "    else:\n",
    "        diff_next = None \n",
    "        global_stat_next = None\n",
    "\n",
    "    if diff_previous is not None:\n",
    "        diff_previous_color = \"blue\" if diff_previous and diff_previous > 0 else \"red\"\n",
    "        diff_previous_text = f\"+{diff_previous}%\" if diff_previous and diff_previous > 0 else f\"{diff_previous}%\"\n",
    "    else:\n",
    "        diff_previous_text = 'data not available'\n",
    "        diff_previous_color = 'black' \n",
    "\n",
    "    if diff_next is not None:\n",
    "        diff_next_color = \"blue\" if diff_next and diff_next > 0 else \"red\"\n",
    "        diff_next_text = f\"+{diff_next}%\" if diff_next and diff_next > 0 else f\"{diff_next}%\"\n",
    "    else:\n",
    "        diff_next_text = 'data not available'\n",
    "        diff_next_color = 'black'\n",
    "    \n",
    "    return f\"{global_stat:.2f}\", diff_previous_text, diff_next_text, diff_previous_color, diff_next_color "
   ]
  },
  {
   "cell_type": "code",
   "execution_count": 50,
   "metadata": {},
   "outputs": [],
   "source": [
    "def update_global_stats2(selected_year, selected_type, selected_value):\n",
    "    y_column_mapping = {\n",
    "        (\"absolute\", \"incidence\"): \"incidence_total\",\n",
    "        (\"relative\", \"incidence\"): \"incidence_rate\",\n",
    "        (\"absolute\", \"mortality\"): \"mortality_total\",\n",
    "        (\"relative\", \"mortality\"): \"mortality_rate\",\n",
    "    }\n",
    "    y_column = y_column_mapping.get((selected_type, selected_value), \"incidence_total\")\n",
    "\n",
    "    tb_data[\"year_dt\"] = pd.to_datetime(tb_data[\"year\"], format='%Y')\n",
    "    selected_year_dt = pd.Timestamp(str(selected_year))\n",
    "    previous_year_dt = selected_year_dt - pd.DateOffset(years=1)\n",
    "    next_year_dt = selected_year_dt + pd.DateOffset(years=1)\n",
    "\n",
    "    global_stat = tb_data.loc[tb_data[\"year\"] == selected_year, y_column].sum()\n",
    "    diff_previous = diff_next = None  # Default values for differences\n",
    "    diff_previous_color = diff_next_color = 'black'  # Default text color\n",
    "\n",
    "    if selected_year > 2000:\n",
    "        global_stat_previous = tb_data.loc[tb_data[\"year_dt\"] == previous_year_dt, y_column].sum()\n",
    "        if global_stat_previous:\n",
    "            diff_previous = round(((global_stat - global_stat_previous) / global_stat_previous) * 100, 1)\n",
    "            diff_previous_color = \"blue\" if diff_previous > 0 else \"red\"\n",
    "    \n",
    "    if selected_year < 2022:\n",
    "        global_stat_next = tb_data.loc[tb_data[\"year_dt\"] == next_year_dt, y_column].sum()\n",
    "        if global_stat_next:\n",
    "            diff_next = round(((global_stat - global_stat_next) / global_stat_next) * 100, 1)\n",
    "            diff_next_color = \"blue\" if diff_next > 0 else \"red\"\n",
    "\n",
    "    diff_previous_text = f\"{diff_previous:+.1f}%\" if diff_previous is not None else \"data not available\"\n",
    "    diff_next_text = f\"{diff_next:+.1f}%\" if diff_next is not None else \"data not available\"\n",
    "\n",
    "    return f\"{global_stat:.2f}\", diff_previous_text, diff_next_text, diff_previous_color, diff_next_color\n",
    "\n"
   ]
  },
  {
   "cell_type": "code",
   "execution_count": 56,
   "metadata": {},
   "outputs": [
    {
     "data": {
      "text/plain": [
       "(0.032867554104100624, '-3.9%', '-4.9%', 'red', 'red')"
      ]
     },
     "execution_count": 56,
     "metadata": {},
     "output_type": "execute_result"
    }
   ],
   "source": [
    "update_global_stats2(2019, \"relative\", \"mortality\")"
   ]
  },
  {
   "cell_type": "code",
   "execution_count": 57,
   "metadata": {},
   "outputs": [
    {
     "data": {
      "text/plain": [
       "(0.45882556390807117, '-0.7%', 'data not available', 'red', 'black')"
      ]
     },
     "execution_count": 57,
     "metadata": {},
     "output_type": "execute_result"
    }
   ],
   "source": [
    "update_global_stats2(2022, \"relative\", \"incidence\")"
   ]
  },
  {
   "cell_type": "code",
   "execution_count": 53,
   "metadata": {},
   "outputs": [
    {
     "data": {
      "text/plain": [
       "(29815063, 'data not available', '-0.9%', 'black', 'red')"
      ]
     },
     "execution_count": 53,
     "metadata": {},
     "output_type": "execute_result"
    }
   ],
   "source": [
    "update_global_stats2(2000, \"absolute\", \"incidence\")"
   ]
  },
  {
   "cell_type": "code",
   "execution_count": 38,
   "metadata": {},
   "outputs": [
    {
     "data": {
      "text/plain": [
       "(22778707, '-1.4%', '+0.7%', 'red', 'blue')"
      ]
     },
     "execution_count": 38,
     "metadata": {},
     "output_type": "execute_result"
    }
   ],
   "source": [
    "update_global_stats(2019, \"absolute\", \"incidence\")"
   ]
  },
  {
   "cell_type": "code",
   "execution_count": 39,
   "metadata": {},
   "outputs": [
    {
     "data": {
      "text/plain": [
       "(24101148, '+3.4%', 'data not available', 'blue', 'black')"
      ]
     },
     "execution_count": 39,
     "metadata": {},
     "output_type": "execute_result"
    }
   ],
   "source": [
    "update_global_stats(2022, \"absolute\", \"incidence\")"
   ]
  },
  {
   "cell_type": "code",
   "execution_count": 40,
   "metadata": {},
   "outputs": [
    {
     "data": {
      "text/plain": [
       "(29815063, 'data not available', '-0.9%', 'black', 'red')"
      ]
     },
     "execution_count": 40,
     "metadata": {},
     "output_type": "execute_result"
    }
   ],
   "source": [
    "update_global_stats(2000, \"absolute\", \"incidence\")"
   ]
  },
  {
   "cell_type": "code",
   "execution_count": null,
   "metadata": {},
   "outputs": [],
   "source": [
    "def update_global_stats(selected_year, selected_type, selected_value):\n",
    "\n",
    "    if selected_type == \"absolute\" and selected_value == \"incidence\":\n",
    "        y_column = \"incidence_total\"\n",
    "\n",
    "    elif selected_type == \"relative\" and selected_value == \"incidence\":\n",
    "        y_column = \"incidence_rate\"\n",
    "\n",
    "    elif selected_type == \"absolute\" and selected_value == \"mortality\":\n",
    "        y_column = \"mortality_total\"\n",
    "\n",
    "    elif selected_type == \"relative\" and selected_value == \"mortality\":\n",
    "        y_column = \"mortality_rate\"\n",
    "\n",
    "    else:\n",
    "        y_column = \"incidence_total\"\n",
    "\n",
    "    year = pd.Timestamp(str(selected_year))\n",
    "    previous = year - pd.DateOffset(years=1)\n",
    "    next = year + pd.DateOffset(years=1)\n",
    "\n",
    "    global_stat = tb_data.loc[tb_data[\"year\"] == selected_year][y_column].sum()\n",
    "    global_stat_previous = tb_data.loc[tb_data[\"year_dt\"] == previous][y_column].sum()\n",
    "    global_stat_next = tb_data.loc[tb_data[\"year_dt\"] == next][y_column].sum()\n",
    "    \n",
    "    if year != 2000:\n",
    "        diff_previous = round(((global_stat - global_stat_previous)/ global_stat_previous) * 100, 1)\n",
    "    else:\n",
    "        diff_previous = None\n",
    "\n",
    "    if year != 2022:\n",
    "        diff_next =  round(((global_stat - global_stat_next)/ global_stat_next) * 100, 1)\n",
    "    else:\n",
    "        diff_next = None \n",
    "    \n",
    "    return global_stat, diff_previous, diff_next\n"
   ]
  }
 ],
 "metadata": {
  "kernelspec": {
   "display_name": "531",
   "language": "python",
   "name": "python3"
  },
  "language_info": {
   "codemirror_mode": {
    "name": "ipython",
    "version": 3
   },
   "file_extension": ".py",
   "mimetype": "text/x-python",
   "name": "python",
   "nbconvert_exporter": "python",
   "pygments_lexer": "ipython3",
   "version": "3.12.2"
  }
 },
 "nbformat": 4,
 "nbformat_minor": 2
}
